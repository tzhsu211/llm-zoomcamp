{
 "cells": [
  {
   "cell_type": "code",
   "execution_count": 1,
   "id": "bbef5f3e-497b-4049-8ba8-4d40c1c6ab30",
   "metadata": {},
   "outputs": [
    {
     "name": "stderr",
     "output_type": "stream",
     "text": [
      "/home/codespace/.local/lib/python3.12/site-packages/tqdm/auto.py:21: TqdmWarning: IProgress not found. Please update jupyter and ipywidgets. See https://ipywidgets.readthedocs.io/en/stable/user_install.html\n",
      "  from .autonotebook import tqdm as notebook_tqdm\n"
     ]
    }
   ],
   "source": [
    "import json\n",
    "import pandas as pd\n",
    "from elasticsearch import Elasticsearch\n",
    "from tqdm.auto import tqdm"
   ]
  },
  {
   "cell_type": "code",
   "execution_count": 2,
   "id": "b99a8b4c-6ff1-4bcd-862d-f7d24824cd21",
   "metadata": {},
   "outputs": [],
   "source": [
    "from sentence_transformers import SentenceTransformer"
   ]
  },
  {
   "cell_type": "code",
   "execution_count": 3,
   "id": "c57bb753-2809-41d1-9d30-780743ccd2c6",
   "metadata": {},
   "outputs": [],
   "source": [
    "embed_model = 'multi-qa-MiniLM-L6-cos-v1'"
   ]
  },
  {
   "cell_type": "code",
   "execution_count": 4,
   "id": "6ac25610-9466-4cf0-9623-8adab564eb8e",
   "metadata": {},
   "outputs": [
    {
     "name": "stderr",
     "output_type": "stream",
     "text": [
      "/home/codespace/.local/lib/python3.12/site-packages/transformers/tokenization_utils_base.py:1601: FutureWarning: `clean_up_tokenization_spaces` was not set. It will be set to `True` by default. This behavior will be depracted in transformers v4.45, and will be then set to `False` by default. For more details check this issue: https://github.com/huggingface/transformers/issues/31884\n",
      "  warnings.warn(\n"
     ]
    }
   ],
   "source": [
    "model = SentenceTransformer(embed_model)"
   ]
  },
  {
   "cell_type": "code",
   "execution_count": 72,
   "id": "2d8e3223-48c6-45ea-b111-65af8da25756",
   "metadata": {},
   "outputs": [],
   "source": [
    "with open('documents-with-ids.json', 'rt') as f:\n",
    "    doc = json.load(f)"
   ]
  },
  {
   "cell_type": "code",
   "execution_count": 73,
   "id": "61511941-0216-452d-a5d3-47881a853014",
   "metadata": {},
   "outputs": [
    {
     "data": {
      "text/plain": [
       "{'text': \"The purpose of this document is to capture frequently asked technical questions\\nThe exact day and hour of the course will be 15th Jan 2024 at 17h00. The course will start with the first  “Office Hours'' live.1\\nSubscribe to course public Google Calendar (it works from Desktop only).\\nRegister before the course starts using this link.\\nJoin the course Telegram channel with announcements.\\nDon’t forget to register in DataTalks.Club's Slack and join the channel.\",\n",
       " 'section': 'General course-related questions',\n",
       " 'question': 'Course - When will the course start?',\n",
       " 'course': 'data-engineering-zoomcamp',\n",
       " 'id': 'c02e79ef'}"
      ]
     },
     "execution_count": 73,
     "metadata": {},
     "output_type": "execute_result"
    }
   ],
   "source": [
    "doc[0]"
   ]
  },
  {
   "cell_type": "code",
   "execution_count": 74,
   "id": "3a4dd16c-8fa7-4354-8817-a634de7bd771",
   "metadata": {},
   "outputs": [
    {
     "name": "stderr",
     "output_type": "stream",
     "text": [
      "100%|████████████████████████████████████████████████████████████████████████████████████████████████████████████████████████████████████████████████| 948/948 [01:53<00:00,  8.34it/s]\n"
     ]
    }
   ],
   "source": [
    "for i in tqdm(doc):\n",
    "    qt = i['question'] +' '+ i['text']\n",
    "    i['questionv'] = model.encode(i['question'])\n",
    "    i['textv'] = model.encode(i['text'])\n",
    "    i['vqt'] = model.encode(qt)\n"
   ]
  },
  {
   "cell_type": "code",
   "execution_count": 8,
   "id": "22be98ce-b8e6-43a0-96e4-3c442e535017",
   "metadata": {},
   "outputs": [],
   "source": [
    "esclient = Elasticsearch('http://localhost:9200')\n",
    "es_index = 'search06'"
   ]
  },
  {
   "cell_type": "code",
   "execution_count": 101,
   "id": "0cdacb24-27e2-47d9-b6b0-73eba1d9924f",
   "metadata": {},
   "outputs": [
    {
     "data": {
      "text/plain": [
       "ObjectApiResponse({'name': '665708c9977e', 'cluster_name': 'docker-cluster', 'cluster_uuid': 'WnEHTYf-RpWzVRr-pw_r8A', 'version': {'number': '8.9.0', 'build_flavor': 'default', 'build_type': 'docker', 'build_hash': '8aa461beb06aa0417a231c345a1b8c38fb498a0d', 'build_date': '2023-07-19T14:43:58.555259655Z', 'build_snapshot': False, 'lucene_version': '9.7.0', 'minimum_wire_compatibility_version': '7.17.0', 'minimum_index_compatibility_version': '7.0.0'}, 'tagline': 'You Know, for Search'})"
      ]
     },
     "execution_count": 101,
     "metadata": {},
     "output_type": "execute_result"
    }
   ],
   "source": [
    "esclient.info()"
   ]
  },
  {
   "cell_type": "code",
   "execution_count": 102,
   "id": "71ae2b12-e7cb-44b1-a146-ebe8e6f79820",
   "metadata": {},
   "outputs": [],
   "source": [
    "es_setting = {\n",
    "    'settings':{\n",
    "        'number_of_shards':1,\n",
    "        'number_of_replicas':0\n",
    "    },\n",
    "    'mappings':{\n",
    "        'properties':{\n",
    "            'text':{'type':'text'},\n",
    "            'section':{'type':'text'},\n",
    "            'question':{'type':'text'},\n",
    "            'course':{'type':'keyword'},\n",
    "            'id':{'type':'keyword'},\n",
    "            'questionv':{'type':'dense_vector',\n",
    "                        'dims':384,\n",
    "                         'index': True,\n",
    "                         'similarity': 'cosine'\n",
    "                        },\n",
    "            'textv':{'type':'dense_vector',\n",
    "                        'dims':384,\n",
    "                         'index': True,\n",
    "                         'similarity': 'cosine'\n",
    "                        },\n",
    "            'vqt':{'type':'dense_vector',\n",
    "                        'dims':384,\n",
    "                         'index': True,\n",
    "                         'similarity': 'cosine'\n",
    "                        },\n",
    "            \n",
    "        }\n",
    "    }\n",
    "}"
   ]
  },
  {
   "cell_type": "code",
   "execution_count": 103,
   "id": "e1ccb880-7e69-4b8c-b244-0a10b20c8596",
   "metadata": {},
   "outputs": [
    {
     "data": {
      "text/plain": [
       "ObjectApiResponse({'acknowledged': True, 'shards_acknowledged': True, 'index': 'search06'})"
      ]
     },
     "execution_count": 103,
     "metadata": {},
     "output_type": "execute_result"
    }
   ],
   "source": [
    "esclient.indices.delete(index=es_index, ignore_unavailable=True)\n",
    "esclient.indices.create(index= es_index, body = es_setting)"
   ]
  },
  {
   "cell_type": "code",
   "execution_count": 104,
   "id": "f0056870-dd89-4524-bea1-9cadde90bb29",
   "metadata": {},
   "outputs": [
    {
     "name": "stderr",
     "output_type": "stream",
     "text": [
      "100%|████████████████████████████████████████████████████████████████████████████████████████████████████████████████████████████████████████████████| 948/948 [00:26<00:00, 35.36it/s]\n"
     ]
    }
   ],
   "source": [
    "for i in tqdm(doc):\n",
    "    esclient.index(index= es_index, document=i)"
   ]
  },
  {
   "cell_type": "markdown",
   "id": "9d79807c-73d1-4d17-9493-2c409117430e",
   "metadata": {},
   "source": [
    "# hybrid search"
   ]
  },
  {
   "cell_type": "code",
   "execution_count": 13,
   "id": "b5c62b55-2702-491e-a9be-06eebb2ca160",
   "metadata": {},
   "outputs": [],
   "source": [
    "query_sample = 'I just found the course. Can I join it?'\n",
    "course = 'data-engineering-zoomcamp'\n",
    "query_v = model.encode(query_sample)"
   ]
  },
  {
   "cell_type": "code",
   "execution_count": 78,
   "id": "7e61c7aa-9ff2-420d-b99f-924d1b691067",
   "metadata": {},
   "outputs": [],
   "source": [
    "knn_search = {\n",
    "    'field': 'textv',\n",
    "    'query_vector' :query_v,\n",
    "    'k':5,\n",
    "    'num_candidates': 10000,\n",
    "    'boost':.5,\n",
    "    'filter':{\n",
    "                'term':{\n",
    "                    'course': course\n",
    "                }\n",
    "            }\n",
    "}"
   ]
  },
  {
   "cell_type": "code",
   "execution_count": 79,
   "id": "05bc6974-f5c7-42b5-96a6-09eb9d0edf86",
   "metadata": {},
   "outputs": [],
   "source": [
    "keyword_search = {\n",
    "    'bool':{\n",
    "        'must':{\n",
    "            'multi_match':{\n",
    "                'query': query_sample,\n",
    "                'fields': ['text', 'question', 'section'],\n",
    "                'type':'best_fields',\n",
    "                'boost': .5,\n",
    "            }\n",
    "        },\n",
    "        'filter':{\n",
    "            'term':{\n",
    "                'course': course\n",
    "            }\n",
    "        }\n",
    "    }\n",
    "}"
   ]
  },
  {
   "cell_type": "code",
   "execution_count": 105,
   "id": "ccaa8348-17d3-4784-a044-2fefbe85f39c",
   "metadata": {},
   "outputs": [],
   "source": [
    "response = esclient.search(index= es_index, query = keyword_search, knn = knn_search, size=5)"
   ]
  },
  {
   "cell_type": "code",
   "execution_count": 106,
   "id": "0a52dbca-0d89-4237-a77a-e538133bdcd6",
   "metadata": {},
   "outputs": [
    {
     "name": "stdout",
     "output_type": "stream",
     "text": [
      "7842b56a Yes, even if you don't register, you're still eligible to submit the homeworks.\n",
      "Be aware, however, that there will be deadlines for turning in the final projects. So don't leave everything for the last minute.\n",
      "a482086d Yes, we will keep all the materials after the course finishes, so you can follow the course at your own pace after it finishes.\n",
      "You can also continue looking at the homeworks and continue preparing for the next cohort. I guess you can also start working on your final capstone project.\n",
      "63394d91 You can start by installing and setting up all the dependencies and requirements:\n",
      "Google cloud account\n",
      "Google Cloud SDK\n",
      "Python 3 (installed with Anaconda)\n",
      "Terraform\n",
      "Git\n",
      "Look over the prerequisites and syllabus to see if you are comfortable with these subjects.\n",
      "eb56ae98 Yes, the slack channel remains open and you can ask questions there. But always sDocker containers exit code w search the channel first and second, check the FAQ (this document), most likely all your questions are already answered here.\n",
      "You can also tag the bot @ZoomcampQABot to help you conduct the search, but don’t rely on its answers 100%, it is pretty good though.\n",
      "c02e79ef The purpose of this document is to capture frequently asked technical questions\n",
      "The exact day and hour of the course will be 15th Jan 2024 at 17h00. The course will start with the first  “Office Hours'' live.1\n",
      "Subscribe to course public Google Calendar (it works from Desktop only).\n",
      "Register before the course starts using this link.\n",
      "Join the course Telegram channel with announcements.\n",
      "Don’t forget to register in DataTalks.Club's Slack and join the channel.\n"
     ]
    }
   ],
   "source": [
    "for hits in response[\"hits\"][\"hits\"]:\n",
    "    print(hits['_source']['id'], hits['_source']['text'])"
   ]
  },
  {
   "cell_type": "code",
   "execution_count": 59,
   "id": "51be0e85-d2fd-4ea4-9108-1d0a7b6241c8",
   "metadata": {},
   "outputs": [],
   "source": [
    "def hybrid_search(field, query, course):\n",
    "\n",
    "    query_v = model.encode(query)\n",
    "    \n",
    "    knn_search_hybird = {\n",
    "        'field': field,\n",
    "        'query_vector' :query_v,\n",
    "        'k':5,\n",
    "        'num_candidates': 10000,\n",
    "        'boost': 0.5,\n",
    "        'filter':{\n",
    "            'term':{\n",
    "                'course': course\n",
    "            }\n",
    "        }\n",
    "    }\n",
    "\n",
    "    keyword_search_hybrid = {\n",
    "        'bool':{\n",
    "            'must':{\n",
    "                'multi_match':{\n",
    "                    'query': query,\n",
    "                    'fields': ['text', 'question', 'section'],\n",
    "                    'type':'best_fields',\n",
    "                    'boost':0.5\n",
    "                }\n",
    "            },\n",
    "            'filter':{\n",
    "                'term':{\n",
    "                    'course': course\n",
    "                }\n",
    "            }\n",
    "        }\n",
    "    }\n",
    "\n",
    "    search_query = {\n",
    "        'knn': knn_search_hybird,\n",
    "        'query':keyword_search_hybrid,\n",
    "        'size':5,\n",
    "        '_source':['id', 'course', 'section', 'question', 'text']       \n",
    "    }\n",
    "\n",
    "    response = esclient.search(index = es_index, body= search_query)\n",
    "\n",
    "    result = []\n",
    "    for hits in response['hits']['hits']:\n",
    "        result.append(hits['_source'])\n",
    "    return result\n",
    "    "
   ]
  },
  {
   "cell_type": "code",
   "execution_count": 107,
   "id": "b508f33b-24b1-4e0e-bfc4-5e60d419de1b",
   "metadata": {},
   "outputs": [
    {
     "data": {
      "text/plain": [
       "[{'text': 'Yes, the slack channel remains open and you can ask questions there. But always sDocker containers exit code w search the channel first and second, check the FAQ (this document), most likely all your questions are already answered here.\\nYou can also tag the bot @ZoomcampQABot to help you conduct the search, but don’t rely on its answers 100%, it is pretty good though.',\n",
       "  'section': 'General course-related questions',\n",
       "  'question': 'Course - Can I get support if I take the course in the self-paced mode?',\n",
       "  'course': 'data-engineering-zoomcamp',\n",
       "  'id': 'eb56ae98'},\n",
       " {'text': 'You can start by installing and setting up all the dependencies and requirements:\\nGoogle cloud account\\nGoogle Cloud SDK\\nPython 3 (installed with Anaconda)\\nTerraform\\nGit\\nLook over the prerequisites and syllabus to see if you are comfortable with these subjects.',\n",
       "  'section': 'General course-related questions',\n",
       "  'question': 'Course - What can I do before the course starts?',\n",
       "  'course': 'data-engineering-zoomcamp',\n",
       "  'id': '63394d91'},\n",
       " {'text': 'Yes, we will keep all the materials after the course finishes, so you can follow the course at your own pace after it finishes.\\nYou can also continue looking at the homeworks and continue preparing for the next cohort. I guess you can also start working on your final capstone project.',\n",
       "  'section': 'General course-related questions',\n",
       "  'question': 'Course - Can I follow the course after it finishes?',\n",
       "  'course': 'data-engineering-zoomcamp',\n",
       "  'id': 'a482086d'},\n",
       " {'text': 'Star the repo! Share it with friends if you find it useful ❣️\\nCreate a PR if you see you can improve the text or the structure of the repository.',\n",
       "  'section': 'General course-related questions',\n",
       "  'question': 'How can we contribute to the course?',\n",
       "  'course': 'data-engineering-zoomcamp',\n",
       "  'id': '2f19301f'},\n",
       " {'text': \"Yes, even if you don't register, you're still eligible to submit the homeworks.\\nBe aware, however, that there will be deadlines for turning in the final projects. So don't leave everything for the last minute.\",\n",
       "  'section': 'General course-related questions',\n",
       "  'question': 'Course - Can I still join the course after the start date?',\n",
       "  'course': 'data-engineering-zoomcamp',\n",
       "  'id': '7842b56a'}]"
      ]
     },
     "execution_count": 107,
     "metadata": {},
     "output_type": "execute_result"
    }
   ],
   "source": [
    "hybrid_search('questionv', 'How can I get the course schedule?', 'data-engineering-zoomcamp')"
   ]
  },
  {
   "cell_type": "code",
   "execution_count": 35,
   "id": "30ef14de-a885-4130-bce7-7dd6d65dabb3",
   "metadata": {},
   "outputs": [],
   "source": [
    "df_ground_truth = pd.read_csv('ground-truth-data.csv')"
   ]
  },
  {
   "cell_type": "code",
   "execution_count": 36,
   "id": "07b71c49-fcea-4ca5-8963-5ec207ab26fb",
   "metadata": {},
   "outputs": [
    {
     "data": {
      "text/html": [
       "<div>\n",
       "<style scoped>\n",
       "    .dataframe tbody tr th:only-of-type {\n",
       "        vertical-align: middle;\n",
       "    }\n",
       "\n",
       "    .dataframe tbody tr th {\n",
       "        vertical-align: top;\n",
       "    }\n",
       "\n",
       "    .dataframe thead th {\n",
       "        text-align: right;\n",
       "    }\n",
       "</style>\n",
       "<table border=\"1\" class=\"dataframe\">\n",
       "  <thead>\n",
       "    <tr style=\"text-align: right;\">\n",
       "      <th></th>\n",
       "      <th>question</th>\n",
       "      <th>course</th>\n",
       "      <th>document</th>\n",
       "    </tr>\n",
       "  </thead>\n",
       "  <tbody>\n",
       "    <tr>\n",
       "      <th>0</th>\n",
       "      <td>When does the course begin?</td>\n",
       "      <td>data-engineering-zoomcamp</td>\n",
       "      <td>c02e79ef</td>\n",
       "    </tr>\n",
       "    <tr>\n",
       "      <th>1</th>\n",
       "      <td>How can I get the course schedule?</td>\n",
       "      <td>data-engineering-zoomcamp</td>\n",
       "      <td>c02e79ef</td>\n",
       "    </tr>\n",
       "    <tr>\n",
       "      <th>2</th>\n",
       "      <td>What is the link for course registration?</td>\n",
       "      <td>data-engineering-zoomcamp</td>\n",
       "      <td>c02e79ef</td>\n",
       "    </tr>\n",
       "    <tr>\n",
       "      <th>3</th>\n",
       "      <td>How can I receive course announcements?</td>\n",
       "      <td>data-engineering-zoomcamp</td>\n",
       "      <td>c02e79ef</td>\n",
       "    </tr>\n",
       "    <tr>\n",
       "      <th>4</th>\n",
       "      <td>Where do I join the Slack channel?</td>\n",
       "      <td>data-engineering-zoomcamp</td>\n",
       "      <td>c02e79ef</td>\n",
       "    </tr>\n",
       "  </tbody>\n",
       "</table>\n",
       "</div>"
      ],
      "text/plain": [
       "                                    question                     course  \\\n",
       "0                When does the course begin?  data-engineering-zoomcamp   \n",
       "1         How can I get the course schedule?  data-engineering-zoomcamp   \n",
       "2  What is the link for course registration?  data-engineering-zoomcamp   \n",
       "3    How can I receive course announcements?  data-engineering-zoomcamp   \n",
       "4         Where do I join the Slack channel?  data-engineering-zoomcamp   \n",
       "\n",
       "   document  \n",
       "0  c02e79ef  \n",
       "1  c02e79ef  \n",
       "2  c02e79ef  \n",
       "3  c02e79ef  \n",
       "4  c02e79ef  "
      ]
     },
     "execution_count": 36,
     "metadata": {},
     "output_type": "execute_result"
    }
   ],
   "source": [
    "df_ground_truth.head()"
   ]
  },
  {
   "cell_type": "code",
   "execution_count": 37,
   "id": "211dee6d-84e8-42dc-bbdc-39c5e3707530",
   "metadata": {},
   "outputs": [],
   "source": [
    "groud_truth = df_ground_truth.to_dict(orient='records')"
   ]
  },
  {
   "cell_type": "code",
   "execution_count": 39,
   "id": "ca2bdce5-8201-47a7-ab57-572c8b5cb08a",
   "metadata": {},
   "outputs": [
    {
     "data": {
      "text/plain": [
       "{'question': 'When does the course begin?',\n",
       " 'course': 'data-engineering-zoomcamp',\n",
       " 'document': 'c02e79ef'}"
      ]
     },
     "execution_count": 39,
     "metadata": {},
     "output_type": "execute_result"
    }
   ],
   "source": [
    "groud_truth[0]"
   ]
  },
  {
   "cell_type": "code",
   "execution_count": 40,
   "id": "d06cfc50-930d-4eae-bdee-479bda28c724",
   "metadata": {},
   "outputs": [],
   "source": [
    "def hit_rate(data):\n",
    "    cnt =0\n",
    "    for i in data:\n",
    "        if True in i:\n",
    "            cnt+=1\n",
    "\n",
    "    return cnt/len(data)"
   ]
  },
  {
   "cell_type": "code",
   "execution_count": 57,
   "id": "80db6b51-b8c3-4f29-a977-a08cf9c00d33",
   "metadata": {},
   "outputs": [],
   "source": [
    "def mrr(data):\n",
    "    score = 0.0\n",
    "\n",
    "    for i in data:\n",
    "        for j in range(len(i)):\n",
    "            if i[j] == True:\n",
    "                score += 1/(j+1)\n",
    "\n",
    "    return score/len(data)"
   ]
  },
  {
   "cell_type": "code",
   "execution_count": 84,
   "id": "13b2c878-26ee-4ef1-96bd-a623da36073e",
   "metadata": {},
   "outputs": [],
   "source": [
    "def evaluation(field, ground_truth, search_func):\n",
    "    relevance_total=[]\n",
    "\n",
    "    for q in tqdm(ground_truth):\n",
    "        doc_id = q['document']\n",
    "        result = search_func(field, q['question'], q['course'])\n",
    "        relevance = [doc_id==d['id'] for d in result]\n",
    "        relevance_total.append(relevance)\n",
    "\n",
    "    return {\n",
    "        'hit_rate': hit_rate(relevance_total),\n",
    "        'mrr':mrr(relevance_total)\n",
    "        }\n",
    "    "
   ]
  },
  {
   "cell_type": "code",
   "execution_count": 85,
   "id": "b735a8b4-d1dc-49ca-9a5d-afe0216fbd5e",
   "metadata": {},
   "outputs": [
    {
     "name": "stderr",
     "output_type": "stream",
     "text": [
      "100%|██████████████████████████████████████████████████████████████████████████████████████████████████████████████████████████████████████████████| 4627/4627 [01:46<00:00, 43.52it/s]\n"
     ]
    },
    {
     "data": {
      "text/plain": [
       "{'hit_rate': 0.9234925437648585, 'mrr': 0.8461710251422809}"
      ]
     },
     "execution_count": 85,
     "metadata": {},
     "output_type": "execute_result"
    }
   ],
   "source": [
    "evaluation('textv', groud_truth, hybrid_search)"
   ]
  },
  {
   "cell_type": "code",
   "execution_count": 86,
   "id": "aa9f2340-b45d-4958-8aca-fa27b0be7325",
   "metadata": {},
   "outputs": [
    {
     "name": "stderr",
     "output_type": "stream",
     "text": [
      "100%|██████████████████████████████████████████████████████████████████████████████████████████████████████████████████████████████████████████████| 4627/4627 [01:46<00:00, 43.45it/s]\n"
     ]
    },
    {
     "data": {
      "text/plain": [
       "{'hit_rate': 0.9234925437648585, 'mrr': 0.8481665586052878}"
      ]
     },
     "execution_count": 86,
     "metadata": {},
     "output_type": "execute_result"
    }
   ],
   "source": [
    "evaluation('questionv', groud_truth, hybrid_search)"
   ]
  },
  {
   "cell_type": "code",
   "execution_count": 87,
   "id": "43616243-4f32-47bf-8954-de3db1c1f874",
   "metadata": {},
   "outputs": [
    {
     "name": "stderr",
     "output_type": "stream",
     "text": [
      "100%|██████████████████████████████████████████████████████████████████████████████████████████████████████████████████████████████████████████████| 4627/4627 [01:46<00:00, 43.34it/s]\n"
     ]
    },
    {
     "data": {
      "text/plain": [
       "{'hit_rate': 0.9250054030689432, 'mrr': 0.8506231539514445}"
      ]
     },
     "execution_count": 87,
     "metadata": {},
     "output_type": "execute_result"
    }
   ],
   "source": [
    "evaluation('vqt', groud_truth, hybrid_search)"
   ]
  },
  {
   "cell_type": "markdown",
   "id": "cf3c1d25-5cfd-49da-9b9e-54df7a583085",
   "metadata": {},
   "source": [
    "# Rank\n",
    "\n",
    "Need to upgrade to elasticsearch 8.9.0 or above to 'rank'"
   ]
  },
  {
   "cell_type": "code",
   "execution_count": 92,
   "id": "62017c38-110a-471a-ab67-0244b4707b89",
   "metadata": {},
   "outputs": [],
   "source": [
    "def hybrid_search_rrf(field, query, course):\n",
    "\n",
    "    query_v = model.encode(query)\n",
    "    \n",
    "    knn_search_hybird = {\n",
    "        'field': field,\n",
    "        'query_vector' :query_v,\n",
    "        'k':5,\n",
    "        'num_candidates': 10000,\n",
    "        'boost': 0.5,\n",
    "        'filter':{\n",
    "            'term':{\n",
    "                'course': course\n",
    "            }\n",
    "        }\n",
    "    }\n",
    "\n",
    "    keyword_search_hybrid = {\n",
    "        'bool':{\n",
    "            'must':{\n",
    "                'multi_match':{\n",
    "                    'query': query,\n",
    "                    'fields': ['text', 'question', 'section'],\n",
    "                    'type':'best_fields',\n",
    "                    'boost':0.5\n",
    "                }\n",
    "            },\n",
    "            'filter':{\n",
    "                'term':{\n",
    "                    'course': course\n",
    "                }\n",
    "            }\n",
    "        }\n",
    "    }\n",
    "\n",
    "    search_query = {\n",
    "        'knn': knn_search_hybird,\n",
    "        'query':keyword_search_hybrid,\n",
    "        'size':5,\n",
    "        \"rank\":{\n",
    "            \"rrf\":{}\n",
    "        },\n",
    "        '_source':['id', 'course', 'section', 'question', 'text'],\n",
    "    }\n",
    "\n",
    "    response = esclient.search(index = es_index, body= search_query)\n",
    "\n",
    "    result = []\n",
    "    for hits in response['hits']['hits']:\n",
    "        result.append(hits['_source'])\n",
    "    return result"
   ]
  },
  {
   "cell_type": "markdown",
   "id": "532714ce-a600-461e-a7ab-4cc0f043483a",
   "metadata": {},
   "source": [
    "## RRF"
   ]
  },
  {
   "cell_type": "code",
   "execution_count": 97,
   "id": "a9bdc30f-0c37-4df2-9875-ece418b8ba83",
   "metadata": {},
   "outputs": [],
   "source": [
    "def compute_rrf(rank, k = 60):\n",
    "    return 1/(k+rank)"
   ]
  },
  {
   "cell_type": "code",
   "execution_count": 116,
   "id": "43952be4-abb3-478a-a3e3-ce01a86868bc",
   "metadata": {},
   "outputs": [],
   "source": [
    "def elasticsearch_hybrid_rrf(field, query, course, k =60):\n",
    "    query_v = model.encode(query)\n",
    "    \n",
    "    knn_search_hybird = {\n",
    "        'field': field,\n",
    "        'query_vector' :query_v,\n",
    "        'k':5,\n",
    "        'num_candidates': 10000,\n",
    "        'boost': 0.5,\n",
    "        'filter':{\n",
    "            'term':{\n",
    "                'course': course\n",
    "            }\n",
    "        }\n",
    "    }\n",
    "\n",
    "    keyword_search_hybrid = {\n",
    "        'bool':{\n",
    "            'must':{\n",
    "                'multi_match':{\n",
    "                    'query': query,\n",
    "                    'fields': ['text', 'question', 'section'],\n",
    "                    'type':'best_fields',\n",
    "                    'boost':0.5\n",
    "                }\n",
    "            },\n",
    "            'filter':{\n",
    "                'term':{\n",
    "                    'course': course\n",
    "                }\n",
    "            }\n",
    "        }\n",
    "    }\n",
    "\n",
    "\n",
    "    knn_result = esclient.search(index= es_index, knn = knn_search_hybird, size = 10)['hits']['hits']\n",
    "\n",
    "    keyword_result = esclient.search(index=es_index, query=keyword_search_hybrid, size = 10)['hits']['hits']\n",
    "\n",
    "    rrf_score = {}\n",
    "\n",
    "    for rank, hit in enumerate(knn_result):\n",
    "        doc_id = hit['_id']\n",
    "        rrf_score[doc_id] = compute_rrf(rank+1, k)\n",
    "\n",
    "    for rank, hit in enumerate(keyword_result):\n",
    "        doc_id = hit['_id']\n",
    "        if doc_id in rrf_score:\n",
    "            rrf_score[doc_id]+= compute_rrf(rank+1, k)\n",
    "        else:\n",
    "            rrf_score[doc_id] = compute_rrf(rank+1, k)\n",
    "\n",
    "    reranked_docs = sorted(rrf_score.items(),key = lambda x:x[1], reverse= True)\n",
    "\n",
    "    final_results = []\n",
    "    for doc_id, score in reranked_docs[:5]:\n",
    "        doc = esclient.get(index = es_index, id = doc_id)\n",
    "        final_results.append(doc['_source'])\n",
    "    \n",
    "\n",
    "    return final_results"
   ]
  },
  {
   "cell_type": "code",
   "execution_count": 117,
   "id": "c38f7c48-d223-4a0e-98d5-5cedbc9c0460",
   "metadata": {},
   "outputs": [
    {
     "name": "stderr",
     "output_type": "stream",
     "text": [
      "100%|██████████████████████████████████████████████████████████████████████████████████████████████████████████████████████████████████████████████| 4627/4627 [03:01<00:00, 25.55it/s]\n"
     ]
    },
    {
     "data": {
      "text/plain": [
       "{'hit_rate': 0.9546142208774584, 'mrr': 0.8727000936531963}"
      ]
     },
     "execution_count": 117,
     "metadata": {},
     "output_type": "execute_result"
    }
   ],
   "source": [
    "evaluation('vqt', groud_truth, elasticsearch_hybrid_rrf)"
   ]
  },
  {
   "cell_type": "code",
   "execution_count": null,
   "id": "9847143a-926c-4e29-b1c8-a2a1cd8f3728",
   "metadata": {},
   "outputs": [],
   "source": []
  }
 ],
 "metadata": {
  "kernelspec": {
   "display_name": "Python 3 (ipykernel)",
   "language": "python",
   "name": "python3"
  },
  "language_info": {
   "codemirror_mode": {
    "name": "ipython",
    "version": 3
   },
   "file_extension": ".py",
   "mimetype": "text/x-python",
   "name": "python",
   "nbconvert_exporter": "python",
   "pygments_lexer": "ipython3",
   "version": "3.12.1"
  }
 },
 "nbformat": 4,
 "nbformat_minor": 5
}
