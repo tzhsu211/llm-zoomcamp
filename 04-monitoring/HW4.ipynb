{
 "cells": [
  {
   "cell_type": "code",
   "execution_count": 1,
   "id": "ad55cd70-24c3-46a9-8b17-1fe2a881e451",
   "metadata": {},
   "outputs": [
    {
     "name": "stderr",
     "output_type": "stream",
     "text": [
      "/home/codespace/.local/lib/python3.12/site-packages/tqdm/auto.py:21: TqdmWarning: IProgress not found. Please update jupyter and ipywidgets. See https://ipywidgets.readthedocs.io/en/stable/user_install.html\n",
      "  from .autonotebook import tqdm as notebook_tqdm\n"
     ]
    }
   ],
   "source": [
    "import pandas as pd\n",
    "from tqdm.auto import tqdm\n",
    "import numpy as np"
   ]
  },
  {
   "cell_type": "code",
   "execution_count": 2,
   "id": "c8956525-aee3-4623-8680-592d171c8ce5",
   "metadata": {},
   "outputs": [],
   "source": [
    "github_url = 'https://github.com/DataTalksClub/llm-zoomcamp/blob/main/04-monitoring/data/results-gpt4o-mini.csv'\n",
    "url = f'{github_url}?raw=1'\n",
    "df = pd.read_csv(url)"
   ]
  },
  {
   "cell_type": "code",
   "execution_count": 3,
   "id": "4fd47504-2d9d-492a-9e9b-cb34a27cbb35",
   "metadata": {},
   "outputs": [
    {
     "data": {
      "text/html": [
       "<div>\n",
       "<style scoped>\n",
       "    .dataframe tbody tr th:only-of-type {\n",
       "        vertical-align: middle;\n",
       "    }\n",
       "\n",
       "    .dataframe tbody tr th {\n",
       "        vertical-align: top;\n",
       "    }\n",
       "\n",
       "    .dataframe thead th {\n",
       "        text-align: right;\n",
       "    }\n",
       "</style>\n",
       "<table border=\"1\" class=\"dataframe\">\n",
       "  <thead>\n",
       "    <tr style=\"text-align: right;\">\n",
       "      <th></th>\n",
       "      <th>answer_llm</th>\n",
       "      <th>answer_orig</th>\n",
       "      <th>document</th>\n",
       "      <th>question</th>\n",
       "      <th>course</th>\n",
       "    </tr>\n",
       "  </thead>\n",
       "  <tbody>\n",
       "    <tr>\n",
       "      <th>0</th>\n",
       "      <td>You can sign up for the course by visiting the...</td>\n",
       "      <td>Machine Learning Zoomcamp FAQ\\nThe purpose of ...</td>\n",
       "      <td>0227b872</td>\n",
       "      <td>Where can I sign up for the course?</td>\n",
       "      <td>machine-learning-zoomcamp</td>\n",
       "    </tr>\n",
       "    <tr>\n",
       "      <th>1</th>\n",
       "      <td>You can sign up using the link provided in the...</td>\n",
       "      <td>Machine Learning Zoomcamp FAQ\\nThe purpose of ...</td>\n",
       "      <td>0227b872</td>\n",
       "      <td>Can you provide a link to sign up?</td>\n",
       "      <td>machine-learning-zoomcamp</td>\n",
       "    </tr>\n",
       "    <tr>\n",
       "      <th>2</th>\n",
       "      <td>Yes, there is an FAQ for the Machine Learning ...</td>\n",
       "      <td>Machine Learning Zoomcamp FAQ\\nThe purpose of ...</td>\n",
       "      <td>0227b872</td>\n",
       "      <td>Is there an FAQ for this Machine Learning course?</td>\n",
       "      <td>machine-learning-zoomcamp</td>\n",
       "    </tr>\n",
       "    <tr>\n",
       "      <th>3</th>\n",
       "      <td>The context does not provide any specific info...</td>\n",
       "      <td>Machine Learning Zoomcamp FAQ\\nThe purpose of ...</td>\n",
       "      <td>0227b872</td>\n",
       "      <td>Does this course have a GitHub repository for ...</td>\n",
       "      <td>machine-learning-zoomcamp</td>\n",
       "    </tr>\n",
       "    <tr>\n",
       "      <th>4</th>\n",
       "      <td>To structure your questions and answers for th...</td>\n",
       "      <td>Machine Learning Zoomcamp FAQ\\nThe purpose of ...</td>\n",
       "      <td>0227b872</td>\n",
       "      <td>How can I structure my questions and answers f...</td>\n",
       "      <td>machine-learning-zoomcamp</td>\n",
       "    </tr>\n",
       "  </tbody>\n",
       "</table>\n",
       "</div>"
      ],
      "text/plain": [
       "                                          answer_llm  \\\n",
       "0  You can sign up for the course by visiting the...   \n",
       "1  You can sign up using the link provided in the...   \n",
       "2  Yes, there is an FAQ for the Machine Learning ...   \n",
       "3  The context does not provide any specific info...   \n",
       "4  To structure your questions and answers for th...   \n",
       "\n",
       "                                         answer_orig  document  \\\n",
       "0  Machine Learning Zoomcamp FAQ\\nThe purpose of ...  0227b872   \n",
       "1  Machine Learning Zoomcamp FAQ\\nThe purpose of ...  0227b872   \n",
       "2  Machine Learning Zoomcamp FAQ\\nThe purpose of ...  0227b872   \n",
       "3  Machine Learning Zoomcamp FAQ\\nThe purpose of ...  0227b872   \n",
       "4  Machine Learning Zoomcamp FAQ\\nThe purpose of ...  0227b872   \n",
       "\n",
       "                                            question  \\\n",
       "0                Where can I sign up for the course?   \n",
       "1                 Can you provide a link to sign up?   \n",
       "2  Is there an FAQ for this Machine Learning course?   \n",
       "3  Does this course have a GitHub repository for ...   \n",
       "4  How can I structure my questions and answers f...   \n",
       "\n",
       "                      course  \n",
       "0  machine-learning-zoomcamp  \n",
       "1  machine-learning-zoomcamp  \n",
       "2  machine-learning-zoomcamp  \n",
       "3  machine-learning-zoomcamp  \n",
       "4  machine-learning-zoomcamp  "
      ]
     },
     "execution_count": 3,
     "metadata": {},
     "output_type": "execute_result"
    }
   ],
   "source": [
    "df.head()"
   ]
  },
  {
   "cell_type": "code",
   "execution_count": 4,
   "id": "68709154-69c9-448c-b5dc-1c298d3f91f6",
   "metadata": {},
   "outputs": [],
   "source": [
    "df = df.iloc[:300]"
   ]
  },
  {
   "cell_type": "markdown",
   "id": "fd364f9a-b481-4439-a554-841b529a93c7",
   "metadata": {},
   "source": [
    "# Q1. Getting the embeddings model\n",
    "##### Now, get the embeddings model multi-qa-mpnet-base-dot-v1 from the Sentence Transformer library\n",
    "\n",
    "##### Note: this is not the same model as in HW3\n",
    "\n",
    "##### from sentence_transformers import SentenceTransformer\n",
    "##### embedding_model = SentenceTransformer(model_name)\n",
    "##### Create the embeddings for the first LLM answer:\n",
    "\n",
    "##### answer_llm = df.iloc[0].answer_llm\n",
    "##### What's the first value of the resulting vector?"
   ]
  },
  {
   "cell_type": "code",
   "execution_count": 5,
   "id": "28eb90dc-4526-4b13-bf39-dc7d70672094",
   "metadata": {},
   "outputs": [],
   "source": [
    "model_name = 'multi-qa-mpnet-base-dot-v1'"
   ]
  },
  {
   "cell_type": "code",
   "execution_count": 6,
   "id": "349f0913-029e-4db6-8456-b09458a9e7c8",
   "metadata": {},
   "outputs": [],
   "source": [
    "from sentence_transformers import SentenceTransformer"
   ]
  },
  {
   "cell_type": "code",
   "execution_count": 7,
   "id": "ce01028a-e5c7-44f9-ba08-f56f603bbb0e",
   "metadata": {},
   "outputs": [
    {
     "name": "stderr",
     "output_type": "stream",
     "text": [
      "/usr/local/python/3.12.1/lib/python3.12/site-packages/transformers/tokenization_utils_base.py:1601: FutureWarning: `clean_up_tokenization_spaces` was not set. It will be set to `True` by default. This behavior will be depracted in transformers v4.45, and will be then set to `False` by default. For more details check this issue: https://github.com/huggingface/transformers/issues/31884\n",
      "  warnings.warn(\n"
     ]
    }
   ],
   "source": [
    "embedding_model = SentenceTransformer(model_name)"
   ]
  },
  {
   "cell_type": "code",
   "execution_count": 8,
   "id": "c4427da4-3def-4227-ab72-afa31d09bb28",
   "metadata": {},
   "outputs": [],
   "source": [
    "ans1= embedding_model.encode(df.iloc[0].answer_llm)[0]"
   ]
  },
  {
   "cell_type": "code",
   "execution_count": 9,
   "id": "ba291bd6-bb29-4bac-be7a-a5990cc252ca",
   "metadata": {},
   "outputs": [
    {
     "data": {
      "text/plain": [
       "np.float32(-0.42244655)"
      ]
     },
     "execution_count": 9,
     "metadata": {},
     "output_type": "execute_result"
    }
   ],
   "source": [
    "ans1"
   ]
  },
  {
   "cell_type": "markdown",
   "id": "07970352-35da-4c9c-a316-b6cb9b22f190",
   "metadata": {},
   "source": [
    "# Q2. Computing the dot product\n",
    "##### Now for each answer pair, let's create embeddings and compute dot product between them\n",
    "\n",
    "##### We will put the results (scores) into the evaluations list\n",
    "\n",
    "##### What's the 75% percentile of the score?\n",
    "\n",
    "* 21.67\n",
    "* 31.67\n",
    "* 41.67\n",
    "* 51.67"
   ]
  },
  {
   "cell_type": "code",
   "execution_count": 10,
   "id": "ab5755b3-25a6-4345-bfc6-1afe5cd35422",
   "metadata": {},
   "outputs": [
    {
     "name": "stderr",
     "output_type": "stream",
     "text": [
      "100%|█████████████████████████████████████████████████████████████████████████████████████████████████████████████████████████████████████████████████| 300/300 [01:02<00:00,  4.83it/s]\n"
     ]
    }
   ],
   "source": [
    "embedding_llm = []\n",
    "for i in tqdm(df['answer_llm']):\n",
    "    em = embedding_model.encode(i)\n",
    "    embedding_llm.append(em)"
   ]
  },
  {
   "cell_type": "code",
   "execution_count": 11,
   "id": "5ddb877e-63b1-4c4a-a211-058dd28c04c6",
   "metadata": {},
   "outputs": [
    {
     "name": "stderr",
     "output_type": "stream",
     "text": [
      "100%|█████████████████████████████████████████████████████████████████████████████████████████████████████████████████████████████████████████████████| 300/300 [01:28<00:00,  3.39it/s]\n"
     ]
    }
   ],
   "source": [
    "embedding_orig = []\n",
    "for i in tqdm(df['answer_orig']):\n",
    "    em = embedding_model.encode(i)\n",
    "    embedding_orig.append(em)\n",
    "    "
   ]
  },
  {
   "cell_type": "code",
   "execution_count": 13,
   "id": "0821a5e9-c0d5-469f-9cc2-7ddac6972f7e",
   "metadata": {},
   "outputs": [],
   "source": [
    "df['answer_llm_v'] = embedding_llm"
   ]
  },
  {
   "cell_type": "code",
   "execution_count": 14,
   "id": "21d8a8fd-0b81-4e07-90ae-a55c58533f04",
   "metadata": {},
   "outputs": [],
   "source": [
    "df['answer_orig_v'] = embedding_orig"
   ]
  },
  {
   "cell_type": "code",
   "execution_count": 15,
   "id": "5ee4df96-d531-4c05-ac0e-77bde718636c",
   "metadata": {},
   "outputs": [
    {
     "data": {
      "text/html": [
       "<div>\n",
       "<style scoped>\n",
       "    .dataframe tbody tr th:only-of-type {\n",
       "        vertical-align: middle;\n",
       "    }\n",
       "\n",
       "    .dataframe tbody tr th {\n",
       "        vertical-align: top;\n",
       "    }\n",
       "\n",
       "    .dataframe thead th {\n",
       "        text-align: right;\n",
       "    }\n",
       "</style>\n",
       "<table border=\"1\" class=\"dataframe\">\n",
       "  <thead>\n",
       "    <tr style=\"text-align: right;\">\n",
       "      <th></th>\n",
       "      <th>answer_llm</th>\n",
       "      <th>answer_orig</th>\n",
       "      <th>document</th>\n",
       "      <th>question</th>\n",
       "      <th>course</th>\n",
       "      <th>answer_llm_v</th>\n",
       "      <th>answer_orig_v</th>\n",
       "    </tr>\n",
       "  </thead>\n",
       "  <tbody>\n",
       "    <tr>\n",
       "      <th>0</th>\n",
       "      <td>You can sign up for the course by visiting the...</td>\n",
       "      <td>Machine Learning Zoomcamp FAQ\\nThe purpose of ...</td>\n",
       "      <td>0227b872</td>\n",
       "      <td>Where can I sign up for the course?</td>\n",
       "      <td>machine-learning-zoomcamp</td>\n",
       "      <td>[-0.42244655, -0.22485626, -0.3240584, -0.2847...</td>\n",
       "      <td>[-0.030214058, -0.3444381, -0.28076234, 0.0615...</td>\n",
       "    </tr>\n",
       "    <tr>\n",
       "      <th>1</th>\n",
       "      <td>You can sign up using the link provided in the...</td>\n",
       "      <td>Machine Learning Zoomcamp FAQ\\nThe purpose of ...</td>\n",
       "      <td>0227b872</td>\n",
       "      <td>Can you provide a link to sign up?</td>\n",
       "      <td>machine-learning-zoomcamp</td>\n",
       "      <td>[-0.38068146, 0.047848288, -0.31510952, -0.210...</td>\n",
       "      <td>[-0.030214058, -0.3444381, -0.28076234, 0.0615...</td>\n",
       "    </tr>\n",
       "    <tr>\n",
       "      <th>2</th>\n",
       "      <td>Yes, there is an FAQ for the Machine Learning ...</td>\n",
       "      <td>Machine Learning Zoomcamp FAQ\\nThe purpose of ...</td>\n",
       "      <td>0227b872</td>\n",
       "      <td>Is there an FAQ for this Machine Learning course?</td>\n",
       "      <td>machine-learning-zoomcamp</td>\n",
       "      <td>[-0.05881373, -0.33736944, -0.36157572, 0.0217...</td>\n",
       "      <td>[-0.030214058, -0.3444381, -0.28076234, 0.0615...</td>\n",
       "    </tr>\n",
       "    <tr>\n",
       "      <th>3</th>\n",
       "      <td>The context does not provide any specific info...</td>\n",
       "      <td>Machine Learning Zoomcamp FAQ\\nThe purpose of ...</td>\n",
       "      <td>0227b872</td>\n",
       "      <td>Does this course have a GitHub repository for ...</td>\n",
       "      <td>machine-learning-zoomcamp</td>\n",
       "      <td>[-0.22753648, -0.008134096, -0.21719913, -0.11...</td>\n",
       "      <td>[-0.030214058, -0.3444381, -0.28076234, 0.0615...</td>\n",
       "    </tr>\n",
       "    <tr>\n",
       "      <th>4</th>\n",
       "      <td>To structure your questions and answers for th...</td>\n",
       "      <td>Machine Learning Zoomcamp FAQ\\nThe purpose of ...</td>\n",
       "      <td>0227b872</td>\n",
       "      <td>How can I structure my questions and answers f...</td>\n",
       "      <td>machine-learning-zoomcamp</td>\n",
       "      <td>[-0.06969386, -0.5005093, -0.1659844, 0.306661...</td>\n",
       "      <td>[-0.030214058, -0.3444381, -0.28076234, 0.0615...</td>\n",
       "    </tr>\n",
       "  </tbody>\n",
       "</table>\n",
       "</div>"
      ],
      "text/plain": [
       "                                          answer_llm  \\\n",
       "0  You can sign up for the course by visiting the...   \n",
       "1  You can sign up using the link provided in the...   \n",
       "2  Yes, there is an FAQ for the Machine Learning ...   \n",
       "3  The context does not provide any specific info...   \n",
       "4  To structure your questions and answers for th...   \n",
       "\n",
       "                                         answer_orig  document  \\\n",
       "0  Machine Learning Zoomcamp FAQ\\nThe purpose of ...  0227b872   \n",
       "1  Machine Learning Zoomcamp FAQ\\nThe purpose of ...  0227b872   \n",
       "2  Machine Learning Zoomcamp FAQ\\nThe purpose of ...  0227b872   \n",
       "3  Machine Learning Zoomcamp FAQ\\nThe purpose of ...  0227b872   \n",
       "4  Machine Learning Zoomcamp FAQ\\nThe purpose of ...  0227b872   \n",
       "\n",
       "                                            question  \\\n",
       "0                Where can I sign up for the course?   \n",
       "1                 Can you provide a link to sign up?   \n",
       "2  Is there an FAQ for this Machine Learning course?   \n",
       "3  Does this course have a GitHub repository for ...   \n",
       "4  How can I structure my questions and answers f...   \n",
       "\n",
       "                      course  \\\n",
       "0  machine-learning-zoomcamp   \n",
       "1  machine-learning-zoomcamp   \n",
       "2  machine-learning-zoomcamp   \n",
       "3  machine-learning-zoomcamp   \n",
       "4  machine-learning-zoomcamp   \n",
       "\n",
       "                                        answer_llm_v  \\\n",
       "0  [-0.42244655, -0.22485626, -0.3240584, -0.2847...   \n",
       "1  [-0.38068146, 0.047848288, -0.31510952, -0.210...   \n",
       "2  [-0.05881373, -0.33736944, -0.36157572, 0.0217...   \n",
       "3  [-0.22753648, -0.008134096, -0.21719913, -0.11...   \n",
       "4  [-0.06969386, -0.5005093, -0.1659844, 0.306661...   \n",
       "\n",
       "                                       answer_orig_v  \n",
       "0  [-0.030214058, -0.3444381, -0.28076234, 0.0615...  \n",
       "1  [-0.030214058, -0.3444381, -0.28076234, 0.0615...  \n",
       "2  [-0.030214058, -0.3444381, -0.28076234, 0.0615...  \n",
       "3  [-0.030214058, -0.3444381, -0.28076234, 0.0615...  \n",
       "4  [-0.030214058, -0.3444381, -0.28076234, 0.0615...  "
      ]
     },
     "execution_count": 15,
     "metadata": {},
     "output_type": "execute_result"
    }
   ],
   "source": [
    "df.head()"
   ]
  },
  {
   "cell_type": "code",
   "execution_count": 16,
   "id": "011ca205-e4d1-41db-a352-a1173a6b695f",
   "metadata": {},
   "outputs": [
    {
     "name": "stderr",
     "output_type": "stream",
     "text": [
      "100%|██████████████████████████████████████████████████████████████████████████████████████████████████████████████████████████████████████████████| 300/300 [00:00<00:00, 63534.02it/s]\n"
     ]
    }
   ],
   "source": [
    "similarity = []\n",
    "for i in tqdm(range(300)):\n",
    "    sim = df['answer_llm_v'][i].dot(df['answer_orig_v'][i])\n",
    "    similarity.append(sim)"
   ]
  },
  {
   "cell_type": "code",
   "execution_count": 17,
   "id": "6ae50fe7-bbc6-44f1-9545-52696c09ba23",
   "metadata": {},
   "outputs": [],
   "source": [
    "df['similarity'] = similarity"
   ]
  },
  {
   "cell_type": "code",
   "execution_count": 18,
   "id": "8f2f2d82-de97-4b60-90a4-f5180a1852fc",
   "metadata": {},
   "outputs": [
    {
     "data": {
      "text/html": [
       "<div>\n",
       "<style scoped>\n",
       "    .dataframe tbody tr th:only-of-type {\n",
       "        vertical-align: middle;\n",
       "    }\n",
       "\n",
       "    .dataframe tbody tr th {\n",
       "        vertical-align: top;\n",
       "    }\n",
       "\n",
       "    .dataframe thead th {\n",
       "        text-align: right;\n",
       "    }\n",
       "</style>\n",
       "<table border=\"1\" class=\"dataframe\">\n",
       "  <thead>\n",
       "    <tr style=\"text-align: right;\">\n",
       "      <th></th>\n",
       "      <th>answer_llm</th>\n",
       "      <th>answer_orig</th>\n",
       "      <th>document</th>\n",
       "      <th>question</th>\n",
       "      <th>course</th>\n",
       "      <th>answer_llm_v</th>\n",
       "      <th>answer_orig_v</th>\n",
       "      <th>similarity</th>\n",
       "    </tr>\n",
       "  </thead>\n",
       "  <tbody>\n",
       "    <tr>\n",
       "      <th>0</th>\n",
       "      <td>You can sign up for the course by visiting the...</td>\n",
       "      <td>Machine Learning Zoomcamp FAQ\\nThe purpose of ...</td>\n",
       "      <td>0227b872</td>\n",
       "      <td>Where can I sign up for the course?</td>\n",
       "      <td>machine-learning-zoomcamp</td>\n",
       "      <td>[-0.42244655, -0.22485626, -0.3240584, -0.2847...</td>\n",
       "      <td>[-0.030214058, -0.3444381, -0.28076234, 0.0615...</td>\n",
       "      <td>17.515987</td>\n",
       "    </tr>\n",
       "    <tr>\n",
       "      <th>1</th>\n",
       "      <td>You can sign up using the link provided in the...</td>\n",
       "      <td>Machine Learning Zoomcamp FAQ\\nThe purpose of ...</td>\n",
       "      <td>0227b872</td>\n",
       "      <td>Can you provide a link to sign up?</td>\n",
       "      <td>machine-learning-zoomcamp</td>\n",
       "      <td>[-0.38068146, 0.047848288, -0.31510952, -0.210...</td>\n",
       "      <td>[-0.030214058, -0.3444381, -0.28076234, 0.0615...</td>\n",
       "      <td>13.418402</td>\n",
       "    </tr>\n",
       "    <tr>\n",
       "      <th>2</th>\n",
       "      <td>Yes, there is an FAQ for the Machine Learning ...</td>\n",
       "      <td>Machine Learning Zoomcamp FAQ\\nThe purpose of ...</td>\n",
       "      <td>0227b872</td>\n",
       "      <td>Is there an FAQ for this Machine Learning course?</td>\n",
       "      <td>machine-learning-zoomcamp</td>\n",
       "      <td>[-0.05881373, -0.33736944, -0.36157572, 0.0217...</td>\n",
       "      <td>[-0.030214058, -0.3444381, -0.28076234, 0.0615...</td>\n",
       "      <td>25.313255</td>\n",
       "    </tr>\n",
       "    <tr>\n",
       "      <th>3</th>\n",
       "      <td>The context does not provide any specific info...</td>\n",
       "      <td>Machine Learning Zoomcamp FAQ\\nThe purpose of ...</td>\n",
       "      <td>0227b872</td>\n",
       "      <td>Does this course have a GitHub repository for ...</td>\n",
       "      <td>machine-learning-zoomcamp</td>\n",
       "      <td>[-0.22753648, -0.008134096, -0.21719913, -0.11...</td>\n",
       "      <td>[-0.030214058, -0.3444381, -0.28076234, 0.0615...</td>\n",
       "      <td>12.147415</td>\n",
       "    </tr>\n",
       "    <tr>\n",
       "      <th>4</th>\n",
       "      <td>To structure your questions and answers for th...</td>\n",
       "      <td>Machine Learning Zoomcamp FAQ\\nThe purpose of ...</td>\n",
       "      <td>0227b872</td>\n",
       "      <td>How can I structure my questions and answers f...</td>\n",
       "      <td>machine-learning-zoomcamp</td>\n",
       "      <td>[-0.06969386, -0.5005093, -0.1659844, 0.306661...</td>\n",
       "      <td>[-0.030214058, -0.3444381, -0.28076234, 0.0615...</td>\n",
       "      <td>18.747736</td>\n",
       "    </tr>\n",
       "  </tbody>\n",
       "</table>\n",
       "</div>"
      ],
      "text/plain": [
       "                                          answer_llm  \\\n",
       "0  You can sign up for the course by visiting the...   \n",
       "1  You can sign up using the link provided in the...   \n",
       "2  Yes, there is an FAQ for the Machine Learning ...   \n",
       "3  The context does not provide any specific info...   \n",
       "4  To structure your questions and answers for th...   \n",
       "\n",
       "                                         answer_orig  document  \\\n",
       "0  Machine Learning Zoomcamp FAQ\\nThe purpose of ...  0227b872   \n",
       "1  Machine Learning Zoomcamp FAQ\\nThe purpose of ...  0227b872   \n",
       "2  Machine Learning Zoomcamp FAQ\\nThe purpose of ...  0227b872   \n",
       "3  Machine Learning Zoomcamp FAQ\\nThe purpose of ...  0227b872   \n",
       "4  Machine Learning Zoomcamp FAQ\\nThe purpose of ...  0227b872   \n",
       "\n",
       "                                            question  \\\n",
       "0                Where can I sign up for the course?   \n",
       "1                 Can you provide a link to sign up?   \n",
       "2  Is there an FAQ for this Machine Learning course?   \n",
       "3  Does this course have a GitHub repository for ...   \n",
       "4  How can I structure my questions and answers f...   \n",
       "\n",
       "                      course  \\\n",
       "0  machine-learning-zoomcamp   \n",
       "1  machine-learning-zoomcamp   \n",
       "2  machine-learning-zoomcamp   \n",
       "3  machine-learning-zoomcamp   \n",
       "4  machine-learning-zoomcamp   \n",
       "\n",
       "                                        answer_llm_v  \\\n",
       "0  [-0.42244655, -0.22485626, -0.3240584, -0.2847...   \n",
       "1  [-0.38068146, 0.047848288, -0.31510952, -0.210...   \n",
       "2  [-0.05881373, -0.33736944, -0.36157572, 0.0217...   \n",
       "3  [-0.22753648, -0.008134096, -0.21719913, -0.11...   \n",
       "4  [-0.06969386, -0.5005093, -0.1659844, 0.306661...   \n",
       "\n",
       "                                       answer_orig_v  similarity  \n",
       "0  [-0.030214058, -0.3444381, -0.28076234, 0.0615...   17.515987  \n",
       "1  [-0.030214058, -0.3444381, -0.28076234, 0.0615...   13.418402  \n",
       "2  [-0.030214058, -0.3444381, -0.28076234, 0.0615...   25.313255  \n",
       "3  [-0.030214058, -0.3444381, -0.28076234, 0.0615...   12.147415  \n",
       "4  [-0.030214058, -0.3444381, -0.28076234, 0.0615...   18.747736  "
      ]
     },
     "execution_count": 18,
     "metadata": {},
     "output_type": "execute_result"
    }
   ],
   "source": [
    "df.head()"
   ]
  },
  {
   "cell_type": "code",
   "execution_count": 19,
   "id": "3170de60-643d-4a52-95f2-d5bbe97efbe6",
   "metadata": {},
   "outputs": [
    {
     "data": {
      "text/plain": [
       "count    300.000000\n",
       "mean      27.495996\n",
       "std        6.384742\n",
       "min        4.547924\n",
       "25%       24.307844\n",
       "50%       28.336870\n",
       "75%       31.674309\n",
       "max       39.476013\n",
       "Name: similarity, dtype: float64"
      ]
     },
     "execution_count": 19,
     "metadata": {},
     "output_type": "execute_result"
    }
   ],
   "source": [
    "df['similarity'].describe()"
   ]
  },
  {
   "cell_type": "markdown",
   "id": "cb21fc9a-860a-462e-98ab-c358cc900c2d",
   "metadata": {},
   "source": [
    "# Q3. Computing the cosine\n",
    "##### From Q2, we can see that the results are not within the [0, 1] range. It's because the vectors coming from this model are not normalized.\n",
    "\n",
    "##### So we need to normalize them.\n",
    "\n",
    "##### To do it, we\n",
    "\n",
    "##### Compute the norm of a vector\n",
    "##### Divide each element by this norm\n",
    "##### So, for vector v, it'll be v / ||v||\n",
    "\n",
    "##### In numpy, this is how you do it:\n",
    "\n",
    "##### norm = np.sqrt((v * v).sum())\n",
    "##### v_norm = v / norm\n",
    "##### Let's put it into a function and then compute dot product between normalized vectors. This will give us cosine similarity\n",
    "\n",
    "##### What's the 75% cosine in the scores?\n",
    "\n",
    "* 0.63\n",
    "* 0.73\n",
    "* 0.83\n",
    "* 0.93"
   ]
  },
  {
   "cell_type": "code",
   "execution_count": 22,
   "id": "0807d5fe-b320-4ac5-b83a-46b38de818b4",
   "metadata": {},
   "outputs": [],
   "source": [
    "def norm(vector):\n",
    "    n = np.sqrt((vector*vector).sum())\n",
    "    v_norm = vector/n\n",
    "    return v_norm"
   ]
  },
  {
   "cell_type": "code",
   "execution_count": 26,
   "id": "934294e6-b353-47f9-8b6c-29f8f60d53a4",
   "metadata": {},
   "outputs": [
    {
     "data": {
      "text/plain": [
       "np.float32(17.515987)"
      ]
     },
     "execution_count": 26,
     "metadata": {},
     "output_type": "execute_result"
    }
   ],
   "source": [
    "df['answer_llm_v'][0].dot(df['answer_orig_v'][0])"
   ]
  },
  {
   "cell_type": "code",
   "execution_count": 25,
   "id": "9347ce68-1a1e-437f-a5ac-9ff14cb4fe8a",
   "metadata": {},
   "outputs": [
    {
     "data": {
      "text/plain": [
       "np.float32(0.5067539)"
      ]
     },
     "execution_count": 25,
     "metadata": {},
     "output_type": "execute_result"
    }
   ],
   "source": [
    "norm(df['answer_llm_v'][0]).dot(norm(df['answer_orig_v'][0]))"
   ]
  },
  {
   "cell_type": "code",
   "execution_count": 27,
   "id": "fe01d295-1197-4325-8be2-ce785bcc54c5",
   "metadata": {},
   "outputs": [
    {
     "name": "stderr",
     "output_type": "stream",
     "text": [
      "100%|██████████████████████████████████████████████████████████████████████████████████████████████████████████████████████████████████████████████| 300/300 [00:00<00:00, 33891.54it/s]\n"
     ]
    }
   ],
   "source": [
    "similarity_n = []\n",
    "for i in tqdm(range(300)):\n",
    "    sim2 = norm(df['answer_llm_v'][i]).dot(norm(df['answer_orig_v'][i]))\n",
    "    similarity_n.append(sim2)"
   ]
  },
  {
   "cell_type": "code",
   "execution_count": 29,
   "id": "48a2a3b2-188d-42d8-9ccd-e640e227f0ab",
   "metadata": {},
   "outputs": [],
   "source": [
    "df['similarity_norm'] = similarity_n"
   ]
  },
  {
   "cell_type": "code",
   "execution_count": 30,
   "id": "bdc352a3-9be4-44d9-8a15-f78d7a0c588c",
   "metadata": {},
   "outputs": [
    {
     "data": {
      "text/html": [
       "<div>\n",
       "<style scoped>\n",
       "    .dataframe tbody tr th:only-of-type {\n",
       "        vertical-align: middle;\n",
       "    }\n",
       "\n",
       "    .dataframe tbody tr th {\n",
       "        vertical-align: top;\n",
       "    }\n",
       "\n",
       "    .dataframe thead th {\n",
       "        text-align: right;\n",
       "    }\n",
       "</style>\n",
       "<table border=\"1\" class=\"dataframe\">\n",
       "  <thead>\n",
       "    <tr style=\"text-align: right;\">\n",
       "      <th></th>\n",
       "      <th>answer_llm</th>\n",
       "      <th>answer_orig</th>\n",
       "      <th>document</th>\n",
       "      <th>question</th>\n",
       "      <th>course</th>\n",
       "      <th>answer_llm_v</th>\n",
       "      <th>answer_orig_v</th>\n",
       "      <th>similarity</th>\n",
       "      <th>similarity_norm</th>\n",
       "    </tr>\n",
       "  </thead>\n",
       "  <tbody>\n",
       "    <tr>\n",
       "      <th>0</th>\n",
       "      <td>You can sign up for the course by visiting the...</td>\n",
       "      <td>Machine Learning Zoomcamp FAQ\\nThe purpose of ...</td>\n",
       "      <td>0227b872</td>\n",
       "      <td>Where can I sign up for the course?</td>\n",
       "      <td>machine-learning-zoomcamp</td>\n",
       "      <td>[-0.42244655, -0.22485626, -0.3240584, -0.2847...</td>\n",
       "      <td>[-0.030214058, -0.3444381, -0.28076234, 0.0615...</td>\n",
       "      <td>17.515987</td>\n",
       "      <td>0.506754</td>\n",
       "    </tr>\n",
       "    <tr>\n",
       "      <th>1</th>\n",
       "      <td>You can sign up using the link provided in the...</td>\n",
       "      <td>Machine Learning Zoomcamp FAQ\\nThe purpose of ...</td>\n",
       "      <td>0227b872</td>\n",
       "      <td>Can you provide a link to sign up?</td>\n",
       "      <td>machine-learning-zoomcamp</td>\n",
       "      <td>[-0.38068146, 0.047848288, -0.31510952, -0.210...</td>\n",
       "      <td>[-0.030214058, -0.3444381, -0.28076234, 0.0615...</td>\n",
       "      <td>13.418402</td>\n",
       "      <td>0.388549</td>\n",
       "    </tr>\n",
       "    <tr>\n",
       "      <th>2</th>\n",
       "      <td>Yes, there is an FAQ for the Machine Learning ...</td>\n",
       "      <td>Machine Learning Zoomcamp FAQ\\nThe purpose of ...</td>\n",
       "      <td>0227b872</td>\n",
       "      <td>Is there an FAQ for this Machine Learning course?</td>\n",
       "      <td>machine-learning-zoomcamp</td>\n",
       "      <td>[-0.05881373, -0.33736944, -0.36157572, 0.0217...</td>\n",
       "      <td>[-0.030214058, -0.3444381, -0.28076234, 0.0615...</td>\n",
       "      <td>25.313255</td>\n",
       "      <td>0.718599</td>\n",
       "    </tr>\n",
       "    <tr>\n",
       "      <th>3</th>\n",
       "      <td>The context does not provide any specific info...</td>\n",
       "      <td>Machine Learning Zoomcamp FAQ\\nThe purpose of ...</td>\n",
       "      <td>0227b872</td>\n",
       "      <td>Does this course have a GitHub repository for ...</td>\n",
       "      <td>machine-learning-zoomcamp</td>\n",
       "      <td>[-0.22753648, -0.008134096, -0.21719913, -0.11...</td>\n",
       "      <td>[-0.030214058, -0.3444381, -0.28076234, 0.0615...</td>\n",
       "      <td>12.147415</td>\n",
       "      <td>0.337266</td>\n",
       "    </tr>\n",
       "    <tr>\n",
       "      <th>4</th>\n",
       "      <td>To structure your questions and answers for th...</td>\n",
       "      <td>Machine Learning Zoomcamp FAQ\\nThe purpose of ...</td>\n",
       "      <td>0227b872</td>\n",
       "      <td>How can I structure my questions and answers f...</td>\n",
       "      <td>machine-learning-zoomcamp</td>\n",
       "      <td>[-0.06969386, -0.5005093, -0.1659844, 0.306661...</td>\n",
       "      <td>[-0.030214058, -0.3444381, -0.28076234, 0.0615...</td>\n",
       "      <td>18.747736</td>\n",
       "      <td>0.521792</td>\n",
       "    </tr>\n",
       "  </tbody>\n",
       "</table>\n",
       "</div>"
      ],
      "text/plain": [
       "                                          answer_llm  \\\n",
       "0  You can sign up for the course by visiting the...   \n",
       "1  You can sign up using the link provided in the...   \n",
       "2  Yes, there is an FAQ for the Machine Learning ...   \n",
       "3  The context does not provide any specific info...   \n",
       "4  To structure your questions and answers for th...   \n",
       "\n",
       "                                         answer_orig  document  \\\n",
       "0  Machine Learning Zoomcamp FAQ\\nThe purpose of ...  0227b872   \n",
       "1  Machine Learning Zoomcamp FAQ\\nThe purpose of ...  0227b872   \n",
       "2  Machine Learning Zoomcamp FAQ\\nThe purpose of ...  0227b872   \n",
       "3  Machine Learning Zoomcamp FAQ\\nThe purpose of ...  0227b872   \n",
       "4  Machine Learning Zoomcamp FAQ\\nThe purpose of ...  0227b872   \n",
       "\n",
       "                                            question  \\\n",
       "0                Where can I sign up for the course?   \n",
       "1                 Can you provide a link to sign up?   \n",
       "2  Is there an FAQ for this Machine Learning course?   \n",
       "3  Does this course have a GitHub repository for ...   \n",
       "4  How can I structure my questions and answers f...   \n",
       "\n",
       "                      course  \\\n",
       "0  machine-learning-zoomcamp   \n",
       "1  machine-learning-zoomcamp   \n",
       "2  machine-learning-zoomcamp   \n",
       "3  machine-learning-zoomcamp   \n",
       "4  machine-learning-zoomcamp   \n",
       "\n",
       "                                        answer_llm_v  \\\n",
       "0  [-0.42244655, -0.22485626, -0.3240584, -0.2847...   \n",
       "1  [-0.38068146, 0.047848288, -0.31510952, -0.210...   \n",
       "2  [-0.05881373, -0.33736944, -0.36157572, 0.0217...   \n",
       "3  [-0.22753648, -0.008134096, -0.21719913, -0.11...   \n",
       "4  [-0.06969386, -0.5005093, -0.1659844, 0.306661...   \n",
       "\n",
       "                                       answer_orig_v  similarity  \\\n",
       "0  [-0.030214058, -0.3444381, -0.28076234, 0.0615...   17.515987   \n",
       "1  [-0.030214058, -0.3444381, -0.28076234, 0.0615...   13.418402   \n",
       "2  [-0.030214058, -0.3444381, -0.28076234, 0.0615...   25.313255   \n",
       "3  [-0.030214058, -0.3444381, -0.28076234, 0.0615...   12.147415   \n",
       "4  [-0.030214058, -0.3444381, -0.28076234, 0.0615...   18.747736   \n",
       "\n",
       "   similarity_norm  \n",
       "0         0.506754  \n",
       "1         0.388549  \n",
       "2         0.718599  \n",
       "3         0.337266  \n",
       "4         0.521792  "
      ]
     },
     "execution_count": 30,
     "metadata": {},
     "output_type": "execute_result"
    }
   ],
   "source": [
    "df.head()"
   ]
  },
  {
   "cell_type": "code",
   "execution_count": 31,
   "id": "cc8603bc-1dc7-428a-b3f0-792af6fa7091",
   "metadata": {},
   "outputs": [
    {
     "data": {
      "text/plain": [
       "count    300.000000\n",
       "mean       0.728393\n",
       "std        0.157755\n",
       "min        0.125357\n",
       "25%        0.651273\n",
       "50%        0.763761\n",
       "75%        0.836235\n",
       "max        0.958796\n",
       "Name: similarity_norm, dtype: float64"
      ]
     },
     "execution_count": 31,
     "metadata": {},
     "output_type": "execute_result"
    }
   ],
   "source": [
    "df['similarity_norm'].describe()"
   ]
  },
  {
   "cell_type": "markdown",
   "id": "3baf4aa9-db5c-403b-a8f8-4ffe7fe0b7f5",
   "metadata": {},
   "source": [
    "# Q4. Rouge\n",
    "##### Now we will explore an alternative metric - the ROUGE score.\n",
    "\n",
    "##### This is a set of metrics that compares two answers based on the overlap of n-grams, word sequences, and word pairs.\n",
    "\n",
    "##### It can give a more nuanced view of text similarity than just cosine similarity alone.\n",
    "\n",
    "##### We don't need to implement it ourselves, there's a python package for it:\n",
    "\n",
    "##### pip install rouge\n",
    "##### (The latest version at the moment of writing is 1.0.1)\n",
    "\n",
    "##### Let's compute the ROUGE score between the answers at the index 10 of our dataframe (doc_id=5170565b)\n",
    "\n",
    "##### from rouge import Rouge\n",
    "##### rouge_scorer = Rouge()\n",
    "\n",
    "##### scores = rouge_scorer.get_scores(r['answer_llm'], r['answer_orig'])[0]\n",
    "##### There are three scores: rouge-1, rouge-2 and rouge-l, and precision, recall and F1 score for each.\n",
    "\n",
    "##### rouge-1 - the overlap of unigrams,\n",
    "##### rouge-2 - bigrams,\n",
    "##### rouge-l - the longest common subsequence\n",
    "##### What's the F score for rouge-1?\n",
    "\n",
    "* 0.35\n",
    "* 0.45\n",
    "* 0.55\n",
    "* 0.65"
   ]
  },
  {
   "cell_type": "code",
   "execution_count": 32,
   "id": "8e9bd798-21c0-4f51-b758-744abf574b65",
   "metadata": {},
   "outputs": [
    {
     "name": "stderr",
     "output_type": "stream",
     "text": [
      "huggingface/tokenizers: The current process just got forked, after parallelism has already been used. Disabling parallelism to avoid deadlocks...\n",
      "To disable this warning, you can either:\n",
      "\t- Avoid using `tokenizers` before the fork if possible\n",
      "\t- Explicitly set the environment variable TOKENIZERS_PARALLELISM=(true | false)\n"
     ]
    },
    {
     "name": "stdout",
     "output_type": "stream",
     "text": [
      "Collecting rouge\n",
      "  Downloading rouge-1.0.1-py3-none-any.whl.metadata (4.1 kB)\n",
      "Requirement already satisfied: six in /home/codespace/.local/lib/python3.12/site-packages (from rouge) (1.16.0)\n",
      "Downloading rouge-1.0.1-py3-none-any.whl (13 kB)\n",
      "Installing collected packages: rouge\n",
      "\u001b[33m  WARNING: The script rouge is installed in '/usr/local/python/3.12.1/bin' which is not on PATH.\n",
      "  Consider adding this directory to PATH or, if you prefer to suppress this warning, use --no-warn-script-location.\u001b[0m\u001b[33m\n",
      "\u001b[0mSuccessfully installed rouge-1.0.1\n",
      "Note: you may need to restart the kernel to use updated packages.\n"
     ]
    }
   ],
   "source": [
    "pip install rouge"
   ]
  },
  {
   "cell_type": "code",
   "execution_count": 33,
   "id": "8152e145-9638-439c-9693-773efbef6ff5",
   "metadata": {},
   "outputs": [],
   "source": [
    "from rouge import Rouge"
   ]
  },
  {
   "cell_type": "code",
   "execution_count": 36,
   "id": "20d656d4-9f2c-4c41-b3f6-823beedfad22",
   "metadata": {},
   "outputs": [],
   "source": [
    "rouge_scorer = Rouge()"
   ]
  },
  {
   "cell_type": "code",
   "execution_count": 40,
   "id": "4060b08b-5485-431e-a264-81b178944efb",
   "metadata": {},
   "outputs": [],
   "source": [
    "scores = rouge_scorer.get_scores(df['answer_llm'][10], df['answer_orig'][10])[0]"
   ]
  },
  {
   "cell_type": "code",
   "execution_count": 41,
   "id": "3eec738c-372a-4948-ad8d-bd4353db9d8d",
   "metadata": {},
   "outputs": [
    {
     "data": {
      "text/plain": [
       "{'rouge-1': {'r': 0.45454545454545453,\n",
       "  'p': 0.45454545454545453,\n",
       "  'f': 0.45454544954545456},\n",
       " 'rouge-2': {'r': 0.21621621621621623,\n",
       "  'p': 0.21621621621621623,\n",
       "  'f': 0.21621621121621637},\n",
       " 'rouge-l': {'r': 0.3939393939393939,\n",
       "  'p': 0.3939393939393939,\n",
       "  'f': 0.393939388939394}}"
      ]
     },
     "execution_count": 41,
     "metadata": {},
     "output_type": "execute_result"
    }
   ],
   "source": [
    "scores"
   ]
  },
  {
   "cell_type": "code",
   "execution_count": 43,
   "id": "7046b3bc-2f24-4713-ba0c-10e11f0546c7",
   "metadata": {},
   "outputs": [
    {
     "data": {
      "text/plain": [
       "0.45454544954545456"
      ]
     },
     "execution_count": 43,
     "metadata": {},
     "output_type": "execute_result"
    }
   ],
   "source": [
    "scores['rouge-1']['f']"
   ]
  },
  {
   "cell_type": "markdown",
   "id": "9f1b97c0-c88b-47e9-8121-6d1c2496f8ad",
   "metadata": {},
   "source": [
    "# Q5. Average rouge score\n",
    "##### Let's compute the average F-score between rouge-1, rouge-2 and rouge-l for the same record from Q4\n",
    "\n",
    "* 0.35\n",
    "* 0.45\n",
    "* 0.55\n",
    "* 0.65"
   ]
  },
  {
   "cell_type": "code",
   "execution_count": 47,
   "id": "57b9adfa-cde2-4667-b99e-aea620eb8c57",
   "metadata": {},
   "outputs": [
    {
     "data": {
      "text/plain": [
       "0.35490034990035496"
      ]
     },
     "execution_count": 47,
     "metadata": {},
     "output_type": "execute_result"
    }
   ],
   "source": [
    "(scores['rouge-1']['f']+ scores['rouge-2']['f']+ scores['rouge-l']['f'])/3"
   ]
  },
  {
   "cell_type": "markdown",
   "id": "00c8c3f6-94b3-4b05-826a-04cc37e435b5",
   "metadata": {},
   "source": [
    "# Q6. Average rouge score for all the data points\n",
    "##### Now let's compute the F-score for all the records and create a dataframe from them.\n",
    "\n",
    "##### What's the average F-score in rouge_2 across all the records?\n",
    "\n",
    "* 0.10\n",
    "* 0.20\n",
    "* 0.30\n",
    "* 0.40"
   ]
  },
  {
   "cell_type": "code",
   "execution_count": 48,
   "id": "e44110e7-47a0-4250-bae2-0caba1d8abe8",
   "metadata": {},
   "outputs": [
    {
     "name": "stderr",
     "output_type": "stream",
     "text": [
      "100%|████████████████████████████████████████████████████████████████████████████████████████████████████████████████████████████████████████████████| 300/300 [00:00<00:00, 370.02it/s]\n"
     ]
    }
   ],
   "source": [
    "rouge_2f = []\n",
    "for i in tqdm(range(300)):\n",
    "    scores2f = rouge_scorer.get_scores(df['answer_llm'][i], df['answer_orig'][i])[0]\n",
    "    rouge_2f.append(scores2f['rouge-2']['f'])"
   ]
  },
  {
   "cell_type": "code",
   "execution_count": 49,
   "id": "ecf23f0e-7da7-49fa-919e-c4c87cf455c5",
   "metadata": {},
   "outputs": [],
   "source": [
    "df['rouge_2f'] = rouge_2f"
   ]
  },
  {
   "cell_type": "code",
   "execution_count": 50,
   "id": "ca8a4f9c-c4a5-4e87-8207-9f43e62771c1",
   "metadata": {},
   "outputs": [
    {
     "data": {
      "text/html": [
       "<div>\n",
       "<style scoped>\n",
       "    .dataframe tbody tr th:only-of-type {\n",
       "        vertical-align: middle;\n",
       "    }\n",
       "\n",
       "    .dataframe tbody tr th {\n",
       "        vertical-align: top;\n",
       "    }\n",
       "\n",
       "    .dataframe thead th {\n",
       "        text-align: right;\n",
       "    }\n",
       "</style>\n",
       "<table border=\"1\" class=\"dataframe\">\n",
       "  <thead>\n",
       "    <tr style=\"text-align: right;\">\n",
       "      <th></th>\n",
       "      <th>answer_llm</th>\n",
       "      <th>answer_orig</th>\n",
       "      <th>document</th>\n",
       "      <th>question</th>\n",
       "      <th>course</th>\n",
       "      <th>answer_llm_v</th>\n",
       "      <th>answer_orig_v</th>\n",
       "      <th>similarity</th>\n",
       "      <th>similarity_norm</th>\n",
       "      <th>rouge_2f</th>\n",
       "    </tr>\n",
       "  </thead>\n",
       "  <tbody>\n",
       "    <tr>\n",
       "      <th>0</th>\n",
       "      <td>You can sign up for the course by visiting the...</td>\n",
       "      <td>Machine Learning Zoomcamp FAQ\\nThe purpose of ...</td>\n",
       "      <td>0227b872</td>\n",
       "      <td>Where can I sign up for the course?</td>\n",
       "      <td>machine-learning-zoomcamp</td>\n",
       "      <td>[-0.42244655, -0.22485626, -0.3240584, -0.2847...</td>\n",
       "      <td>[-0.030214058, -0.3444381, -0.28076234, 0.0615...</td>\n",
       "      <td>17.515987</td>\n",
       "      <td>0.506754</td>\n",
       "      <td>0.028169</td>\n",
       "    </tr>\n",
       "    <tr>\n",
       "      <th>1</th>\n",
       "      <td>You can sign up using the link provided in the...</td>\n",
       "      <td>Machine Learning Zoomcamp FAQ\\nThe purpose of ...</td>\n",
       "      <td>0227b872</td>\n",
       "      <td>Can you provide a link to sign up?</td>\n",
       "      <td>machine-learning-zoomcamp</td>\n",
       "      <td>[-0.38068146, 0.047848288, -0.31510952, -0.210...</td>\n",
       "      <td>[-0.030214058, -0.3444381, -0.28076234, 0.0615...</td>\n",
       "      <td>13.418402</td>\n",
       "      <td>0.388549</td>\n",
       "      <td>0.055556</td>\n",
       "    </tr>\n",
       "    <tr>\n",
       "      <th>2</th>\n",
       "      <td>Yes, there is an FAQ for the Machine Learning ...</td>\n",
       "      <td>Machine Learning Zoomcamp FAQ\\nThe purpose of ...</td>\n",
       "      <td>0227b872</td>\n",
       "      <td>Is there an FAQ for this Machine Learning course?</td>\n",
       "      <td>machine-learning-zoomcamp</td>\n",
       "      <td>[-0.05881373, -0.33736944, -0.36157572, 0.0217...</td>\n",
       "      <td>[-0.030214058, -0.3444381, -0.28076234, 0.0615...</td>\n",
       "      <td>25.313255</td>\n",
       "      <td>0.718599</td>\n",
       "      <td>0.177778</td>\n",
       "    </tr>\n",
       "    <tr>\n",
       "      <th>3</th>\n",
       "      <td>The context does not provide any specific info...</td>\n",
       "      <td>Machine Learning Zoomcamp FAQ\\nThe purpose of ...</td>\n",
       "      <td>0227b872</td>\n",
       "      <td>Does this course have a GitHub repository for ...</td>\n",
       "      <td>machine-learning-zoomcamp</td>\n",
       "      <td>[-0.22753648, -0.008134096, -0.21719913, -0.11...</td>\n",
       "      <td>[-0.030214058, -0.3444381, -0.28076234, 0.0615...</td>\n",
       "      <td>12.147415</td>\n",
       "      <td>0.337266</td>\n",
       "      <td>0.047059</td>\n",
       "    </tr>\n",
       "    <tr>\n",
       "      <th>4</th>\n",
       "      <td>To structure your questions and answers for th...</td>\n",
       "      <td>Machine Learning Zoomcamp FAQ\\nThe purpose of ...</td>\n",
       "      <td>0227b872</td>\n",
       "      <td>How can I structure my questions and answers f...</td>\n",
       "      <td>machine-learning-zoomcamp</td>\n",
       "      <td>[-0.06969386, -0.5005093, -0.1659844, 0.306661...</td>\n",
       "      <td>[-0.030214058, -0.3444381, -0.28076234, 0.0615...</td>\n",
       "      <td>18.747736</td>\n",
       "      <td>0.521792</td>\n",
       "      <td>0.033898</td>\n",
       "    </tr>\n",
       "  </tbody>\n",
       "</table>\n",
       "</div>"
      ],
      "text/plain": [
       "                                          answer_llm  \\\n",
       "0  You can sign up for the course by visiting the...   \n",
       "1  You can sign up using the link provided in the...   \n",
       "2  Yes, there is an FAQ for the Machine Learning ...   \n",
       "3  The context does not provide any specific info...   \n",
       "4  To structure your questions and answers for th...   \n",
       "\n",
       "                                         answer_orig  document  \\\n",
       "0  Machine Learning Zoomcamp FAQ\\nThe purpose of ...  0227b872   \n",
       "1  Machine Learning Zoomcamp FAQ\\nThe purpose of ...  0227b872   \n",
       "2  Machine Learning Zoomcamp FAQ\\nThe purpose of ...  0227b872   \n",
       "3  Machine Learning Zoomcamp FAQ\\nThe purpose of ...  0227b872   \n",
       "4  Machine Learning Zoomcamp FAQ\\nThe purpose of ...  0227b872   \n",
       "\n",
       "                                            question  \\\n",
       "0                Where can I sign up for the course?   \n",
       "1                 Can you provide a link to sign up?   \n",
       "2  Is there an FAQ for this Machine Learning course?   \n",
       "3  Does this course have a GitHub repository for ...   \n",
       "4  How can I structure my questions and answers f...   \n",
       "\n",
       "                      course  \\\n",
       "0  machine-learning-zoomcamp   \n",
       "1  machine-learning-zoomcamp   \n",
       "2  machine-learning-zoomcamp   \n",
       "3  machine-learning-zoomcamp   \n",
       "4  machine-learning-zoomcamp   \n",
       "\n",
       "                                        answer_llm_v  \\\n",
       "0  [-0.42244655, -0.22485626, -0.3240584, -0.2847...   \n",
       "1  [-0.38068146, 0.047848288, -0.31510952, -0.210...   \n",
       "2  [-0.05881373, -0.33736944, -0.36157572, 0.0217...   \n",
       "3  [-0.22753648, -0.008134096, -0.21719913, -0.11...   \n",
       "4  [-0.06969386, -0.5005093, -0.1659844, 0.306661...   \n",
       "\n",
       "                                       answer_orig_v  similarity  \\\n",
       "0  [-0.030214058, -0.3444381, -0.28076234, 0.0615...   17.515987   \n",
       "1  [-0.030214058, -0.3444381, -0.28076234, 0.0615...   13.418402   \n",
       "2  [-0.030214058, -0.3444381, -0.28076234, 0.0615...   25.313255   \n",
       "3  [-0.030214058, -0.3444381, -0.28076234, 0.0615...   12.147415   \n",
       "4  [-0.030214058, -0.3444381, -0.28076234, 0.0615...   18.747736   \n",
       "\n",
       "   similarity_norm  rouge_2f  \n",
       "0         0.506754  0.028169  \n",
       "1         0.388549  0.055556  \n",
       "2         0.718599  0.177778  \n",
       "3         0.337266  0.047059  \n",
       "4         0.521792  0.033898  "
      ]
     },
     "execution_count": 50,
     "metadata": {},
     "output_type": "execute_result"
    }
   ],
   "source": [
    "df.head()"
   ]
  },
  {
   "cell_type": "code",
   "execution_count": 51,
   "id": "380e4c68-3f43-4340-bef9-f1d31b4a6069",
   "metadata": {},
   "outputs": [
    {
     "data": {
      "text/plain": [
       "count    300.000000\n",
       "mean       0.206965\n",
       "std        0.153550\n",
       "min        0.000000\n",
       "25%        0.097809\n",
       "50%        0.178671\n",
       "75%        0.286181\n",
       "max        0.739130\n",
       "Name: rouge_2f, dtype: float64"
      ]
     },
     "execution_count": 51,
     "metadata": {},
     "output_type": "execute_result"
    }
   ],
   "source": [
    "df['rouge_2f'].describe()"
   ]
  },
  {
   "cell_type": "code",
   "execution_count": null,
   "id": "658927cf-557f-4d47-ace2-016304bf9e22",
   "metadata": {},
   "outputs": [],
   "source": []
  }
 ],
 "metadata": {
  "kernelspec": {
   "display_name": "Python 3 (ipykernel)",
   "language": "python",
   "name": "python3"
  },
  "language_info": {
   "codemirror_mode": {
    "name": "ipython",
    "version": 3
   },
   "file_extension": ".py",
   "mimetype": "text/x-python",
   "name": "python",
   "nbconvert_exporter": "python",
   "pygments_lexer": "ipython3",
   "version": "3.12.1"
  }
 },
 "nbformat": 4,
 "nbformat_minor": 5
}
