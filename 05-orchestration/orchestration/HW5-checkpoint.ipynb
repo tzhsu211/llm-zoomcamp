{
 "cells": [
  {
   "cell_type": "code",
   "execution_count": 4,
   "id": "4a90d49b-1726-4a45-b265-6b5a06857d4a",
   "metadata": {},
   "outputs": [],
   "source": [
    "from elasticsearch import Elasticsearch"
   ]
  },
  {
   "cell_type": "code",
   "execution_count": 5,
   "id": "1a4fcd98-2224-409f-b1fe-ea862fb6e3c6",
   "metadata": {},
   "outputs": [],
   "source": [
    "esclient = Elasticsearch('http://localhost:9200')"
   ]
  },
  {
   "cell_type": "code",
   "execution_count": 6,
   "id": "a9bce3eb-977c-4d40-a714-b1a8dc2b3200",
   "metadata": {},
   "outputs": [
    {
     "data": {
      "text/plain": [
       "ObjectApiResponse({'name': '53add01f6478', 'cluster_name': 'docker-cluster', 'cluster_uuid': 'HsnDUmYoSGC6MwYC0Gcefg', 'version': {'number': '8.5.0', 'build_flavor': 'default', 'build_type': 'docker', 'build_hash': 'c94b4700cda13820dad5aa74fae6db185ca5c304', 'build_date': '2022-10-24T16:54:16.433628434Z', 'build_snapshot': False, 'lucene_version': '9.4.1', 'minimum_wire_compatibility_version': '7.17.0', 'minimum_index_compatibility_version': '7.0.0'}, 'tagline': 'You Know, for Search'})"
      ]
     },
     "execution_count": 6,
     "metadata": {},
     "output_type": "execute_result"
    }
   ],
   "source": [
    "esclient.info()"
   ]
  },
  {
   "cell_type": "code",
   "execution_count": 7,
   "id": "cfabb5cd-023a-4d6a-b658-061e04b40e38",
   "metadata": {},
   "outputs": [],
   "source": [
    "index = 'documents_20240908_5830'"
   ]
  },
  {
   "cell_type": "code",
   "execution_count": 9,
   "id": "c974c5df-dc6b-4130-b8b6-f28f4e9b8455",
   "metadata": {},
   "outputs": [
    {
     "name": "stdout",
     "output_type": "stream",
     "text": [
      "{'text': 'Summer 2025 (via Alexey).', 'section': 'General course-related questions', 'question': 'When will the course be offered next?', 'course': 'llm-zoomcamp', 'document_id': 'bf024675'}\n",
      "{'text': 'Cosine similarity is a measure used to calculate the similarity between two non-zero vectors, often used in text analysis to determine how similar two documents are based on their content. This metric computes the cosine of the angle between two vectors, which are typically word counts or TF-IDF values of the documents. The cosine similarity value ranges from -1 to 1, where 1 indicates that the vectors are identical, 0 indicates that the vectors are orthogonal (no similarity), and -1 represents completely opposite vectors.', 'section': 'Module 3: X', 'question': 'What is the cosine similarity?', 'course': 'llm-zoomcamp', 'document_id': 'ee355823'}\n",
      "{'text': 'The error indicates that you have not changed all instances of “employee_handbook” to “homework” in your pipeline settings', 'section': 'Workshops: dlthub', 'question': 'There is an error when opening the table using dbtable = db.open_table(\"notion_pages___homework\"): FileNotFoundError: Table notion_pages___homework does not exist.Please first call db.create_table(notion_pages___homework, data)', 'course': 'llm-zoomcamp', 'document_id': '6cf805ca'}\n",
      "{'text': 'Make sure you open the correct table in line 3: dbtable = db.open_table(\"notion_pages___homework\")', 'section': 'Workshops: dlthub', 'question': 'There is an error when running main(): FileNotFoundError: Table notion_pages___homework does not exist.Please first call db.create_table(notion_pages___homework, data)', 'course': 'llm-zoomcamp', 'document_id': 'e18124d4'}\n",
      "{'text': 'This course is being offered for the first time, and things will keep changing until a given module is ready, at which point it shall be announced. Working on the material/homework in advance will be at your own risk, as the final version could be different.', 'section': 'General course-related questions', 'question': 'I was working on next week’s homework/content - why does it keep changing?', 'course': 'llm-zoomcamp', 'document_id': 'fb81c6ff'}\n",
      "{'text': 'The zoom link is only published to instructors/presenters/TAs.\\nStudents participate via Youtube Live and submit questions to Slido (link would be pinned in the chat when Alexey goes Live). The video URL should be posted in the announcements channel on Telegram & Slack before it begins. Also, you will see it live on the DataTalksClub YouTube Channel.\\nDon’t post your questions in chat as it would be off-screen before the instructors/moderators have a chance to answer it if the room is very active.', 'section': 'General course-related questions', 'question': 'What is the video/zoom link to the stream for the “Office Hours” or live/workshop sessions?', 'course': 'llm-zoomcamp', 'document_id': 'a5301a1f'}\n",
      "{'text': 'Option1: using direnv\\ncreated the .envrc file & added my API key, ran direnv allow in the terminal\\nwas getting an error: \"OpenAIError: The api_key client option must be set either by passing api_key to the client or by setting the OPENAI_API_KEY environment variable\"\\nresolution: install dotenv & add the following to a cell in the notebook. You can install dotenv by running: pip install python-dotenv.\\nfrom dotenv import load_dotenv\\nload_dotenv(\\'.envrc\\')\\nOption 2: using Codespaces Secrets\\nLog in to your GitHub account and navigate to Settings > Codespaces\\nThere is a section called secrets where you can create Secrets like OPENAI_API_KEY and select for which repositories the secret is supposed to be available.\\nOnce you set this up, the key will be available in your codespaces session', 'section': 'Module 1: Introduction', 'question': 'Authentication: Why is my OPENAI_API_KEY not found in the jupyter notebook?', 'course': 'llm-zoomcamp', 'document_id': 'baea0a66'}\n",
      "{'text': \"You don't need it. You're accepted. You can also just start learning and submitting homework (while the form is Open) without registering. It is not checked against any registered list. Registration is just to gauge interest before the start date.\", 'section': 'General course-related questions', 'question': 'Course - I have registered for the [insert-zoomcamp-name]. When can I expect to receive the confirmation email?', 'course': 'llm-zoomcamp', 'document_id': 'a57f9581'}\n",
      "{'text': 'Make sure your search function receives a query vector, not a dictionary. To resolve this, ensure that the q passed to the search_function within evaluate is correctly transformed into an embedding vector. The following code can help:\\nv_query = embedding_model.encode(query_text)\\nresults = search_function(v_query)', 'section': 'Module 3: X', 'question': \"TypeError: unsupported operand type(s) for *: 'float' and 'dict' when running the vector search function within the evaluate function\", 'course': 'llm-zoomcamp', 'document_id': '2806a1c1'}\n",
      "{'text': 'Inside .env file change POSTGRES_HOST=localhost', 'section': 'Module 4: Monitoring', 'question': 'OperationalError when running python prep.pypsycopg2. OperationalError: could not translate host name \"postgres\" to address: No such host is known. How do I fix this issue?', 'course': 'llm-zoomcamp', 'document_id': 'a2dca2e2'}\n"
     ]
    }
   ],
   "source": [
    "# 示例：简单的 match_all 查询\n",
    "query = 'When is the next cohort?'\n",
    "response = esclient.search(index='documents_20240908_5830', body={\n",
    "    \"query\": {\n",
    "        \"match\": {\n",
    "            \"question\": query  # 替换 \"your_field_name\" 为你实际使用的字段名称\n",
    "        }\n",
    "    }\n",
    "})\n",
    "# 打印查询结果\n",
    "for hit in response['hits']['hits']:\n",
    "    print(hit[\"_source\"])\n"
   ]
  },
  {
   "cell_type": "markdown",
   "id": "466e9e5e-06a2-444c-80c0-2800d5f7f3b4",
   "metadata": {},
   "source": [
    "## 6"
   ]
  },
  {
   "cell_type": "code",
   "execution_count": 7,
   "id": "b9dc51a3-2df0-4a74-b653-d396045ba790",
   "metadata": {},
   "outputs": [
    {
     "name": "stdout",
     "output_type": "stream",
     "text": [
      "{'text': 'Summer 2026.', 'section': 'General course-related questions', 'question': 'When is the next cohort?', 'course': 'llm-zoomcamp', 'document_id': 'b6fa77f3'}\n",
      "{'text': 'Cosine similarity is a measure used to calculate the similarity between two non-zero vectors, often used in text analysis to determine how similar two documents are based on their content. This metric computes the cosine of the angle between two vectors, which are typically word counts or TF-IDF values of the documents. The cosine similarity value ranges from -1 to 1, where 1 indicates that the vectors are identical, 0 indicates that the vectors are orthogonal (no similarity), and -1 represents completely opposite vectors.', 'section': 'Module 3: X', 'question': 'What is the cosine similarity?', 'course': 'llm-zoomcamp', 'document_id': 'ee355823'}\n",
      "{'text': 'The error indicates that you have not changed all instances of “employee_handbook” to “homework” in your pipeline settings', 'section': 'Workshops: dlthub', 'question': 'There is an error when opening the table using dbtable = db.open_table(\"notion_pages___homework\"): FileNotFoundError: Table notion_pages___homework does not exist.Please first call db.create_table(notion_pages___homework, data)', 'course': 'llm-zoomcamp', 'document_id': '6cf805ca'}\n",
      "{'text': 'Make sure you open the correct table in line 3: dbtable = db.open_table(\"notion_pages___homework\")', 'section': 'Workshops: dlthub', 'question': 'There is an error when running main(): FileNotFoundError: Table notion_pages___homework does not exist.Please first call db.create_table(notion_pages___homework, data)', 'course': 'llm-zoomcamp', 'document_id': 'e18124d4'}\n",
      "{'text': 'This course is being offered for the first time, and things will keep changing until a given module is ready, at which point it shall be announced. Working on the material/homework in advance will be at your own risk, as the final version could be different.', 'section': 'General course-related questions', 'question': 'I was working on next week’s homework/content - why does it keep changing?', 'course': 'llm-zoomcamp', 'document_id': 'fb81c6ff'}\n",
      "{'text': 'The zoom link is only published to instructors/presenters/TAs.\\nStudents participate via Youtube Live and submit questions to Slido (link would be pinned in the chat when Alexey goes Live). The video URL should be posted in the announcements channel on Telegram & Slack before it begins. Also, you will see it live on the DataTalksClub YouTube Channel.\\nDon’t post your questions in chat as it would be off-screen before the instructors/moderators have a chance to answer it if the room is very active.', 'section': 'General course-related questions', 'question': 'What is the video/zoom link to the stream for the “Office Hours” or live/workshop sessions?', 'course': 'llm-zoomcamp', 'document_id': 'a5301a1f'}\n",
      "{'text': \"You don't need it. You're accepted. You can also just start learning and submitting homework (while the form is Open) without registering. It is not checked against any registered list. Registration is just to gauge interest before the start date.\", 'section': 'General course-related questions', 'question': 'Course - I have registered for the [insert-zoomcamp-name]. When can I expect to receive the confirmation email?', 'course': 'llm-zoomcamp', 'document_id': 'a57f9581'}\n",
      "{'text': 'Option1: using direnv\\ncreated the .envrc file & added my API key, ran direnv allow in the terminal\\nwas getting an error: \"OpenAIError: The api_key client option must be set either by passing api_key to the client or by setting the OPENAI_API_KEY environment variable\"\\nresolution: install dotenv & add the following to a cell in the notebook. You can install dotenv by running: pip install python-dotenv.\\nfrom dotenv import load_dotenv\\nload_dotenv(\\'.envrc\\')\\nOption 2: using Codespaces Secrets\\nLog in to your GitHub account and navigate to Settings > Codespaces\\nThere is a section called secrets where you can create Secrets like OPENAI_API_KEY and select for which repositories the secret is supposed to be available.\\nOnce you set this up, the key will be available in your codespaces session', 'section': 'Module 1: Introduction', 'question': 'Authentication: Why is my OPENAI_API_KEY not found in the jupyter notebook?', 'course': 'llm-zoomcamp', 'document_id': 'baea0a66'}\n",
      "{'text': 'Make sure your search function receives a query vector, not a dictionary. To resolve this, ensure that the q passed to the search_function within evaluate is correctly transformed into an embedding vector. The following code can help:\\nv_query = embedding_model.encode(query_text)\\nresults = search_function(v_query)', 'section': 'Module 3: X', 'question': \"TypeError: unsupported operand type(s) for *: 'float' and 'dict' when running the vector search function within the evaluate function\", 'course': 'llm-zoomcamp', 'document_id': '2806a1c1'}\n",
      "{'text': 'Inside .env file change POSTGRES_HOST=localhost', 'section': 'Module 4: Monitoring', 'question': 'OperationalError when running python prep.pypsycopg2. OperationalError: could not translate host name \"postgres\" to address: No such host is known. How do I fix this issue?', 'course': 'llm-zoomcamp', 'document_id': 'a2dca2e2'}\n"
     ]
    }
   ],
   "source": [
    "# 示例：简单的 match_all 查询\n",
    "query = 'When is the next cohort?'\n",
    "response = esclient.search(index='documents_20240908_1243', body={\n",
    "    \"query\": {\n",
    "        \"match\": {\n",
    "            \"question\": query  # 替换 \"your_field_name\" 为你实际使用的字段名称\n",
    "        }\n",
    "    }\n",
    "})\n",
    "# 打印查询结果\n",
    "for hit in response['hits']['hits']:\n",
    "    print(hit[\"_source\"])"
   ]
  },
  {
   "cell_type": "code",
   "execution_count": null,
   "id": "8b415b4e-f4e1-41fb-a6e0-a555674c796b",
   "metadata": {},
   "outputs": [],
   "source": []
  }
 ],
 "metadata": {
  "kernelspec": {
   "display_name": "Python 3 (ipykernel)",
   "language": "python",
   "name": "python3"
  },
  "language_info": {
   "codemirror_mode": {
    "name": "ipython",
    "version": 3
   },
   "file_extension": ".py",
   "mimetype": "text/x-python",
   "name": "python",
   "nbconvert_exporter": "python",
   "pygments_lexer": "ipython3",
   "version": "3.12.1"
  }
 },
 "nbformat": 4,
 "nbformat_minor": 5
}
