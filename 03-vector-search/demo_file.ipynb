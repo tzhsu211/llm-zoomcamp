{
 "cells": [
  {
   "cell_type": "code",
   "execution_count": 4,
   "id": "04c6062a-180d-4d35-bbd9-d4d0915b4b3c",
   "metadata": {},
   "outputs": [],
   "source": [
    "import json\n",
    "from elasticsearch import Elasticsearch"
   ]
  },
  {
   "cell_type": "markdown",
   "id": "6dcf45ee-5196-4553-9ac0-e90207cee193",
   "metadata": {},
   "source": [
    "## 1. Read json file"
   ]
  },
  {
   "cell_type": "code",
   "execution_count": 5,
   "id": "5f2c61a0-4f6b-4a1f-bcbc-36c9162648ac",
   "metadata": {},
   "outputs": [],
   "source": [
    "with open('documents.json', 'rt') as f:\n",
    "    doc_raw = json.load(f)"
   ]
  },
  {
   "cell_type": "code",
   "execution_count": 6,
   "id": "55870bd4-976e-445c-96dc-c7552faaeeb3",
   "metadata": {},
   "outputs": [],
   "source": [
    "documents = []\n",
    "\n",
    "for course in doc_raw:\n",
    "    course_name = course['course']\n",
    "\n",
    "    for doc in course['documents']:\n",
    "        doc['course'] = course_name\n",
    "        documents.append(doc)"
   ]
  },
  {
   "cell_type": "code",
   "execution_count": 7,
   "id": "c0402e1a-21f2-41e0-94c0-a5c667f8335b",
   "metadata": {},
   "outputs": [
    {
     "data": {
      "text/plain": [
       "{'text': \"The purpose of this document is to capture frequently asked technical questions\\nThe exact day and hour of the course will be 15th Jan 2024 at 17h00. The course will start with the first  “Office Hours'' live.1\\nSubscribe to course public Google Calendar (it works from Desktop only).\\nRegister before the course starts using this link.\\nJoin the course Telegram channel with announcements.\\nDon’t forget to register in DataTalks.Club's Slack and join the channel.\",\n",
       " 'section': 'General course-related questions',\n",
       " 'question': 'Course - When will the course start?',\n",
       " 'course': 'data-engineering-zoomcamp'}"
      ]
     },
     "execution_count": 7,
     "metadata": {},
     "output_type": "execute_result"
    }
   ],
   "source": [
    "documents[0]"
   ]
  },
  {
   "cell_type": "markdown",
   "id": "ae773fd5-ddc8-41da-a812-318a99607822",
   "metadata": {},
   "source": [
    "## 2. Embedding model"
   ]
  },
  {
   "cell_type": "code",
   "execution_count": 8,
   "id": "7d39459d-4d07-4396-80e5-d2c01757d7e9",
   "metadata": {},
   "outputs": [
    {
     "name": "stdout",
     "output_type": "stream",
     "text": [
      "Requirement already satisfied: sentence-transformers in /usr/local/python/3.10.13/lib/python3.10/site-packages (3.0.1)\n",
      "Requirement already satisfied: transformers<5.0.0,>=4.34.0 in /usr/local/python/3.10.13/lib/python3.10/site-packages (from sentence-transformers) (4.44.0)\n",
      "Requirement already satisfied: tqdm in /home/codespace/.local/lib/python3.10/site-packages (from sentence-transformers) (4.66.5)\n",
      "Requirement already satisfied: torch>=1.11.0 in /home/codespace/.local/lib/python3.10/site-packages (from sentence-transformers) (2.3.1+cpu)\n",
      "Requirement already satisfied: numpy in /home/codespace/.local/lib/python3.10/site-packages (from sentence-transformers) (2.0.0)\n",
      "Requirement already satisfied: scikit-learn in /home/codespace/.local/lib/python3.10/site-packages (from sentence-transformers) (1.5.1)\n",
      "Requirement already satisfied: scipy in /home/codespace/.local/lib/python3.10/site-packages (from sentence-transformers) (1.14.0)\n",
      "Requirement already satisfied: huggingface-hub>=0.15.1 in /usr/local/python/3.10.13/lib/python3.10/site-packages (from sentence-transformers) (0.24.5)\n",
      "Requirement already satisfied: Pillow in /home/codespace/.local/lib/python3.10/site-packages (from sentence-transformers) (10.4.0)\n",
      "Requirement already satisfied: filelock in /home/codespace/.local/lib/python3.10/site-packages (from huggingface-hub>=0.15.1->sentence-transformers) (3.15.4)\n",
      "Requirement already satisfied: fsspec>=2023.5.0 in /home/codespace/.local/lib/python3.10/site-packages (from huggingface-hub>=0.15.1->sentence-transformers) (2024.6.1)\n",
      "Requirement already satisfied: packaging>=20.9 in /home/codespace/.local/lib/python3.10/site-packages (from huggingface-hub>=0.15.1->sentence-transformers) (24.1)\n",
      "Requirement already satisfied: pyyaml>=5.1 in /home/codespace/.local/lib/python3.10/site-packages (from huggingface-hub>=0.15.1->sentence-transformers) (6.0.1)\n",
      "Requirement already satisfied: requests in /home/codespace/.local/lib/python3.10/site-packages (from huggingface-hub>=0.15.1->sentence-transformers) (2.32.3)\n",
      "Requirement already satisfied: typing-extensions>=3.7.4.3 in /home/codespace/.local/lib/python3.10/site-packages (from huggingface-hub>=0.15.1->sentence-transformers) (4.12.2)\n",
      "Requirement already satisfied: sympy in /home/codespace/.local/lib/python3.10/site-packages (from torch>=1.11.0->sentence-transformers) (1.13.0)\n",
      "Requirement already satisfied: networkx in /home/codespace/.local/lib/python3.10/site-packages (from torch>=1.11.0->sentence-transformers) (3.3)\n",
      "Requirement already satisfied: jinja2 in /home/codespace/.local/lib/python3.10/site-packages (from torch>=1.11.0->sentence-transformers) (3.1.4)\n",
      "Requirement already satisfied: regex!=2019.12.17 in /usr/local/python/3.10.13/lib/python3.10/site-packages (from transformers<5.0.0,>=4.34.0->sentence-transformers) (2024.7.24)\n",
      "Requirement already satisfied: safetensors>=0.4.1 in /usr/local/python/3.10.13/lib/python3.10/site-packages (from transformers<5.0.0,>=4.34.0->sentence-transformers) (0.4.4)\n",
      "Requirement already satisfied: tokenizers<0.20,>=0.19 in /usr/local/python/3.10.13/lib/python3.10/site-packages (from transformers<5.0.0,>=4.34.0->sentence-transformers) (0.19.1)\n",
      "Requirement already satisfied: joblib>=1.2.0 in /home/codespace/.local/lib/python3.10/site-packages (from scikit-learn->sentence-transformers) (1.4.2)\n",
      "Requirement already satisfied: threadpoolctl>=3.1.0 in /home/codespace/.local/lib/python3.10/site-packages (from scikit-learn->sentence-transformers) (3.5.0)\n",
      "Requirement already satisfied: MarkupSafe>=2.0 in /home/codespace/.local/lib/python3.10/site-packages (from jinja2->torch>=1.11.0->sentence-transformers) (2.1.5)\n",
      "Requirement already satisfied: charset-normalizer<4,>=2 in /home/codespace/.local/lib/python3.10/site-packages (from requests->huggingface-hub>=0.15.1->sentence-transformers) (3.3.2)\n",
      "Requirement already satisfied: idna<4,>=2.5 in /home/codespace/.local/lib/python3.10/site-packages (from requests->huggingface-hub>=0.15.1->sentence-transformers) (3.7)\n",
      "Requirement already satisfied: urllib3<3,>=1.21.1 in /home/codespace/.local/lib/python3.10/site-packages (from requests->huggingface-hub>=0.15.1->sentence-transformers) (2.2.2)\n",
      "Requirement already satisfied: certifi>=2017.4.17 in /home/codespace/.local/lib/python3.10/site-packages (from requests->huggingface-hub>=0.15.1->sentence-transformers) (2024.7.4)\n",
      "Requirement already satisfied: mpmath<1.4,>=1.1.0 in /home/codespace/.local/lib/python3.10/site-packages (from sympy->torch>=1.11.0->sentence-transformers) (1.3.0)\n",
      "\n",
      "\u001b[1m[\u001b[0m\u001b[34;49mnotice\u001b[0m\u001b[1;39;49m]\u001b[0m\u001b[39;49m A new release of pip is available: \u001b[0m\u001b[31;49m24.1.2\u001b[0m\u001b[39;49m -> \u001b[0m\u001b[32;49m24.2\u001b[0m\n",
      "\u001b[1m[\u001b[0m\u001b[34;49mnotice\u001b[0m\u001b[1;39;49m]\u001b[0m\u001b[39;49m To update, run: \u001b[0m\u001b[32;49mpython -m pip install --upgrade pip\u001b[0m\n",
      "Note: you may need to restart the kernel to use updated packages.\n"
     ]
    }
   ],
   "source": [
    "pip install sentence-transformers"
   ]
  },
  {
   "cell_type": "code",
   "execution_count": 9,
   "id": "510281bc-052e-4a45-aa0a-36749243a828",
   "metadata": {},
   "outputs": [
    {
     "name": "stderr",
     "output_type": "stream",
     "text": [
      "/usr/local/python/3.10.13/lib/python3.10/site-packages/sentence_transformers/cross_encoder/CrossEncoder.py:11: TqdmWarning: IProgress not found. Please update jupyter and ipywidgets. See https://ipywidgets.readthedocs.io/en/stable/user_install.html\n",
      "  from tqdm.autonotebook import tqdm, trange\n"
     ]
    }
   ],
   "source": [
    "from sentence_transformers import SentenceTransformer"
   ]
  },
  {
   "cell_type": "code",
   "execution_count": 10,
   "id": "bb9a0c11-96ad-4c34-bd91-5f7bb038f67e",
   "metadata": {},
   "outputs": [
    {
     "name": "stderr",
     "output_type": "stream",
     "text": [
      "/usr/local/python/3.10.13/lib/python3.10/site-packages/transformers/tokenization_utils_base.py:1601: FutureWarning: `clean_up_tokenization_spaces` was not set. It will be set to `True` by default. This behavior will be depracted in transformers v4.45, and will be then set to `False` by default. For more details check this issue: https://github.com/huggingface/transformers/issues/31884\n",
      "  warnings.warn(\n"
     ]
    }
   ],
   "source": [
    "model = SentenceTransformer('all-mpnet-base-v2')"
   ]
  },
  {
   "cell_type": "code",
   "execution_count": 11,
   "id": "76d2332c-dc26-42d0-879a-70cbfdc7e462",
   "metadata": {},
   "outputs": [
    {
     "data": {
      "text/plain": [
       "768"
      ]
     },
     "execution_count": 11,
     "metadata": {},
     "output_type": "execute_result"
    }
   ],
   "source": [
    "len(model.encode('Hi'))"
   ]
  },
  {
   "cell_type": "code",
   "execution_count": 12,
   "id": "c6e5a92a-a4e0-4430-8900-ffb43a01c73a",
   "metadata": {},
   "outputs": [
    {
     "data": {
      "text/plain": [
       "numpy.ndarray"
      ]
     },
     "execution_count": 12,
     "metadata": {},
     "output_type": "execute_result"
    }
   ],
   "source": [
    "type(model.encode('Hi'))"
   ]
  },
  {
   "cell_type": "code",
   "execution_count": 13,
   "id": "44fc0e1c-d1d9-459a-9254-8bdabf7ecb53",
   "metadata": {},
   "outputs": [
    {
     "data": {
      "text/plain": [
       "{'text': \"The purpose of this document is to capture frequently asked technical questions\\nThe exact day and hour of the course will be 15th Jan 2024 at 17h00. The course will start with the first  “Office Hours'' live.1\\nSubscribe to course public Google Calendar (it works from Desktop only).\\nRegister before the course starts using this link.\\nJoin the course Telegram channel with announcements.\\nDon’t forget to register in DataTalks.Club's Slack and join the channel.\",\n",
       " 'section': 'General course-related questions',\n",
       " 'question': 'Course - When will the course start?',\n",
       " 'course': 'data-engineering-zoomcamp'}"
      ]
     },
     "execution_count": 13,
     "metadata": {},
     "output_type": "execute_result"
    }
   ],
   "source": [
    "documents[0]"
   ]
  },
  {
   "cell_type": "code",
   "execution_count": null,
   "id": "f0f8d3cd-9576-4bb7-8285-95e5f7642285",
   "metadata": {},
   "outputs": [],
   "source": [
    "operation = []\n",
    "for doc in documents:\n",
    "    doc['text_vector'] = model.encode(doc['text']).tolist() # change from nparray to list\n",
    "    operation.append(doc)"
   ]
  },
  {
   "cell_type": "markdown",
   "id": "67937f88-5cbe-4a0d-8886-2e1d8552d258",
   "metadata": {},
   "source": [
    "## 3. Elasticsearch"
   ]
  },
  {
   "cell_type": "code",
   "execution_count": null,
   "id": "805f16db-c83d-49f5-8959-80a1e273dcc5",
   "metadata": {},
   "outputs": [],
   "source": [
    "import elasticsearch"
   ]
  },
  {
   "cell_type": "code",
   "execution_count": null,
   "id": "cdd18e95-b28a-4cda-8431-2e7a7f5ff07d",
   "metadata": {},
   "outputs": [],
   "source": [
    "elasticsearch.VERSION"
   ]
  },
  {
   "cell_type": "code",
   "execution_count": null,
   "id": "73bf3ae3-ffb6-440d-849a-56c82a02a7e8",
   "metadata": {},
   "outputs": [],
   "source": [
    "client = Elasticsearch(\n",
    "        \"http://localhost:9200\",\n",
    "    )"
   ]
  },
  {
   "cell_type": "code",
   "execution_count": null,
   "id": "290424ce-009e-47d2-b30c-b43a31c5b6cc",
   "metadata": {},
   "outputs": [],
   "source": [
    "client.info()"
   ]
  },
  {
   "cell_type": "code",
   "execution_count": null,
   "id": "6b8d5137-6617-4794-91a6-967c1c4c0345",
   "metadata": {},
   "outputs": [],
   "source": [
    "index_setting = {\n",
    "    'settings':{\n",
    "        'number_of_shards':1,\n",
    "        'number_of_replicas':0\n",
    "    },\n",
    "    'mappings':{\n",
    "        'properties':{\n",
    "            'text':{'type':'text'},\n",
    "            'section':{'type':'text'},\n",
    "            'question':{'type':'text'},\n",
    "            'course':{'type':'keyword'}, #keyword means it need to be exact the same when searching\n",
    "            'text_vector':{'type':'dense_vector', \n",
    "                           'dims': 768, \n",
    "                           'index':True, # index is set to True by default. It means whether this data is used for searching or not.\n",
    "                           'similarity':'cosine'\n",
    "                          }\n",
    "        }\n",
    "    }\n",
    "}\n",
    "\n",
    "#Note: from Elasticsearch v 8.11, it is optional to provide dims, index and similarity parameters in the mapping of dense_vector."
   ]
  },
  {
   "cell_type": "code",
   "execution_count": null,
   "id": "b8253bd8-9590-4766-b7ac-e12a1030b768",
   "metadata": {},
   "outputs": [],
   "source": [
    "index_name = 'course-question'"
   ]
  },
  {
   "cell_type": "code",
   "execution_count": null,
   "id": "f7a8b0ab-56b6-4e31-8bce-e2ff0f54fe2f",
   "metadata": {},
   "outputs": [],
   "source": [
    "client.indices.create(index=index_name, body=index_setting)"
   ]
  },
  {
   "cell_type": "markdown",
   "id": "643714d7-4f59-4102-9db1-8ba50758a8f7",
   "metadata": {},
   "source": [
    "## 4. Add doc into index"
   ]
  },
  {
   "cell_type": "code",
   "execution_count": null,
   "id": "58eb3da8-021e-4ff0-8ef2-3252bf8201ad",
   "metadata": {},
   "outputs": [],
   "source": [
    "for doc in operation:\n",
    "    try:\n",
    "        client.index(index=index_name, document= doc)\n",
    "    except Exception as e:\n",
    "        print(e)"
   ]
  },
  {
   "cell_type": "markdown",
   "id": "e8c7d5ec-b6bb-45ee-9bbf-c4949dc9d81a",
   "metadata": {},
   "source": [
    "## 5. create query"
   ]
  },
  {
   "cell_type": "code",
   "execution_count": null,
   "id": "91d75077-69d2-47ce-b0d8-1cd3b917e13b",
   "metadata": {},
   "outputs": [],
   "source": [
    "query = 'windows or mac?'\n",
    "query_e = model.encode(query)"
   ]
  },
  {
   "cell_type": "code",
   "execution_count": null,
   "id": "b735bb68-a72e-4b5d-b8bd-94a839cf367d",
   "metadata": {},
   "outputs": [],
   "source": [
    "quert_setting = {\n",
    "    'field':'text_vector',\n",
    "    'query_vector' : query_e,\n",
    "    'k' :5, # top-k nearest neighbor\n",
    "    'num_candidates': 10000,\n",
    "}"
   ]
  },
  {
   "cell_type": "code",
   "execution_count": 65,
   "id": "d8fb7710-54ec-4f4c-bb9b-01aa0eb4a5b1",
   "metadata": {},
   "outputs": [],
   "source": [
    "res = client.search(\n",
    "    index= index_name,\n",
    "    knn = quert_setting, \n",
    "    source=['question', 'section', 'text', 'course']\n",
    ")"
   ]
  },
  {
   "cell_type": "code",
   "execution_count": 67,
   "id": "d747f6c7-d5de-4540-b03a-719ab617df2b",
   "metadata": {},
   "outputs": [
    {
     "data": {
      "text/plain": [
       "{'_index': 'course-question',\n",
       " '_id': 'jEXZPZEBawL6flzDnd9m',\n",
       " '_score': 0.7147919,\n",
       " '_source': {'question': 'Environment - Is the course [Windows/mac/Linux/...] friendly?',\n",
       "  'course': 'data-engineering-zoomcamp',\n",
       "  'section': 'General course-related questions',\n",
       "  'text': 'Yes! Linux is ideal but technically it should not matter. Students last year used all 3 OSes successfully'}}"
      ]
     },
     "execution_count": 67,
     "metadata": {},
     "output_type": "execute_result"
    }
   ],
   "source": [
    "res['hits']['hits'][0]"
   ]
  },
  {
   "cell_type": "code",
   "execution_count": 68,
   "id": "13f563eb-f7d1-4037-8ec7-0f888567d520",
   "metadata": {},
   "outputs": [
    {
     "data": {
      "text/plain": [
       "{'_index': 'course-question',\n",
       " '_id': 'jEXZPZEBawL6flzDnd9m',\n",
       " '_score': 0.7147919,\n",
       " '_source': {'text': 'Yes! Linux is ideal but technically it should not matter. Students last year used all 3 OSes successfully'}}"
      ]
     },
     "execution_count": 68,
     "metadata": {},
     "output_type": "execute_result"
    }
   ],
   "source": [
    "res1 = client.search(\n",
    "    index= index_name,\n",
    "    knn = quert_setting, \n",
    "    source=['text']\n",
    ")\n",
    "res1['hits']['hits'][0]"
   ]
  },
  {
   "cell_type": "code",
   "execution_count": null,
   "id": "7cf91634-cc73-434d-8412-de43cccb5570",
   "metadata": {},
   "outputs": [],
   "source": [
    "res2 = client.search(\n",
    "    index= index_name,\n",
    "    knn = quert_setting,\n",
    "    \n",
    "    source=['text']\n",
    ")\n",
    "res1['hits']['hits'][0]"
   ]
  },
  {
   "cell_type": "code",
   "execution_count": 1,
   "id": "23a44a16-993a-4e79-aea8-55aa0376c79f",
   "metadata": {},
   "outputs": [
    {
     "name": "stdout",
     "output_type": "stream",
     "text": [
      "Object `client.search` not found.\n"
     ]
    }
   ],
   "source": []
  },
  {
   "cell_type": "code",
   "execution_count": null,
   "id": "3710c865-de6a-46a3-b11f-e9b9f7237c5c",
   "metadata": {},
   "outputs": [],
   "source": []
  }
 ],
 "metadata": {
  "kernelspec": {
   "display_name": "Python 3 (ipykernel)",
   "language": "python",
   "name": "python3"
  },
  "language_info": {
   "codemirror_mode": {
    "name": "ipython",
    "version": 3
   },
   "file_extension": ".py",
   "mimetype": "text/x-python",
   "name": "python",
   "nbconvert_exporter": "python",
   "pygments_lexer": "ipython3",
   "version": "3.10.13"
  }
 },
 "nbformat": 4,
 "nbformat_minor": 5
}
