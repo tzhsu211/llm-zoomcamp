{
 "cells": [
  {
   "cell_type": "code",
   "execution_count": 17,
   "id": "88a105e5-dce4-4051-b63e-b6182b0e337f",
   "metadata": {},
   "outputs": [],
   "source": [
    "from sentence_transformers import SentenceTransformer\n",
    "import requests\n",
    "import json\n",
    "from elasticsearch import Elasticsearch\n",
    "import numpy as np\n",
    "from tqdm.auto import tqdm"
   ]
  },
  {
   "cell_type": "code",
   "execution_count": 6,
   "id": "8823c800-2328-4408-a5fc-a08019fe221f",
   "metadata": {},
   "outputs": [
    {
     "name": "stderr",
     "output_type": "stream",
     "text": [
      "c:\\Users\\HSUPC\\python_files\\新增資料夾\\.venv\\lib\\site-packages\\huggingface_hub\\file_download.py:159: UserWarning: `huggingface_hub` cache-system uses symlinks by default to efficiently store duplicated files but your machine does not support them in C:\\Users\\HSUPC\\.cache\\huggingface\\hub\\models--sentence-transformers--multi-qa-distilbert-cos-v1. Caching files will still work but in a degraded version that might require more space on your disk. This warning can be disabled by setting the `HF_HUB_DISABLE_SYMLINKS_WARNING` environment variable. For more details, see https://huggingface.co/docs/huggingface_hub/how-to-cache#limitations.\n",
      "To support symlinks on Windows, you either need to activate Developer Mode or to run Python as an administrator. In order to see activate developer mode, see this article: https://docs.microsoft.com/en-us/windows/apps/get-started/enable-your-device-for-development\n",
      "  warnings.warn(message)\n",
      "c:\\Users\\HSUPC\\python_files\\新增資料夾\\.venv\\lib\\site-packages\\transformers\\tokenization_utils_base.py:1601: FutureWarning: `clean_up_tokenization_spaces` was not set. It will be set to `True` by default. This behavior will be depracted in transformers v4.45, and will be then set to `False` by default. For more details check this issue: https://github.com/huggingface/transformers/issues/31884\n",
      "  warnings.warn(\n"
     ]
    }
   ],
   "source": [
    "model = SentenceTransformer('multi-qa-distilbert-cos-v1')"
   ]
  },
  {
   "cell_type": "code",
   "execution_count": 10,
   "id": "e40b3be6-a41e-450c-b6aa-d6f6226a2f1b",
   "metadata": {},
   "outputs": [],
   "source": [
    "base_url = 'https://github.com/DataTalksClub/llm-zoomcamp/blob/main'\n",
    "relative_url = '03-vector-search/eval/documents-with-ids.json'\n",
    "docs_url = f'{base_url}/{relative_url}?raw=1'\n",
    "docs_response = requests.get(docs_url)\n",
    "documents = docs_response.json()"
   ]
  },
  {
   "cell_type": "code",
   "execution_count": 22,
   "id": "942eb3fe-6c45-4c92-aa98-40c79c14df16",
   "metadata": {},
   "outputs": [
    {
     "data": {
      "text/plain": [
       "948"
      ]
     },
     "execution_count": 22,
     "metadata": {},
     "output_type": "execute_result"
    }
   ],
   "source": [
    "len(documents)"
   ]
  },
  {
   "cell_type": "code",
   "execution_count": 23,
   "id": "4a823296-9f9e-41b9-96b2-94ae71966742",
   "metadata": {},
   "outputs": [
    {
     "data": {
      "text/plain": [
       "{'text': \"The purpose of this document is to capture frequently asked technical questions\\nThe exact day and hour of the course will be 15th Jan 2024 at 17h00. The course will start with the first  “Office Hours'' live.1\\nSubscribe to course public Google Calendar (it works from Desktop only).\\nRegister before the course starts using this link.\\nJoin the course Telegram channel with announcements.\\nDon’t forget to register in DataTalks.Club's Slack and join the channel.\",\n",
       " 'section': 'General course-related questions',\n",
       " 'question': 'Course - When will the course start?',\n",
       " 'course': 'data-engineering-zoomcamp',\n",
       " 'id': 'c02e79ef'}"
      ]
     },
     "execution_count": 23,
     "metadata": {},
     "output_type": "execute_result"
    }
   ],
   "source": [
    "documents[0]"
   ]
  },
  {
   "cell_type": "markdown",
   "id": "749655d5-aa27-4ab5-bc32-c6b86c5702bc",
   "metadata": {},
   "source": [
    "## Q1\n",
    "\n",
    "##### Getting the embeddings model\n",
    "##### First, we will get the embeddings model multi-qa-distilbert-cos-v1 from the Sentence Transformer library\n",
    "\n",
    "##### from sentence_transformers import SentenceTransformer\n",
    "##### embedding_model = SentenceTransformer(model_name)\n",
    "##### Create the embedding for this user question:\n",
    "\n",
    "##### user_question = \"I just discovered the course. Can I still join it?\"\n",
    "##### What's the first value of the resulting vector?\n",
    "\n",
    "* -0.24\n",
    "* -0.04\n",
    "* 0.07\n",
    "* 0.27"
   ]
  },
  {
   "cell_type": "code",
   "execution_count": 128,
   "id": "abc5c9f6-9ebf-4863-9b4d-59e0284dc963",
   "metadata": {},
   "outputs": [
    {
     "data": {
      "text/plain": [
       "0.07281464"
      ]
     },
     "execution_count": 128,
     "metadata": {},
     "output_type": "execute_result"
    }
   ],
   "source": [
    "question = 'I just discovered the course. Can I still join it'\n",
    "q = model.encode(question)\n",
    "q[0]"
   ]
  },
  {
   "cell_type": "markdown",
   "id": "714c0489-7d02-4c8f-9162-02edf791ae3c",
   "metadata": {},
   "source": [
    "## Q2. Creating the embeddings\n",
    "##### Now for each document, we will create an embedding for both question and answer fields.\n",
    "\n",
    "##### We want to put all of them into a single matrix X:\n",
    "\n",
    "##### Create a list embeddings\n",
    "##### Iterate over each document\n",
    "##### qa_text = f'{question} {text}'\n",
    "##### compute the embedding for qa_text, append to embeddings\n",
    "##### At the end, let X = np.array(embeddings) (import numpy as np)\n",
    "##### What's the shape of X? (X.shape). Include the parantheses."
   ]
  },
  {
   "cell_type": "code",
   "execution_count": 130,
   "id": "f32ea418-e721-40c6-9ba5-1336df13bbb3",
   "metadata": {},
   "outputs": [],
   "source": [
    "documents = [d for d in documents if d['course']=='machine-learning-zoomcamp']"
   ]
  },
  {
   "cell_type": "markdown",
   "id": "797b79d7-854c-4296-8bf8-529d52c5ba86",
   "metadata": {},
   "source": [
    "### We will use only a subset of the questions - the questions for \"machine-learning-zoomcamp\". After filtering, you should have only 375 documents"
   ]
  },
  {
   "cell_type": "code",
   "execution_count": 131,
   "id": "737db169-1e07-439d-9e9e-0b56c62f8755",
   "metadata": {},
   "outputs": [
    {
     "name": "stderr",
     "output_type": "stream",
     "text": [
      "100%|█████████████████████████████████████████████████████████████████████████████████████████████████████████████████████████████████████████| 375/375 [00:59<00:00,  6.29it/s]\n"
     ]
    },
    {
     "data": {
      "text/plain": [
       "(375, 768)"
      ]
     },
     "execution_count": 131,
     "metadata": {},
     "output_type": "execute_result"
    }
   ],
   "source": [
    "embeddings = []\n",
    "\n",
    "for d in tqdm(documents):\n",
    "    if d['course'] != 'machine-learning-zoomcamp':\n",
    "        continue\n",
    "    qa_text = f\"{d['question']}{d['text']}\"\n",
    "    v_qa_text = model.encode(qa_text)\n",
    "    embeddings.append(v_qa_text)\n",
    "x = np.array(embeddings)\n",
    "x.shape\n"
   ]
  },
  {
   "cell_type": "code",
   "execution_count": 132,
   "id": "3866261a-5732-4c49-bc8c-8c36530654f6",
   "metadata": {},
   "outputs": [
    {
     "data": {
      "text/plain": [
       "'Any advice for adding the Machine Learning Zoomcamp experience to your LinkedIn profile?I’ve seen LinkedIn users list DataTalksClub as Experience with titles as:\\nMachine Learning Fellow\\nMachine Learning Student\\nMachine Learning Participant\\nMachine Learning Trainee\\nPlease note it is best advised that you do not list the experience as an official “job” or “internship” experience since DataTalksClub did not hire you, nor financially compensate you.\\nOther ways you can incorporate the experience in the following sections:\\nOrganizations\\nProjects\\nSkills\\nFeatured\\nOriginal posts\\nCertifications\\nCourses\\nBy Annaliese Bronz\\nInteresting question, I put the link of my project into my CV as showcase and make posts to show my progress.\\nBy Ani Mkrtumyan'"
      ]
     },
     "execution_count": 132,
     "metadata": {},
     "output_type": "execute_result"
    }
   ],
   "source": [
    "qa_text"
   ]
  },
  {
   "cell_type": "markdown",
   "id": "e62d506c-6a33-414c-a141-7ccdc9fbdca7",
   "metadata": {},
   "source": [
    "## Q3. Search\n",
    "##### We have the embeddings and the query vector. Now let's compute the cosine similarity between the vector from Q1 (let's call it v) and the matrix from Q2.\n",
    "\n",
    "##### The vectors returned from the embedding model are already normalized (you can check it by computing a dot product of a vector with itself - it should return something very close to 1.0). This means that in order to compute the cosine similarity, it's sufficient to multiply the matrix X by the vector v:\n",
    "\n",
    "##### scores = X.dot(v)\n",
    "##### What's the highest score in the results?\n",
    "\n",
    "* 65.0\n",
    "* 6.5\n",
    "* 0.65\n",
    "* 0.065"
   ]
  },
  {
   "cell_type": "code",
   "execution_count": 133,
   "id": "9ba31ffd-ff70-4173-aa32-e6d25a824d05",
   "metadata": {},
   "outputs": [],
   "source": [
    "scores = x.dot(q)"
   ]
  },
  {
   "cell_type": "code",
   "execution_count": 134,
   "id": "73736b92-eaf7-4a9c-9d8e-c8893d9e08c3",
   "metadata": {},
   "outputs": [
    {
     "data": {
      "text/plain": [
       "0.65601325"
      ]
     },
     "execution_count": 134,
     "metadata": {},
     "output_type": "execute_result"
    }
   ],
   "source": [
    "max(scores)"
   ]
  },
  {
   "cell_type": "markdown",
   "id": "d0c91b6e-8be1-45cf-83fa-d622ec97d98e",
   "metadata": {},
   "source": [
    "## Vector search\n",
    "##### We can now compute the similarity between a query vector and all the embeddings.\n",
    "\n",
    "##### Let's use this to implement our own vector search\n",
    "\n",
    "'''\n",
    "\n",
    "    class VectorSearchEngine():\n",
    "        def __init__(self, documents, embeddings):\n",
    "            self.documents = documents\n",
    "            self.embeddings = embeddings\n",
    "    \n",
    "        def search(self, v_query, num_results=10):\n",
    "            scores = self.embeddings.dot(v_query)\n",
    "            idx = np.argsort(-scores)[:num_results]\n",
    "            return [self.documents[i] for i in idx]\n",
    "    \n",
    "    search_engine = VectorSearchEngine(documents=documents, embeddings=X)\n",
    "    search_engine.search(v, num_results=5)\n",
    "\n",
    "'''\n",
    "##### If you don't understand how the search function work:\n",
    "\n",
    "##### Ask ChatGTP or any other LLM of your choice to explain the code\n",
    "##### Check our pre-course workshop about implementing a search engine here\n",
    "##### (Note: you can replace argsort with argpartition to make it a lot faster)"
   ]
  },
  {
   "cell_type": "code",
   "execution_count": 36,
   "id": "328b2334-32e9-4481-b9e5-ef471f3dc51a",
   "metadata": {},
   "outputs": [],
   "source": [
    "class VectorSearchEngine():\n",
    "    def __init__(self, documents, embeddings):\n",
    "        self.documents = documents\n",
    "        self.embeddings = embeddings\n",
    "\n",
    "    def search(self, v_query, num_results=10):\n",
    "        scores = self.embeddings.dot(v_query)\n",
    "        idx = np.argsort(-scores)[:num_results]\n",
    "        return [self.documents[i] for i in idx]\n"
   ]
  },
  {
   "cell_type": "code",
   "execution_count": 135,
   "id": "97348c65-f050-420e-8953-f90256c804b4",
   "metadata": {},
   "outputs": [
    {
     "data": {
      "text/plain": [
       "[{'text': 'Yes, you can. You won’t be able to submit some of the homeworks, but you can still take part in the course.\\nIn order to get a certificate, you need to submit 2 out of 3 course projects and review 3 peers’ Projects by the deadline. It means that if you join the course at the end of November and manage to work on two projects, you will still be eligible for a certificate.',\n",
       "  'section': 'General course-related questions',\n",
       "  'question': 'The course has already started. Can I still join it?',\n",
       "  'course': 'machine-learning-zoomcamp',\n",
       "  'id': 'ee58a693'},\n",
       " {'text': 'Welcome to the course! Go to the course page (http://mlzoomcamp.com/), scroll down and start going through the course materials. Then read everything in the cohort folder for your cohort’s year.\\nClick on the links and start watching the videos. Also watch office hours from previous cohorts. Go to DTC youtube channel and click on Playlists and search for {course yyyy}. ML Zoomcamp was first launched in 2021.\\nOr you can just use this link: http://mlzoomcamp.com/#syllabus',\n",
       "  'section': 'General course-related questions',\n",
       "  'question': 'I just joined. What should I do next? How can I access course materials?',\n",
       "  'course': 'machine-learning-zoomcamp',\n",
       "  'id': '0a278fb2'},\n",
       " {'text': 'Approximately 4 months, but may take more if you want to do some extra activities (an extra project, an article, etc)',\n",
       "  'section': 'General course-related questions',\n",
       "  'question': 'How long is the course?',\n",
       "  'course': 'machine-learning-zoomcamp',\n",
       "  'id': '67e2fd13'},\n",
       " {'text': \"The process is automated now, so you should receive the email eventually. If you haven’t, check your promotions tab in Gmail as well as spam.\\nIf you unsubscribed from our newsletter, you won't get course related updates too.\\nBut don't worry, it’s not a problem. To make sure you don’t miss anything, join the #course-ml-zoomcamp channel in Slack and our telegram channel with announcements. This is enough to follow the course.\",\n",
       "  'section': 'General course-related questions',\n",
       "  'question': \"I filled the form, but haven't received a confirmation email. Is it normal?\",\n",
       "  'course': 'machine-learning-zoomcamp',\n",
       "  'id': '6ba259b1'},\n",
       " {'text': 'We won’t re-record the course videos. The focus of the course and the skills we want to teach remained the same, and the videos are still up-to-date.\\nIf you haven’t taken part in the previous iteration, you can start watching the videos. It’ll be useful for you and you will learn new things. However, we recommend using Python 3.10 now instead of Python 3.8.',\n",
       "  'section': 'General course-related questions',\n",
       "  'question': 'The course videos are from the previous iteration. Will you release new ones or we’ll use the videos from 2021?',\n",
       "  'course': 'machine-learning-zoomcamp',\n",
       "  'id': 'e7ba6b8a'}]"
      ]
     },
     "execution_count": 135,
     "metadata": {},
     "output_type": "execute_result"
    }
   ],
   "source": [
    "search_engine = VectorSearchEngine(documents=documents, embeddings=x)\n",
    "search_engine.search(q, num_results=5)"
   ]
  },
  {
   "cell_type": "markdown",
   "id": "9563ba1f-ae8a-45b1-a0b2-5c7ae0c493ce",
   "metadata": {},
   "source": [
    "## Q4. Hit-rate for our search engine\n",
    "##### Let's evaluate the performance of our own search engine. We will use the hitrate metric for evaluation.\n",
    "\n",
    "##### First, load the ground truth dataset:\n",
    "\n",
    "\n",
    "\n",
    "'''\n",
    "\n",
    "    import pandas as pd\n",
    "    \n",
    "    base_url = 'https://github.com/DataTalksClub/llm-zoomcamp/blob/main'\n",
    "    relative_url = '03-vector-search/eval/ground-truth-data.csv'\n",
    "    ground_truth_url = f'{base_url}/{relative_url}?raw=1'\n",
    "    \n",
    "    df_ground_truth = pd.read_csv(ground_truth_url)\n",
    "    df_ground_truth = df_ground_truth[df_ground_truth.course == 'machine-learning-zoomcamp']\n",
    "    ground_truth = df_ground_truth.to_dict(orient='records')\n",
    "    \n",
    "'''\n",
    "##### Now use the code from the module to calculate the hitrate of VectorSearchEngine with num_results=5.\n",
    "\n",
    "##### What did you get?\n",
    "\n",
    "* 0.93\n",
    "* 0.73\n",
    "* 0.53\n",
    "* 0.33"
   ]
  },
  {
   "cell_type": "code",
   "execution_count": 39,
   "id": "50a57864-f1ce-49b0-add4-561cba7076bf",
   "metadata": {},
   "outputs": [],
   "source": [
    "import pandas as pd\n",
    "\n",
    "base_url = 'https://github.com/DataTalksClub/llm-zoomcamp/blob/main'\n",
    "relative_url = '03-vector-search/eval/ground-truth-data.csv'\n",
    "ground_truth_url = f'{base_url}/{relative_url}?raw=1'\n",
    "\n",
    "df_ground_truth = pd.read_csv(ground_truth_url)\n",
    "df_ground_truth = df_ground_truth[df_ground_truth.course == 'machine-learning-zoomcamp']\n",
    "ground_truth = df_ground_truth.to_dict(orient='records')"
   ]
  },
  {
   "cell_type": "code",
   "execution_count": 92,
   "id": "ca75239b-b4e7-4a4d-ba0e-09ef82d2f105",
   "metadata": {},
   "outputs": [
    {
     "data": {
      "text/plain": [
       "[{'question': 'Where can I sign up for the course?',\n",
       "  'course': 'machine-learning-zoomcamp',\n",
       "  'document': '0227b872'},\n",
       " {'question': 'Can you provide a link to sign up?',\n",
       "  'course': 'machine-learning-zoomcamp',\n",
       "  'document': '0227b872'}]"
      ]
     },
     "execution_count": 92,
     "metadata": {},
     "output_type": "execute_result"
    }
   ],
   "source": [
    "ground_truth[0:2]"
   ]
  },
  {
   "cell_type": "code",
   "execution_count": 140,
   "id": "ecc3c1ec-0d16-483c-8afc-bdddb6fb1759",
   "metadata": {},
   "outputs": [
    {
     "data": {
      "text/plain": [
       "['0a278fb2', '39fda9f0', 'ee58a693', '4930aa19', '67e2fd13']"
      ]
     },
     "execution_count": 140,
     "metadata": {},
     "output_type": "execute_result"
    }
   ],
   "source": [
    "response = search_engine.search(model.encode(ground_truth[0]['question']), num_results= 5)\n",
    "k = list(a['id'] for a in response)\n",
    "k"
   ]
  },
  {
   "cell_type": "code",
   "execution_count": 141,
   "id": "9cff74cf-280d-4666-b6b9-313580d0b284",
   "metadata": {},
   "outputs": [
    {
     "name": "stderr",
     "output_type": "stream",
     "text": [
      "100%|███████████████████████████████████████████████████████████████████████████████████████████████████████████████████████████████████████| 1830/1830 [01:14<00:00, 24.45it/s]\n"
     ]
    }
   ],
   "source": [
    "result = []\n",
    "\n",
    "for i in tqdm(ground_truth):\n",
    "    vector_q = model.encode(i['question'])\n",
    "    response = search_engine.search(vector_q, num_results= 5)\n",
    "    relevance = [i['document']==d['id'] for d in response]\n",
    "    result.append(relevance)\n"
   ]
  },
  {
   "cell_type": "code",
   "execution_count": 142,
   "id": "106a0df2-058e-4bd4-9c6d-e5aa2285e035",
   "metadata": {},
   "outputs": [],
   "source": [
    "def hit(relevance_total):\n",
    "    cnt = 0\n",
    "    for i in relevance_total:\n",
    "        if True in i:\n",
    "            cnt +=1\n",
    "    return cnt/len(relevance_total)"
   ]
  },
  {
   "cell_type": "code",
   "execution_count": 145,
   "id": "02ac1efc-11ee-4b26-abf6-d51a0cf34482",
   "metadata": {},
   "outputs": [
    {
     "data": {
      "text/plain": [
       "0.9371584699453552"
      ]
     },
     "execution_count": 145,
     "metadata": {},
     "output_type": "execute_result"
    }
   ],
   "source": [
    "hit(result)"
   ]
  },
  {
   "cell_type": "markdown",
   "id": "d2f2aa82-020b-4e45-b763-4e5aeceb8f03",
   "metadata": {},
   "source": [
    "## Q5. Indexing with Elasticsearch\n",
    "##### Now let's index these documents with elasticsearch\n",
    "\n",
    "##### Create the index with the same settings as in the module (but change the dimensions)\n",
    "##### Index the embeddings (note: you've already computed them)\n",
    "##### After indexing, let's perform the search of the same query from Q1.\n",
    "\n",
    "##### What's the ID of the document with the highest score?"
   ]
  },
  {
   "cell_type": "code",
   "execution_count": 180,
   "id": "64378fa0-e1b2-41b0-8703-fd4111992e9b",
   "metadata": {},
   "outputs": [
    {
     "name": "stderr",
     "output_type": "stream",
     "text": [
      "100%|██████████████████████████████████████████████████████████████████████████████████████████████████████████████████████████████████████| 375/375 [00:00<00:00, 93767.97it/s]\n"
     ]
    },
    {
     "data": {
      "text/plain": [
       "{'text': 'Machine Learning Zoomcamp FAQ\\nThe purpose of this document is to capture frequently asked technical questions.\\nWe did this for our data engineering course and it worked quite well. Check this document for inspiration on how to structure your questions and answers:\\nData Engineering Zoomcamp FAQ\\nIn the course GitHub repository there’s a link. Here it is: https://airtable.com/shryxwLd0COOEaqXo\\nwork',\n",
       " 'section': 'General course-related questions',\n",
       " 'question': 'How do I sign up?',\n",
       " 'course': 'machine-learning-zoomcamp',\n",
       " 'id': '0227b872',\n",
       " 'embeddings': array([ 8.80590528e-02,  1.55935511e-02,  7.92557672e-02,  2.52758078e-02,\n",
       "         7.55765215e-02, -3.90597060e-02, -4.13814262e-02,  2.52918135e-02,\n",
       "         2.43241396e-02,  3.62583739e-03, -7.28287455e-03, -3.28751579e-02,\n",
       "         6.12956397e-02, -5.71100935e-02,  1.16774580e-02, -1.79442074e-02,\n",
       "         4.49206308e-02, -5.41606247e-02, -1.92259368e-03,  1.48329744e-02,\n",
       "         7.91359879e-03, -3.43127288e-02,  1.21480720e-02,  1.27185797e-02,\n",
       "        -1.60092711e-02,  7.12140650e-03,  1.58389509e-02, -3.27459449e-04,\n",
       "         3.01296194e-03, -4.58918251e-02, -1.34777394e-03,  2.01149322e-02,\n",
       "         2.33724602e-02, -4.28202562e-03, -3.09384074e-02,  1.94304273e-03,\n",
       "        -1.88219715e-02,  5.35161747e-03,  1.29352231e-02, -3.23958322e-02,\n",
       "         3.10556386e-02,  5.12982113e-03, -3.24426132e-04, -3.15541886e-02,\n",
       "         1.93377454e-02, -6.38601333e-02, -3.05381250e-02, -6.27884790e-02,\n",
       "        -1.74859799e-02,  3.52949537e-02, -2.98071858e-02,  7.45346397e-02,\n",
       "        -2.06182916e-02, -1.79156996e-02,  1.86262447e-02,  5.31014502e-02,\n",
       "         1.19287772e-02, -5.18543832e-02, -1.61921012e-03,  3.58706042e-02,\n",
       "        -6.52325479e-03,  4.53287475e-02, -1.06174191e-02,  1.02416025e-02,\n",
       "        -4.41201776e-02, -7.07985833e-02,  1.33665344e-02, -2.05062870e-02,\n",
       "         3.62042636e-02, -3.39451171e-02,  3.25139239e-02,  2.22205427e-02,\n",
       "        -3.24136652e-02, -3.93158831e-02,  2.75356608e-04,  2.43686475e-02,\n",
       "         1.57890171e-02,  2.50409041e-02,  1.70956645e-03, -2.63326481e-04,\n",
       "         4.40216884e-02, -5.46364971e-02,  2.34349370e-02,  2.99486928e-02,\n",
       "         1.41274808e-02, -2.91330423e-02, -6.47384580e-03, -3.54053602e-02,\n",
       "         1.71305072e-02,  2.90904548e-02,  1.46858906e-02,  8.54342710e-03,\n",
       "        -3.44417058e-02, -1.04835788e-02,  3.15485597e-02, -8.74644220e-02,\n",
       "        -2.11829487e-02, -5.05227335e-02, -7.52341282e-03,  4.42793518e-02,\n",
       "         3.77510116e-02, -1.24975608e-03,  6.45409524e-03, -1.53079042e-02,\n",
       "         1.66407414e-02,  5.46391420e-02,  1.78500507e-02, -7.61282817e-03,\n",
       "        -4.61103320e-02,  4.10019420e-02, -4.52273190e-02, -2.77623367e-02,\n",
       "         1.95288491e-02, -6.11867756e-02,  1.12644359e-02,  5.08542871e-03,\n",
       "         4.85851541e-02, -9.06990003e-03, -9.79335047e-03,  1.72461290e-02,\n",
       "        -7.30905458e-02,  5.36574051e-02, -3.24015245e-02,  1.24104610e-02,\n",
       "         1.06903343e-02,  3.30721475e-02,  4.14839499e-02,  3.38428840e-02,\n",
       "        -1.12890184e-03, -9.08525735e-02,  3.76020069e-03, -3.49574983e-02,\n",
       "         1.31473858e-02,  1.33827683e-02,  3.44474241e-02,  6.85054734e-02,\n",
       "        -1.42454607e-02, -5.42299002e-02, -8.57380964e-03,  2.42687874e-02,\n",
       "         5.15869856e-02, -2.89775338e-02, -1.47677530e-02, -1.08239315e-02,\n",
       "        -5.66393882e-02, -2.07527471e-03, -3.71210240e-02,  4.00511315e-03,\n",
       "        -5.97900935e-02, -1.55888554e-02,  2.72703748e-02,  1.94720533e-02,\n",
       "         1.87415499e-02, -3.74510437e-02,  2.62066983e-02,  7.50286952e-02,\n",
       "         2.16101333e-02, -1.37812989e-02,  5.01988269e-02, -6.47026347e-03,\n",
       "         5.67429587e-02, -4.03868072e-02, -1.20675303e-02,  8.55052322e-02,\n",
       "        -2.71648727e-03,  2.78823320e-02, -4.38817516e-02, -2.82745119e-02,\n",
       "         1.92068350e-02, -4.36236970e-02,  3.98129150e-02, -5.63066974e-02,\n",
       "         1.37330899e-02,  4.01088269e-03, -7.01446785e-03, -1.51919648e-02,\n",
       "         4.40158322e-02,  2.72325464e-02,  3.32806706e-02,  3.21899429e-02,\n",
       "        -8.18990618e-02, -5.92771024e-02,  2.22220365e-02, -2.69076973e-02,\n",
       "         4.15942147e-02, -1.37761161e-02,  4.10630181e-02,  4.05325331e-02,\n",
       "        -5.58696687e-02,  3.60302478e-02, -6.35680649e-03, -1.65047310e-02,\n",
       "        -1.07169151e-03, -7.76117109e-03,  5.12158908e-02, -3.07670571e-02,\n",
       "        -3.98046672e-02,  2.19666641e-02, -9.50630382e-03,  2.66281161e-02,\n",
       "         3.57357338e-02,  5.89501299e-02,  5.54056419e-03, -1.41577481e-03,\n",
       "        -2.31177118e-02,  2.41293828e-03, -2.71170661e-02, -3.01101450e-02,\n",
       "        -1.71695426e-02, -3.58682275e-02, -4.03450504e-02,  2.02254355e-02,\n",
       "         1.31838052e-02, -1.05260303e-02,  1.65335350e-02, -1.22696701e-02,\n",
       "        -3.93680558e-02,  9.12598986e-03, -1.34845637e-02,  2.73655578e-02,\n",
       "         3.88677791e-02, -3.65223666e-03, -2.11339165e-02,  2.25942509e-04,\n",
       "        -3.12622190e-02, -3.47088911e-02, -4.12916169e-02,  2.91098729e-02,\n",
       "         5.44958822e-02, -1.32069990e-01,  9.59289912e-03, -1.37135377e-02,\n",
       "         4.40674871e-02, -1.03825837e-01,  6.36642873e-02,  8.60991701e-03,\n",
       "         1.49037698e-02,  8.22814240e-04, -2.20600013e-02, -9.55963449e-04,\n",
       "        -4.45718470e-04, -1.26143312e-02, -4.75995727e-02, -2.14227736e-02,\n",
       "         4.69318107e-02,  2.59528793e-02, -1.09704668e-02, -1.69420652e-02,\n",
       "         7.51991989e-03, -5.15509583e-02,  4.28996719e-02,  1.28122687e-03,\n",
       "        -1.04662860e-02, -1.64836254e-02, -4.98015210e-02,  4.39344198e-02,\n",
       "         5.84347360e-02, -4.44175564e-02,  6.89992495e-03,  5.39160743e-02,\n",
       "         1.75766014e-02,  7.08568236e-03, -2.18797121e-02, -1.89145899e-03,\n",
       "         1.05513437e-02, -5.98141775e-02, -3.13124061e-02, -2.73168385e-02,\n",
       "         3.12896781e-02,  5.49117029e-02, -1.85728762e-02, -2.15361062e-02,\n",
       "         6.17362708e-02,  7.07530044e-03,  2.01494303e-02, -4.06040549e-02,\n",
       "         2.30053030e-02,  2.01894771e-02,  1.80803202e-02,  3.35160419e-02,\n",
       "        -2.27058921e-02, -5.81537224e-02,  3.04264445e-02, -1.40142273e-02,\n",
       "         2.95398161e-02,  1.17535507e-02, -7.83733800e-02,  2.78972350e-02,\n",
       "        -4.30106446e-02, -7.59009495e-02,  4.92750220e-02,  7.59606287e-02,\n",
       "         3.54490406e-03,  5.81535846e-02,  4.69778553e-02, -4.00007097e-03,\n",
       "        -4.00545867e-03,  2.51614917e-02, -9.95811895e-02,  3.34291011e-02,\n",
       "        -3.01809632e-03,  3.01541984e-02,  4.54931185e-02, -7.25229979e-02,\n",
       "         4.01625484e-02, -1.16757257e-02, -6.19702414e-03, -9.54162329e-02,\n",
       "        -3.01121697e-02, -2.74963826e-02, -4.44819815e-02,  1.52521324e-03,\n",
       "        -6.31317422e-02, -8.02881792e-02,  4.55777831e-02,  3.08043659e-02,\n",
       "        -4.65142913e-03, -2.48237723e-03, -1.87035911e-02,  3.56814675e-02,\n",
       "        -8.61485526e-02, -8.76673777e-03,  5.94232827e-02,  7.03033358e-02,\n",
       "        -3.35511658e-03,  3.14285047e-02,  3.35557871e-02,  4.47359644e-02,\n",
       "        -1.82780009e-02,  4.33739508e-03, -1.56072155e-02,  4.82698120e-02,\n",
       "         5.78108914e-02, -1.55586866e-03, -3.07916459e-02,  3.06997765e-02,\n",
       "         3.05095576e-02,  4.37344797e-02, -2.46431623e-02, -1.98744610e-02,\n",
       "         7.25644641e-03,  3.61756049e-02, -1.86710600e-02, -1.69779789e-02,\n",
       "         5.28293103e-02,  1.72063080e-03,  3.34720984e-02, -6.57697320e-02,\n",
       "        -3.20816785e-02,  4.12176549e-03,  8.29499122e-03, -4.56412397e-02,\n",
       "         3.20225433e-02, -2.28897557e-02,  5.52556626e-02,  4.02578376e-02,\n",
       "        -2.90956832e-02, -3.44282505e-03, -1.38217201e-02, -6.29022194e-04,\n",
       "         2.53444519e-02,  1.89793874e-02, -4.45094332e-02, -4.78352495e-02,\n",
       "         3.22866589e-02,  6.68825209e-02, -8.67475383e-03, -7.80026801e-03,\n",
       "         2.92886607e-03, -2.42292508e-02, -2.09651198e-02, -1.09208770e-01,\n",
       "        -2.94364672e-02,  1.47712454e-02, -4.47422117e-02, -2.71010790e-02,\n",
       "        -3.91137227e-03,  1.68099906e-02,  3.11841723e-02,  1.24178603e-02,\n",
       "         6.59733824e-03, -4.44688695e-03, -3.45145464e-02, -1.24448491e-03,\n",
       "         5.61033227e-02, -4.12151739e-02,  4.74843495e-02,  3.92921120e-02,\n",
       "        -5.78539297e-02, -4.47588190e-02,  1.95153132e-02,  3.01113129e-02,\n",
       "        -8.72348528e-03, -2.85054725e-02, -7.27254804e-03,  3.58912647e-02,\n",
       "        -7.09610134e-02, -6.56753108e-02,  5.03812125e-03,  2.90020071e-02,\n",
       "         4.08615079e-03,  7.97065999e-03, -2.29644235e-02, -4.41172533e-02,\n",
       "         4.12212126e-02,  2.17066389e-02,  1.23130195e-02, -1.74234211e-02,\n",
       "        -1.55699328e-02, -1.17437812e-02,  5.18719517e-02,  3.44446627e-03,\n",
       "        -6.66774809e-02,  3.35144214e-02, -4.39756736e-03, -3.66432741e-02,\n",
       "         7.48344809e-02,  1.37543948e-02, -5.05722426e-02, -1.69507693e-02,\n",
       "        -9.13899243e-02,  3.94619927e-02, -4.91533764e-02,  2.32399460e-02,\n",
       "        -6.95737684e-03, -2.49377508e-02,  1.79813728e-02, -3.91750783e-02,\n",
       "         2.72794124e-02,  5.39086983e-02,  6.70256913e-02,  2.87340768e-02,\n",
       "         7.15206657e-03,  4.48691435e-02, -2.89590154e-02,  2.67861877e-02,\n",
       "         6.71392679e-02, -3.71877733e-03, -2.13471204e-02,  4.02928740e-02,\n",
       "         5.37431501e-02,  2.69310712e-03,  3.33235599e-02,  4.19460014e-02,\n",
       "         3.77101600e-02,  1.00906501e-02,  1.64033715e-02,  1.37284147e-02,\n",
       "         4.92301993e-02,  5.35364449e-02,  5.79526238e-02, -3.29139084e-02,\n",
       "         1.22460835e-02,  2.88261175e-02, -4.93665645e-03,  2.96172556e-02,\n",
       "         6.32613851e-03, -4.79912423e-02, -3.14917080e-02, -3.97242308e-02,\n",
       "        -3.50666456e-02,  2.99804402e-03, -9.44072846e-03,  2.62556528e-03,\n",
       "         9.90501139e-03, -5.18645197e-02,  2.04041190e-02,  3.75541858e-02,\n",
       "         8.65953602e-03,  3.73828821e-02,  2.54471805e-02, -1.32634966e-02,\n",
       "         8.06263164e-02,  2.10315585e-02, -1.99040584e-02, -1.00638559e-02,\n",
       "        -3.93788852e-02, -3.32227424e-02,  1.41281579e-02,  4.00279649e-02,\n",
       "        -7.60371052e-03, -4.89356518e-02, -2.67797504e-02, -5.59408329e-02,\n",
       "         3.21788639e-02,  8.22695158e-03,  3.76134738e-02,  8.17622803e-03,\n",
       "        -1.37847075e-02, -2.16961466e-02,  1.27261477e-02, -6.38865028e-03,\n",
       "        -8.46950524e-03, -6.06380031e-03, -1.16486009e-02,  1.15114041e-02,\n",
       "         2.72039622e-02, -1.29375430e-02, -1.30015286e-02,  3.71455066e-02,\n",
       "         2.18766145e-02,  2.41833441e-02,  3.43313033e-04, -1.44565599e-02,\n",
       "         3.24437730e-02,  5.78669868e-02,  1.25016244e-02,  1.83984116e-02,\n",
       "        -7.32085705e-02, -1.24307591e-02, -1.85830239e-02, -2.32730713e-03,\n",
       "         1.47508504e-02,  1.19954655e-02, -2.08628527e-03, -2.90985517e-02,\n",
       "         3.42280924e-04, -2.48183087e-02, -2.78203357e-02, -3.26306373e-03,\n",
       "        -1.13068465e-02, -3.82190682e-02, -8.83377045e-02, -2.67932005e-02,\n",
       "        -4.97603156e-02,  1.06247943e-02, -2.03505885e-02,  4.61896323e-02,\n",
       "         3.04142367e-02,  7.39259273e-02, -1.93728972e-02, -6.24436699e-02,\n",
       "        -4.30182517e-02, -2.44441093e-03,  2.31976081e-02,  2.40072235e-02,\n",
       "        -6.32212013e-02, -1.28707616e-02, -1.06626851e-02, -1.21628307e-02,\n",
       "         4.63577397e-02,  8.66870768e-03, -3.91136333e-02,  5.18052001e-03,\n",
       "        -3.37269679e-02,  4.08052877e-02,  4.56021950e-02, -5.35722636e-03,\n",
       "         1.47814890e-02,  6.52760640e-03, -1.91998221e-02,  1.32419961e-02,\n",
       "         1.28353378e-02,  3.14028114e-02,  2.19753273e-02, -1.87768340e-02,\n",
       "         9.01832897e-03,  1.66758709e-02,  1.36964256e-03,  4.85401601e-02,\n",
       "        -5.04996665e-02,  2.72835717e-02, -2.80784140e-03,  8.74806195e-03,\n",
       "         2.16660798e-02,  1.66531280e-02, -4.64341044e-02, -1.94113757e-02,\n",
       "         1.49265248e-02, -2.04601754e-02, -9.30300206e-02, -3.57577205e-03,\n",
       "         4.36928980e-02,  4.18228097e-02, -1.04740169e-02,  9.13387723e-03,\n",
       "        -1.26577299e-02,  9.28742171e-04,  3.03164981e-02,  9.25378129e-03,\n",
       "        -1.58127153e-03,  6.60841465e-02,  1.97660346e-02, -3.60443816e-02,\n",
       "        -3.43122869e-03, -3.59755717e-02,  1.49512133e-02, -2.88110152e-02,\n",
       "         1.71100460e-02,  4.95878085e-02,  3.53193842e-02,  4.19225581e-02,\n",
       "         4.83730398e-02,  1.96336340e-02, -1.70031155e-03,  9.81865823e-02,\n",
       "         1.77094098e-02, -3.84560996e-03, -4.52681221e-02, -4.13472485e-03,\n",
       "        -5.71960360e-02,  1.04758488e-02,  1.73035339e-02,  4.14520651e-02,\n",
       "         1.68829542e-02, -1.23575600e-02, -1.35784643e-02,  6.87890947e-02,\n",
       "         1.86708365e-02,  5.50276265e-02,  2.71758139e-02, -3.02901156e-02,\n",
       "         4.20797728e-02,  3.58545296e-02, -7.05272704e-02,  8.97806231e-03,\n",
       "         3.04064602e-02, -4.93476354e-03, -3.86133119e-02, -6.36185035e-02,\n",
       "        -1.28050530e-02,  1.45554645e-02, -3.86997573e-02, -1.90095250e-02,\n",
       "        -4.16538231e-02, -5.53315282e-02,  3.14248260e-03, -4.05708812e-02,\n",
       "        -4.65663988e-03,  1.20833898e-02,  3.92553993e-02, -1.48489289e-02,\n",
       "        -4.43880782e-02, -1.95002239e-02, -2.00037397e-02, -3.84879448e-02,\n",
       "         6.50727078e-02,  1.58440310e-03,  2.42224038e-02,  2.11767722e-02,\n",
       "        -2.80457307e-02,  5.06496355e-02, -3.17925513e-02, -3.93060260e-02,\n",
       "        -7.48628601e-02, -1.47938803e-02,  2.93558394e-03, -1.90882746e-03,\n",
       "        -4.62152772e-02,  2.79246159e-02,  5.36212437e-02,  5.08887395e-02,\n",
       "        -3.63443121e-02,  4.83042188e-02,  2.08877921e-02,  4.74292263e-02,\n",
       "         4.92654461e-03, -2.71410178e-02,  5.47685958e-02, -4.14410233e-02,\n",
       "        -5.68511942e-03, -3.04765590e-02,  3.94589128e-03, -3.12194992e-02,\n",
       "        -4.37382795e-02,  2.12004092e-02, -1.80493854e-02,  2.81700343e-02,\n",
       "         3.96552086e-02, -5.35950102e-02,  5.33269793e-02,  7.67336786e-03,\n",
       "        -2.33186781e-02, -1.42170405e-02,  5.31647392e-02, -3.49745713e-02,\n",
       "         6.54081032e-02,  4.37313281e-02, -7.25451857e-02,  4.89383861e-02,\n",
       "        -9.12460126e-03,  4.59331498e-02, -3.46429758e-02, -2.72386167e-02,\n",
       "        -3.04769743e-02, -4.05410863e-02,  5.07943332e-02,  2.39161383e-02,\n",
       "        -4.21275571e-02, -7.53407776e-02, -6.36898185e-05,  2.31820252e-02,\n",
       "         2.98201498e-02, -4.67950888e-02,  1.05024884e-02, -8.33879784e-03,\n",
       "        -2.53908467e-02, -2.78922170e-03, -5.80482706e-02, -3.58988307e-02,\n",
       "         1.04233818e-02, -3.31454128e-02, -2.29870975e-02,  1.90615170e-02,\n",
       "        -4.05621231e-02,  3.41111911e-03,  1.07715661e-02,  5.10822609e-02,\n",
       "        -3.88363861e-02, -3.84784937e-02,  4.38734367e-02, -3.46118882e-02,\n",
       "         1.73041169e-02,  1.62715651e-02,  2.14490108e-02, -2.26181690e-02,\n",
       "        -1.69366486e-02,  2.30086539e-02,  2.55133528e-02,  8.10870081e-02,\n",
       "         5.52573577e-02,  1.81327183e-02,  2.32691336e-02,  7.37191811e-02,\n",
       "        -2.53651980e-02,  1.41270310e-02,  7.17900507e-03,  4.39648554e-02,\n",
       "        -1.27545446e-02,  2.30465233e-02,  3.01264413e-02, -7.24177249e-03,\n",
       "         3.82401161e-02,  5.56619391e-02, -6.76997229e-02, -2.43170299e-02,\n",
       "        -1.17052877e-02, -1.58955678e-02,  4.49813195e-02, -5.12632690e-02,\n",
       "         2.38026250e-02,  3.47884148e-02, -3.94906588e-02, -3.04278526e-02,\n",
       "         3.11545916e-02, -2.13785842e-02,  3.09259649e-02,  1.42324660e-02,\n",
       "        -6.56462684e-02,  1.46022737e-02,  3.42592178e-03,  4.44189683e-02,\n",
       "         2.20308150e-03, -1.86532922e-02,  1.99844968e-02, -5.16025759e-02,\n",
       "        -4.81741279e-02,  1.30593162e-02,  1.76972728e-02, -1.19784325e-02,\n",
       "        -9.83289536e-03, -7.01445341e-02, -6.58488870e-02,  6.75936490e-02,\n",
       "        -2.80170385e-02,  7.45120132e-03,  2.41914229e-03,  1.14712901e-02],\n",
       "       dtype=float32)}"
      ]
     },
     "execution_count": 180,
     "metadata": {},
     "output_type": "execute_result"
    }
   ],
   "source": [
    "for i in tqdm(range(len(documents))):\n",
    "    documents[i]['embeddings'] = embeddings[i]\n",
    "documents[0]"
   ]
  },
  {
   "cell_type": "code",
   "execution_count": 147,
   "id": "fba9e4f0-65f4-4b6f-9951-1a4ac6aacd94",
   "metadata": {},
   "outputs": [],
   "source": [
    "es_client3 = Elasticsearch('http://localhost:9200')"
   ]
  },
  {
   "cell_type": "code",
   "execution_count": 149,
   "id": "8ec7a357-3c1e-4455-bc57-bd44cb077064",
   "metadata": {},
   "outputs": [
    {
     "data": {
      "text/plain": [
       "ObjectApiResponse({'name': 'c94a9fa56e92', 'cluster_name': 'docker-cluster', 'cluster_uuid': '87OVNLdITq6vU8NS6bsMBw', 'version': {'number': '8.4.3', 'build_flavor': 'default', 'build_type': 'docker', 'build_hash': '42f05b9372a9a4a470db3b52817899b99a76ee73', 'build_date': '2022-10-04T07:17:24.662462378Z', 'build_snapshot': False, 'lucene_version': '9.3.0', 'minimum_wire_compatibility_version': '7.17.0', 'minimum_index_compatibility_version': '7.0.0'}, 'tagline': 'You Know, for Search'})"
      ]
     },
     "execution_count": 149,
     "metadata": {},
     "output_type": "execute_result"
    }
   ],
   "source": [
    "es_client3.info()"
   ]
  },
  {
   "cell_type": "code",
   "execution_count": 154,
   "id": "ed4e1969-b487-40ce-bf8b-686c8d4b5094",
   "metadata": {},
   "outputs": [],
   "source": [
    "index_name = 'homework3'"
   ]
  },
  {
   "cell_type": "code",
   "execution_count": 185,
   "id": "0e7260c6-d588-4fdc-935c-3420799ef37f",
   "metadata": {},
   "outputs": [],
   "source": [
    "index_setting = {\n",
    "    'settings': {\n",
    "        'number_of_shards':1,\n",
    "        'number_of_replicas': 0\n",
    "    },\n",
    "    'mappings':{\n",
    "        'properties':{\n",
    "            'text': {'type':'text'},\n",
    "            'section': {'type':'text'},\n",
    "            'question': {'type':'text'},\n",
    "            'course': {'type':'keyword'},\n",
    "            'id': {'type':'keyword'},\n",
    "            'embeddings': {\n",
    "                'type':'dense_vector',\n",
    "                'dims': 768,\n",
    "                'index': True,\n",
    "                'similarity': 'cosine'\n",
    "            }\n",
    "        }\n",
    "    }\n",
    "}"
   ]
  },
  {
   "cell_type": "code",
   "execution_count": 247,
   "id": "6689aa84-7ebe-44c2-8c02-45b8684c0398",
   "metadata": {},
   "outputs": [
    {
     "data": {
      "text/plain": [
       "ObjectApiResponse({'acknowledged': True, 'shards_acknowledged': True, 'index': 'homework3'})"
      ]
     },
     "execution_count": 247,
     "metadata": {},
     "output_type": "execute_result"
    }
   ],
   "source": [
    "es_client3.indices.delete(index= index_name, ignore_unavailable= True)\n",
    "es_client3.indices.create(index= index_name, body= index_setting)"
   ]
  },
  {
   "cell_type": "code",
   "execution_count": 215,
   "id": "0df19203-17c5-4457-b1c9-e8ff6e16f8d2",
   "metadata": {},
   "outputs": [
    {
     "data": {
      "text/plain": [
       "[{'text': 'Machine Learning Zoomcamp FAQ\\nThe purpose of this document is to capture frequently asked technical questions.\\nWe did this for our data engineering course and it worked quite well. Check this document for inspiration on how to structure your questions and answers:\\nData Engineering Zoomcamp FAQ\\nIn the course GitHub repository there’s a link. Here it is: https://airtable.com/shryxwLd0COOEaqXo\\nwork',\n",
       "  'section': 'General course-related questions',\n",
       "  'question': 'How do I sign up?',\n",
       "  'course': 'machine-learning-zoomcamp',\n",
       "  'id': '0227b872',\n",
       "  'embeddings': array([ 8.80590528e-02,  1.55935511e-02,  7.92557672e-02,  2.52758078e-02,\n",
       "          7.55765215e-02, -3.90597060e-02, -4.13814262e-02,  2.52918135e-02,\n",
       "          2.43241396e-02,  3.62583739e-03, -7.28287455e-03, -3.28751579e-02,\n",
       "          6.12956397e-02, -5.71100935e-02,  1.16774580e-02, -1.79442074e-02,\n",
       "          4.49206308e-02, -5.41606247e-02, -1.92259368e-03,  1.48329744e-02,\n",
       "          7.91359879e-03, -3.43127288e-02,  1.21480720e-02,  1.27185797e-02,\n",
       "         -1.60092711e-02,  7.12140650e-03,  1.58389509e-02, -3.27459449e-04,\n",
       "          3.01296194e-03, -4.58918251e-02, -1.34777394e-03,  2.01149322e-02,\n",
       "          2.33724602e-02, -4.28202562e-03, -3.09384074e-02,  1.94304273e-03,\n",
       "         -1.88219715e-02,  5.35161747e-03,  1.29352231e-02, -3.23958322e-02,\n",
       "          3.10556386e-02,  5.12982113e-03, -3.24426132e-04, -3.15541886e-02,\n",
       "          1.93377454e-02, -6.38601333e-02, -3.05381250e-02, -6.27884790e-02,\n",
       "         -1.74859799e-02,  3.52949537e-02, -2.98071858e-02,  7.45346397e-02,\n",
       "         -2.06182916e-02, -1.79156996e-02,  1.86262447e-02,  5.31014502e-02,\n",
       "          1.19287772e-02, -5.18543832e-02, -1.61921012e-03,  3.58706042e-02,\n",
       "         -6.52325479e-03,  4.53287475e-02, -1.06174191e-02,  1.02416025e-02,\n",
       "         -4.41201776e-02, -7.07985833e-02,  1.33665344e-02, -2.05062870e-02,\n",
       "          3.62042636e-02, -3.39451171e-02,  3.25139239e-02,  2.22205427e-02,\n",
       "         -3.24136652e-02, -3.93158831e-02,  2.75356608e-04,  2.43686475e-02,\n",
       "          1.57890171e-02,  2.50409041e-02,  1.70956645e-03, -2.63326481e-04,\n",
       "          4.40216884e-02, -5.46364971e-02,  2.34349370e-02,  2.99486928e-02,\n",
       "          1.41274808e-02, -2.91330423e-02, -6.47384580e-03, -3.54053602e-02,\n",
       "          1.71305072e-02,  2.90904548e-02,  1.46858906e-02,  8.54342710e-03,\n",
       "         -3.44417058e-02, -1.04835788e-02,  3.15485597e-02, -8.74644220e-02,\n",
       "         -2.11829487e-02, -5.05227335e-02, -7.52341282e-03,  4.42793518e-02,\n",
       "          3.77510116e-02, -1.24975608e-03,  6.45409524e-03, -1.53079042e-02,\n",
       "          1.66407414e-02,  5.46391420e-02,  1.78500507e-02, -7.61282817e-03,\n",
       "         -4.61103320e-02,  4.10019420e-02, -4.52273190e-02, -2.77623367e-02,\n",
       "          1.95288491e-02, -6.11867756e-02,  1.12644359e-02,  5.08542871e-03,\n",
       "          4.85851541e-02, -9.06990003e-03, -9.79335047e-03,  1.72461290e-02,\n",
       "         -7.30905458e-02,  5.36574051e-02, -3.24015245e-02,  1.24104610e-02,\n",
       "          1.06903343e-02,  3.30721475e-02,  4.14839499e-02,  3.38428840e-02,\n",
       "         -1.12890184e-03, -9.08525735e-02,  3.76020069e-03, -3.49574983e-02,\n",
       "          1.31473858e-02,  1.33827683e-02,  3.44474241e-02,  6.85054734e-02,\n",
       "         -1.42454607e-02, -5.42299002e-02, -8.57380964e-03,  2.42687874e-02,\n",
       "          5.15869856e-02, -2.89775338e-02, -1.47677530e-02, -1.08239315e-02,\n",
       "         -5.66393882e-02, -2.07527471e-03, -3.71210240e-02,  4.00511315e-03,\n",
       "         -5.97900935e-02, -1.55888554e-02,  2.72703748e-02,  1.94720533e-02,\n",
       "          1.87415499e-02, -3.74510437e-02,  2.62066983e-02,  7.50286952e-02,\n",
       "          2.16101333e-02, -1.37812989e-02,  5.01988269e-02, -6.47026347e-03,\n",
       "          5.67429587e-02, -4.03868072e-02, -1.20675303e-02,  8.55052322e-02,\n",
       "         -2.71648727e-03,  2.78823320e-02, -4.38817516e-02, -2.82745119e-02,\n",
       "          1.92068350e-02, -4.36236970e-02,  3.98129150e-02, -5.63066974e-02,\n",
       "          1.37330899e-02,  4.01088269e-03, -7.01446785e-03, -1.51919648e-02,\n",
       "          4.40158322e-02,  2.72325464e-02,  3.32806706e-02,  3.21899429e-02,\n",
       "         -8.18990618e-02, -5.92771024e-02,  2.22220365e-02, -2.69076973e-02,\n",
       "          4.15942147e-02, -1.37761161e-02,  4.10630181e-02,  4.05325331e-02,\n",
       "         -5.58696687e-02,  3.60302478e-02, -6.35680649e-03, -1.65047310e-02,\n",
       "         -1.07169151e-03, -7.76117109e-03,  5.12158908e-02, -3.07670571e-02,\n",
       "         -3.98046672e-02,  2.19666641e-02, -9.50630382e-03,  2.66281161e-02,\n",
       "          3.57357338e-02,  5.89501299e-02,  5.54056419e-03, -1.41577481e-03,\n",
       "         -2.31177118e-02,  2.41293828e-03, -2.71170661e-02, -3.01101450e-02,\n",
       "         -1.71695426e-02, -3.58682275e-02, -4.03450504e-02,  2.02254355e-02,\n",
       "          1.31838052e-02, -1.05260303e-02,  1.65335350e-02, -1.22696701e-02,\n",
       "         -3.93680558e-02,  9.12598986e-03, -1.34845637e-02,  2.73655578e-02,\n",
       "          3.88677791e-02, -3.65223666e-03, -2.11339165e-02,  2.25942509e-04,\n",
       "         -3.12622190e-02, -3.47088911e-02, -4.12916169e-02,  2.91098729e-02,\n",
       "          5.44958822e-02, -1.32069990e-01,  9.59289912e-03, -1.37135377e-02,\n",
       "          4.40674871e-02, -1.03825837e-01,  6.36642873e-02,  8.60991701e-03,\n",
       "          1.49037698e-02,  8.22814240e-04, -2.20600013e-02, -9.55963449e-04,\n",
       "         -4.45718470e-04, -1.26143312e-02, -4.75995727e-02, -2.14227736e-02,\n",
       "          4.69318107e-02,  2.59528793e-02, -1.09704668e-02, -1.69420652e-02,\n",
       "          7.51991989e-03, -5.15509583e-02,  4.28996719e-02,  1.28122687e-03,\n",
       "         -1.04662860e-02, -1.64836254e-02, -4.98015210e-02,  4.39344198e-02,\n",
       "          5.84347360e-02, -4.44175564e-02,  6.89992495e-03,  5.39160743e-02,\n",
       "          1.75766014e-02,  7.08568236e-03, -2.18797121e-02, -1.89145899e-03,\n",
       "          1.05513437e-02, -5.98141775e-02, -3.13124061e-02, -2.73168385e-02,\n",
       "          3.12896781e-02,  5.49117029e-02, -1.85728762e-02, -2.15361062e-02,\n",
       "          6.17362708e-02,  7.07530044e-03,  2.01494303e-02, -4.06040549e-02,\n",
       "          2.30053030e-02,  2.01894771e-02,  1.80803202e-02,  3.35160419e-02,\n",
       "         -2.27058921e-02, -5.81537224e-02,  3.04264445e-02, -1.40142273e-02,\n",
       "          2.95398161e-02,  1.17535507e-02, -7.83733800e-02,  2.78972350e-02,\n",
       "         -4.30106446e-02, -7.59009495e-02,  4.92750220e-02,  7.59606287e-02,\n",
       "          3.54490406e-03,  5.81535846e-02,  4.69778553e-02, -4.00007097e-03,\n",
       "         -4.00545867e-03,  2.51614917e-02, -9.95811895e-02,  3.34291011e-02,\n",
       "         -3.01809632e-03,  3.01541984e-02,  4.54931185e-02, -7.25229979e-02,\n",
       "          4.01625484e-02, -1.16757257e-02, -6.19702414e-03, -9.54162329e-02,\n",
       "         -3.01121697e-02, -2.74963826e-02, -4.44819815e-02,  1.52521324e-03,\n",
       "         -6.31317422e-02, -8.02881792e-02,  4.55777831e-02,  3.08043659e-02,\n",
       "         -4.65142913e-03, -2.48237723e-03, -1.87035911e-02,  3.56814675e-02,\n",
       "         -8.61485526e-02, -8.76673777e-03,  5.94232827e-02,  7.03033358e-02,\n",
       "         -3.35511658e-03,  3.14285047e-02,  3.35557871e-02,  4.47359644e-02,\n",
       "         -1.82780009e-02,  4.33739508e-03, -1.56072155e-02,  4.82698120e-02,\n",
       "          5.78108914e-02, -1.55586866e-03, -3.07916459e-02,  3.06997765e-02,\n",
       "          3.05095576e-02,  4.37344797e-02, -2.46431623e-02, -1.98744610e-02,\n",
       "          7.25644641e-03,  3.61756049e-02, -1.86710600e-02, -1.69779789e-02,\n",
       "          5.28293103e-02,  1.72063080e-03,  3.34720984e-02, -6.57697320e-02,\n",
       "         -3.20816785e-02,  4.12176549e-03,  8.29499122e-03, -4.56412397e-02,\n",
       "          3.20225433e-02, -2.28897557e-02,  5.52556626e-02,  4.02578376e-02,\n",
       "         -2.90956832e-02, -3.44282505e-03, -1.38217201e-02, -6.29022194e-04,\n",
       "          2.53444519e-02,  1.89793874e-02, -4.45094332e-02, -4.78352495e-02,\n",
       "          3.22866589e-02,  6.68825209e-02, -8.67475383e-03, -7.80026801e-03,\n",
       "          2.92886607e-03, -2.42292508e-02, -2.09651198e-02, -1.09208770e-01,\n",
       "         -2.94364672e-02,  1.47712454e-02, -4.47422117e-02, -2.71010790e-02,\n",
       "         -3.91137227e-03,  1.68099906e-02,  3.11841723e-02,  1.24178603e-02,\n",
       "          6.59733824e-03, -4.44688695e-03, -3.45145464e-02, -1.24448491e-03,\n",
       "          5.61033227e-02, -4.12151739e-02,  4.74843495e-02,  3.92921120e-02,\n",
       "         -5.78539297e-02, -4.47588190e-02,  1.95153132e-02,  3.01113129e-02,\n",
       "         -8.72348528e-03, -2.85054725e-02, -7.27254804e-03,  3.58912647e-02,\n",
       "         -7.09610134e-02, -6.56753108e-02,  5.03812125e-03,  2.90020071e-02,\n",
       "          4.08615079e-03,  7.97065999e-03, -2.29644235e-02, -4.41172533e-02,\n",
       "          4.12212126e-02,  2.17066389e-02,  1.23130195e-02, -1.74234211e-02,\n",
       "         -1.55699328e-02, -1.17437812e-02,  5.18719517e-02,  3.44446627e-03,\n",
       "         -6.66774809e-02,  3.35144214e-02, -4.39756736e-03, -3.66432741e-02,\n",
       "          7.48344809e-02,  1.37543948e-02, -5.05722426e-02, -1.69507693e-02,\n",
       "         -9.13899243e-02,  3.94619927e-02, -4.91533764e-02,  2.32399460e-02,\n",
       "         -6.95737684e-03, -2.49377508e-02,  1.79813728e-02, -3.91750783e-02,\n",
       "          2.72794124e-02,  5.39086983e-02,  6.70256913e-02,  2.87340768e-02,\n",
       "          7.15206657e-03,  4.48691435e-02, -2.89590154e-02,  2.67861877e-02,\n",
       "          6.71392679e-02, -3.71877733e-03, -2.13471204e-02,  4.02928740e-02,\n",
       "          5.37431501e-02,  2.69310712e-03,  3.33235599e-02,  4.19460014e-02,\n",
       "          3.77101600e-02,  1.00906501e-02,  1.64033715e-02,  1.37284147e-02,\n",
       "          4.92301993e-02,  5.35364449e-02,  5.79526238e-02, -3.29139084e-02,\n",
       "          1.22460835e-02,  2.88261175e-02, -4.93665645e-03,  2.96172556e-02,\n",
       "          6.32613851e-03, -4.79912423e-02, -3.14917080e-02, -3.97242308e-02,\n",
       "         -3.50666456e-02,  2.99804402e-03, -9.44072846e-03,  2.62556528e-03,\n",
       "          9.90501139e-03, -5.18645197e-02,  2.04041190e-02,  3.75541858e-02,\n",
       "          8.65953602e-03,  3.73828821e-02,  2.54471805e-02, -1.32634966e-02,\n",
       "          8.06263164e-02,  2.10315585e-02, -1.99040584e-02, -1.00638559e-02,\n",
       "         -3.93788852e-02, -3.32227424e-02,  1.41281579e-02,  4.00279649e-02,\n",
       "         -7.60371052e-03, -4.89356518e-02, -2.67797504e-02, -5.59408329e-02,\n",
       "          3.21788639e-02,  8.22695158e-03,  3.76134738e-02,  8.17622803e-03,\n",
       "         -1.37847075e-02, -2.16961466e-02,  1.27261477e-02, -6.38865028e-03,\n",
       "         -8.46950524e-03, -6.06380031e-03, -1.16486009e-02,  1.15114041e-02,\n",
       "          2.72039622e-02, -1.29375430e-02, -1.30015286e-02,  3.71455066e-02,\n",
       "          2.18766145e-02,  2.41833441e-02,  3.43313033e-04, -1.44565599e-02,\n",
       "          3.24437730e-02,  5.78669868e-02,  1.25016244e-02,  1.83984116e-02,\n",
       "         -7.32085705e-02, -1.24307591e-02, -1.85830239e-02, -2.32730713e-03,\n",
       "          1.47508504e-02,  1.19954655e-02, -2.08628527e-03, -2.90985517e-02,\n",
       "          3.42280924e-04, -2.48183087e-02, -2.78203357e-02, -3.26306373e-03,\n",
       "         -1.13068465e-02, -3.82190682e-02, -8.83377045e-02, -2.67932005e-02,\n",
       "         -4.97603156e-02,  1.06247943e-02, -2.03505885e-02,  4.61896323e-02,\n",
       "          3.04142367e-02,  7.39259273e-02, -1.93728972e-02, -6.24436699e-02,\n",
       "         -4.30182517e-02, -2.44441093e-03,  2.31976081e-02,  2.40072235e-02,\n",
       "         -6.32212013e-02, -1.28707616e-02, -1.06626851e-02, -1.21628307e-02,\n",
       "          4.63577397e-02,  8.66870768e-03, -3.91136333e-02,  5.18052001e-03,\n",
       "         -3.37269679e-02,  4.08052877e-02,  4.56021950e-02, -5.35722636e-03,\n",
       "          1.47814890e-02,  6.52760640e-03, -1.91998221e-02,  1.32419961e-02,\n",
       "          1.28353378e-02,  3.14028114e-02,  2.19753273e-02, -1.87768340e-02,\n",
       "          9.01832897e-03,  1.66758709e-02,  1.36964256e-03,  4.85401601e-02,\n",
       "         -5.04996665e-02,  2.72835717e-02, -2.80784140e-03,  8.74806195e-03,\n",
       "          2.16660798e-02,  1.66531280e-02, -4.64341044e-02, -1.94113757e-02,\n",
       "          1.49265248e-02, -2.04601754e-02, -9.30300206e-02, -3.57577205e-03,\n",
       "          4.36928980e-02,  4.18228097e-02, -1.04740169e-02,  9.13387723e-03,\n",
       "         -1.26577299e-02,  9.28742171e-04,  3.03164981e-02,  9.25378129e-03,\n",
       "         -1.58127153e-03,  6.60841465e-02,  1.97660346e-02, -3.60443816e-02,\n",
       "         -3.43122869e-03, -3.59755717e-02,  1.49512133e-02, -2.88110152e-02,\n",
       "          1.71100460e-02,  4.95878085e-02,  3.53193842e-02,  4.19225581e-02,\n",
       "          4.83730398e-02,  1.96336340e-02, -1.70031155e-03,  9.81865823e-02,\n",
       "          1.77094098e-02, -3.84560996e-03, -4.52681221e-02, -4.13472485e-03,\n",
       "         -5.71960360e-02,  1.04758488e-02,  1.73035339e-02,  4.14520651e-02,\n",
       "          1.68829542e-02, -1.23575600e-02, -1.35784643e-02,  6.87890947e-02,\n",
       "          1.86708365e-02,  5.50276265e-02,  2.71758139e-02, -3.02901156e-02,\n",
       "          4.20797728e-02,  3.58545296e-02, -7.05272704e-02,  8.97806231e-03,\n",
       "          3.04064602e-02, -4.93476354e-03, -3.86133119e-02, -6.36185035e-02,\n",
       "         -1.28050530e-02,  1.45554645e-02, -3.86997573e-02, -1.90095250e-02,\n",
       "         -4.16538231e-02, -5.53315282e-02,  3.14248260e-03, -4.05708812e-02,\n",
       "         -4.65663988e-03,  1.20833898e-02,  3.92553993e-02, -1.48489289e-02,\n",
       "         -4.43880782e-02, -1.95002239e-02, -2.00037397e-02, -3.84879448e-02,\n",
       "          6.50727078e-02,  1.58440310e-03,  2.42224038e-02,  2.11767722e-02,\n",
       "         -2.80457307e-02,  5.06496355e-02, -3.17925513e-02, -3.93060260e-02,\n",
       "         -7.48628601e-02, -1.47938803e-02,  2.93558394e-03, -1.90882746e-03,\n",
       "         -4.62152772e-02,  2.79246159e-02,  5.36212437e-02,  5.08887395e-02,\n",
       "         -3.63443121e-02,  4.83042188e-02,  2.08877921e-02,  4.74292263e-02,\n",
       "          4.92654461e-03, -2.71410178e-02,  5.47685958e-02, -4.14410233e-02,\n",
       "         -5.68511942e-03, -3.04765590e-02,  3.94589128e-03, -3.12194992e-02,\n",
       "         -4.37382795e-02,  2.12004092e-02, -1.80493854e-02,  2.81700343e-02,\n",
       "          3.96552086e-02, -5.35950102e-02,  5.33269793e-02,  7.67336786e-03,\n",
       "         -2.33186781e-02, -1.42170405e-02,  5.31647392e-02, -3.49745713e-02,\n",
       "          6.54081032e-02,  4.37313281e-02, -7.25451857e-02,  4.89383861e-02,\n",
       "         -9.12460126e-03,  4.59331498e-02, -3.46429758e-02, -2.72386167e-02,\n",
       "         -3.04769743e-02, -4.05410863e-02,  5.07943332e-02,  2.39161383e-02,\n",
       "         -4.21275571e-02, -7.53407776e-02, -6.36898185e-05,  2.31820252e-02,\n",
       "          2.98201498e-02, -4.67950888e-02,  1.05024884e-02, -8.33879784e-03,\n",
       "         -2.53908467e-02, -2.78922170e-03, -5.80482706e-02, -3.58988307e-02,\n",
       "          1.04233818e-02, -3.31454128e-02, -2.29870975e-02,  1.90615170e-02,\n",
       "         -4.05621231e-02,  3.41111911e-03,  1.07715661e-02,  5.10822609e-02,\n",
       "         -3.88363861e-02, -3.84784937e-02,  4.38734367e-02, -3.46118882e-02,\n",
       "          1.73041169e-02,  1.62715651e-02,  2.14490108e-02, -2.26181690e-02,\n",
       "         -1.69366486e-02,  2.30086539e-02,  2.55133528e-02,  8.10870081e-02,\n",
       "          5.52573577e-02,  1.81327183e-02,  2.32691336e-02,  7.37191811e-02,\n",
       "         -2.53651980e-02,  1.41270310e-02,  7.17900507e-03,  4.39648554e-02,\n",
       "         -1.27545446e-02,  2.30465233e-02,  3.01264413e-02, -7.24177249e-03,\n",
       "          3.82401161e-02,  5.56619391e-02, -6.76997229e-02, -2.43170299e-02,\n",
       "         -1.17052877e-02, -1.58955678e-02,  4.49813195e-02, -5.12632690e-02,\n",
       "          2.38026250e-02,  3.47884148e-02, -3.94906588e-02, -3.04278526e-02,\n",
       "          3.11545916e-02, -2.13785842e-02,  3.09259649e-02,  1.42324660e-02,\n",
       "         -6.56462684e-02,  1.46022737e-02,  3.42592178e-03,  4.44189683e-02,\n",
       "          2.20308150e-03, -1.86532922e-02,  1.99844968e-02, -5.16025759e-02,\n",
       "         -4.81741279e-02,  1.30593162e-02,  1.76972728e-02, -1.19784325e-02,\n",
       "         -9.83289536e-03, -7.01445341e-02, -6.58488870e-02,  6.75936490e-02,\n",
       "         -2.80170385e-02,  7.45120132e-03,  2.41914229e-03,  1.14712901e-02],\n",
       "        dtype=float32)},\n",
       " {'text': 'The course videos are pre-recorded, you can start watching the course right now.\\nWe will also occasionally have office hours - live sessions where we will answer your questions. The office hours sessions are recorded too.\\nYou can see the office hours as well as the pre-recorded course videos in the course playlist on YouTube.',\n",
       "  'section': 'General course-related questions',\n",
       "  'question': 'Is it going to be live? When?',\n",
       "  'course': 'machine-learning-zoomcamp',\n",
       "  'id': '39fda9f0',\n",
       "  'embeddings': array([ 7.06691816e-02, -1.93056762e-02,  7.73837417e-02,  2.37205122e-02,\n",
       "          8.63914788e-02, -2.04659142e-02,  9.15528648e-03,  4.65581045e-02,\n",
       "         -4.78189159e-03, -1.43747963e-02, -1.97507981e-02, -4.51360159e-02,\n",
       "          3.47972699e-02, -4.37994450e-02,  3.87682617e-02, -2.01997012e-02,\n",
       "         -1.13332574e-03, -4.24227268e-02,  3.04053370e-02, -3.29325199e-02,\n",
       "         -8.21833033e-03,  2.65471637e-03,  3.13991643e-02,  4.64935750e-02,\n",
       "         -4.02438007e-02,  5.76140918e-02, -1.99844539e-02,  2.95837503e-02,\n",
       "         -8.68471339e-03, -9.97347105e-03,  7.24729476e-03, -5.11227585e-02,\n",
       "          7.30461255e-02,  2.48600654e-02,  4.75398749e-02, -1.94741823e-02,\n",
       "         -6.19657971e-02,  6.10636696e-02, -7.48168165e-03,  4.05436009e-02,\n",
       "         -3.07619795e-02,  1.59537103e-02,  2.08376348e-02,  1.18389968e-02,\n",
       "         -3.59452032e-02, -1.50297889e-02,  4.09365818e-02, -4.85862140e-03,\n",
       "         -3.44599895e-02,  3.27185541e-02, -1.14695523e-02,  4.67685275e-02,\n",
       "          8.60479325e-02,  3.62659362e-03, -3.20636332e-02,  1.24088489e-03,\n",
       "          6.33656532e-02, -1.55532630e-02, -2.40863357e-02,  5.28555773e-02,\n",
       "         -1.35905640e-02,  4.79927212e-02, -7.03368410e-02,  2.31346604e-03,\n",
       "          1.69500243e-02, -5.88512272e-02,  1.51935313e-02, -4.45858501e-02,\n",
       "          5.13022579e-02,  4.76374896e-03,  5.64543018e-03,  5.24489358e-02,\n",
       "         -9.88454837e-03,  7.91262928e-03,  6.88487384e-03, -3.58096957e-02,\n",
       "          3.00881695e-02,  5.00754900e-02,  2.42828438e-03,  1.01426162e-03,\n",
       "          5.28851151e-02,  3.88704054e-02,  1.78082157e-02, -3.39097753e-02,\n",
       "         -4.82971333e-02,  4.05406253e-03, -2.42240969e-02, -3.64998877e-02,\n",
       "         -3.65789086e-02, -6.86010811e-04, -3.25459391e-02, -1.23639507e-02,\n",
       "         -2.04441547e-02, -2.94353273e-02, -4.11061309e-02,  1.23659074e-02,\n",
       "         -1.45729454e-02,  8.53967946e-03,  1.47753004e-02,  3.33582163e-02,\n",
       "         -3.98223996e-02, -2.17630230e-02,  4.45961803e-02,  1.09006669e-02,\n",
       "          6.93785995e-02,  7.01570585e-02, -1.97385233e-02, -5.06062768e-02,\n",
       "          1.53029114e-02,  8.25559720e-02, -1.74960028e-02, -7.64998049e-03,\n",
       "          5.56305647e-02, -4.34211008e-02,  1.05493666e-04,  2.61293184e-02,\n",
       "          4.05254774e-02,  1.05896946e-02, -3.37927006e-02, -3.02264164e-03,\n",
       "         -8.59232992e-02, -1.75143238e-02,  5.20037785e-02,  3.87254283e-02,\n",
       "          3.26774875e-03,  1.13937557e-02, -5.87345064e-02, -2.93329582e-02,\n",
       "          2.03454960e-03, -4.72410657e-02, -2.53411345e-02, -1.61070228e-02,\n",
       "          1.86378360e-02,  2.46879887e-02,  4.24237102e-02,  8.46842304e-02,\n",
       "         -1.69361960e-02, -7.46965855e-02, -4.80615273e-02,  7.07906708e-02,\n",
       "          2.40940526e-02,  2.76409369e-03,  6.62468979e-03,  6.18000701e-02,\n",
       "         -9.36014578e-02, -4.42473553e-02, -3.34969498e-02, -4.11559306e-02,\n",
       "         -3.36078298e-03, -4.32525612e-02, -1.77500080e-02, -3.77420560e-02,\n",
       "         -1.46109853e-02, -2.26953160e-02,  1.75931174e-02,  2.36241780e-02,\n",
       "          1.38746519e-02,  1.18298419e-02, -2.45028920e-02, -5.71214966e-02,\n",
       "          5.52087948e-02,  5.70028462e-02,  6.83956919e-03,  2.58141737e-02,\n",
       "         -1.62925627e-02,  2.32043546e-02, -3.91852222e-02, -3.25876065e-02,\n",
       "          4.62255068e-02, -2.25171931e-02, -4.86783125e-02,  2.80167479e-02,\n",
       "          4.31475006e-02,  3.18180770e-03, -6.02641143e-02,  4.97957543e-02,\n",
       "         -2.19057556e-02,  2.00787038e-02,  7.24213780e-04, -6.49966672e-02,\n",
       "         -1.07624158e-02, -7.98294470e-02,  4.53445874e-02, -2.15811711e-02,\n",
       "          1.72694214e-02, -4.48564216e-02,  5.16425297e-02,  5.48618846e-03,\n",
       "         -3.99293611e-03,  6.69965670e-02,  7.89445918e-03,  2.10869722e-02,\n",
       "         -4.77113109e-03, -3.03674601e-02,  5.18272957e-03, -4.54806350e-02,\n",
       "         -2.18661670e-02,  5.47879748e-03, -5.13450289e-03,  2.45321803e-02,\n",
       "          3.72893177e-02,  3.00129689e-02, -1.68754309e-02, -7.09656952e-03,\n",
       "         -3.31280828e-02,  1.71108115e-02,  1.57517660e-02, -6.91329315e-02,\n",
       "         -2.23466358e-03, -6.43882826e-02,  2.70488076e-02,  7.68764736e-03,\n",
       "          3.22105289e-02,  4.36309017e-02,  2.30126549e-02, -4.78606392e-03,\n",
       "          1.78608429e-02, -3.00425235e-02, -1.31770605e-02,  8.53047892e-03,\n",
       "          1.70079228e-02,  1.62104722e-02,  2.54499633e-02,  2.23212205e-02,\n",
       "         -4.35918346e-02, -5.00138253e-02, -6.04857616e-02,  3.18852067e-02,\n",
       "          6.63379952e-03, -4.69795391e-02,  1.05224904e-02,  5.06457780e-03,\n",
       "         -1.97486226e-02, -2.38756984e-02,  3.43524814e-02,  4.97544091e-03,\n",
       "         -3.97833437e-02, -3.38387005e-02,  1.75596755e-02, -3.74975353e-02,\n",
       "          8.58308747e-02,  6.88049663e-03,  3.51287238e-02, -2.96560494e-04,\n",
       "          6.22059703e-02,  1.16068847e-03, -2.00947747e-02,  3.88121940e-02,\n",
       "          2.77981721e-02, -3.64880748e-02,  4.07536775e-02, -1.00116864e-01,\n",
       "          1.38698414e-03,  2.92608812e-02, -1.14582188e-01,  1.98682770e-02,\n",
       "         -7.51495734e-02, -1.70311965e-02,  5.50939739e-02, -1.22500481e-02,\n",
       "          3.56124975e-02,  1.10365693e-02, -1.95202406e-03, -4.76360437e-04,\n",
       "         -1.89800549e-03, -8.36519599e-02, -3.61777004e-03, -3.51424403e-02,\n",
       "         -2.61332039e-02,  2.11330708e-02,  3.96005530e-03, -1.67821292e-02,\n",
       "          1.95695646e-02, -1.02784131e-02,  9.20001976e-03, -1.82073433e-02,\n",
       "         -2.08085142e-02, -3.11026182e-02,  4.96352799e-02, -5.94365923e-03,\n",
       "          8.63269717e-03, -3.82447764e-02,  1.76603254e-03, -4.44557611e-03,\n",
       "         -2.87076775e-02, -9.31593298e-04, -6.87069744e-02, -1.14821000e-02,\n",
       "         -3.82819660e-02,  3.12914029e-02, -8.96889716e-03,  5.45480438e-02,\n",
       "          1.14683472e-02,  1.71706714e-02,  1.03716753e-01, -7.79705271e-02,\n",
       "          4.48140763e-02, -7.76672512e-02, -2.91439686e-02,  1.77410729e-02,\n",
       "          3.99059840e-02,  2.31984947e-02,  7.02818632e-02, -1.02540422e-02,\n",
       "          1.30677689e-02, -4.31836471e-02,  3.88494618e-02, -3.86931039e-02,\n",
       "         -2.35856790e-02, -4.20496352e-02, -2.73759123e-02,  3.51420343e-02,\n",
       "          2.76697110e-02, -5.75955734e-02,  1.46047445e-03,  1.86619014e-02,\n",
       "         -4.21852656e-02,  1.97070930e-03, -3.49512473e-02,  2.67502982e-02,\n",
       "          5.41067310e-03,  1.56666823e-02,  5.01587875e-02,  6.16680570e-02,\n",
       "         -4.15919311e-02,  4.60385047e-02,  1.73476357e-02,  2.15609223e-02,\n",
       "          3.69496942e-02,  1.03462683e-02, -2.01721489e-02,  3.75642232e-03,\n",
       "          1.37446402e-02, -2.14832630e-02, -9.14912149e-02,  3.88612784e-02,\n",
       "          3.27947363e-02, -8.12441260e-02,  3.58657935e-03, -1.29030636e-02,\n",
       "         -1.93183944e-02,  5.00276200e-02, -1.15229255e-02, -9.52689536e-03,\n",
       "          2.55493764e-02, -1.83861647e-02, -3.94029208e-02, -7.52658024e-02,\n",
       "         -3.25307213e-02, -4.23079580e-02, -4.53468319e-03,  1.24411751e-02,\n",
       "         -9.09816008e-03,  3.29964943e-02,  3.82810533e-02,  1.24172628e-04,\n",
       "         -2.78402716e-02, -2.18137018e-02, -2.58041397e-02,  3.40907909e-02,\n",
       "          5.41644394e-02,  1.87524669e-02, -4.76605743e-02, -3.18660773e-02,\n",
       "         -2.52939519e-02,  3.70493159e-02,  6.39362559e-02, -3.12928557e-02,\n",
       "          8.43711756e-03, -5.55765640e-04, -6.14941828e-02, -6.88091144e-02,\n",
       "          4.59737703e-02, -6.33590948e-03,  2.65365969e-02,  5.75245768e-02,\n",
       "          1.92299951e-02,  3.52674350e-02,  4.45737615e-02, -1.70663577e-02,\n",
       "          2.49718893e-02, -1.52513832e-02, -4.87569943e-02,  3.01063918e-02,\n",
       "          8.41498449e-02, -7.55851809e-03,  5.55344336e-02,  5.82381077e-02,\n",
       "          1.43397832e-02,  1.50919966e-02,  7.98890591e-02,  3.34806219e-02,\n",
       "          5.10874726e-02, -1.40651288e-02,  1.75118949e-02,  1.14887198e-02,\n",
       "          1.38304597e-02,  3.35012488e-02, -6.63472014e-03,  1.03741121e-02,\n",
       "         -1.38805555e-02,  8.62862170e-03, -2.14226339e-02,  3.80198122e-03,\n",
       "          8.97137623e-04,  3.04570924e-02,  5.18347174e-02, -5.17351786e-04,\n",
       "         -1.76278763e-02, -7.11868634e-04,  3.54709923e-02,  3.88778606e-03,\n",
       "         -6.42486196e-03, -5.12222089e-02,  1.13359289e-02,  1.95607916e-02,\n",
       "          1.94583200e-02, -1.07519738e-02, -3.11771836e-02,  6.23706728e-02,\n",
       "         -5.70370862e-03,  3.01963165e-02,  2.19547823e-02, -2.80482769e-02,\n",
       "          2.85483133e-02, -2.33329833e-02,  4.97098416e-02, -1.41451918e-02,\n",
       "         -3.55807729e-02, -8.68110172e-03,  3.31160203e-02,  1.41608587e-03,\n",
       "         -7.08062425e-02,  2.30613016e-02, -1.48215774e-03, -3.39593664e-02,\n",
       "          2.02896018e-02, -2.49275868e-03, -5.37430532e-02,  2.28091609e-02,\n",
       "         -2.55130101e-02,  7.91571811e-02,  2.19050813e-02,  7.12321848e-02,\n",
       "          7.87619203e-02, -2.19907220e-02,  2.02532019e-02, -1.86294410e-02,\n",
       "         -1.43703772e-02,  1.27034122e-02,  3.14700231e-02,  1.83821823e-02,\n",
       "          1.01387184e-02, -9.22847260e-03, -4.98025082e-02,  4.12233919e-02,\n",
       "         -2.17266679e-02, -5.89596927e-02,  5.58112785e-02,  1.83259994e-02,\n",
       "         -2.15170830e-02,  1.17495700e-04,  1.13024283e-02,  1.36122610e-02,\n",
       "         -6.92902878e-02, -2.64591984e-02,  4.85684955e-03,  7.53956614e-03,\n",
       "          2.51836050e-02,  9.97508317e-03, -5.94639685e-03,  2.80136056e-03,\n",
       "         -2.31763925e-02,  2.35089622e-02, -1.89727657e-02, -8.77600629e-03,\n",
       "         -1.68828573e-02, -5.51510304e-02,  1.99600793e-02,  2.26414707e-02,\n",
       "          2.48684976e-02, -4.24510092e-02,  4.51681949e-02, -3.46943252e-02,\n",
       "          5.67754284e-02, -2.27102917e-02,  2.40772367e-02, -8.52718949e-03,\n",
       "          4.99883182e-02, -6.05568700e-02,  9.96129494e-03,  8.03653430e-03,\n",
       "          2.25296076e-02,  3.41246463e-02, -7.39750778e-03,  6.39017858e-03,\n",
       "          1.57546997e-02,  4.23614029e-03,  4.67457771e-02, -2.54258197e-02,\n",
       "         -1.77110005e-02, -1.59677919e-02, -3.88391054e-04,  2.19639041e-03,\n",
       "          6.14318065e-02,  1.01090660e-02, -5.76535380e-03,  1.24515109e-02,\n",
       "         -3.23230289e-02, -1.00601756e-03, -3.93297896e-02, -1.22492975e-02,\n",
       "          7.91790988e-03,  1.16057564e-02, -7.83107337e-03,  2.93548545e-03,\n",
       "          5.19382162e-03, -4.54297435e-04, -4.31182981e-02,  5.25295474e-02,\n",
       "          5.38435066e-03, -5.11879064e-02, -7.50454664e-02, -3.75451744e-02,\n",
       "         -1.95489004e-02,  8.17747880e-03, -1.94939479e-04,  2.77631544e-02,\n",
       "          4.81811306e-03,  5.95023185e-02, -2.76202038e-02,  1.21493423e-02,\n",
       "         -5.16560599e-02, -2.86527127e-02, -1.39377471e-02, -1.94459595e-02,\n",
       "         -3.56071778e-02, -3.14511470e-02, -3.15285590e-03,  4.97120991e-02,\n",
       "          4.46145684e-02,  5.33078834e-02, -5.35426699e-02, -1.20227020e-02,\n",
       "         -8.15284103e-02,  7.15103175e-04,  6.33002492e-04, -2.91434005e-02,\n",
       "         -6.00206060e-03, -3.77610512e-02, -1.15063405e-02,  4.43888782e-03,\n",
       "         -2.41618603e-03,  4.28294577e-02,  4.26186882e-02,  2.46330928e-02,\n",
       "          4.08523865e-02,  1.35852350e-03,  4.62414585e-02,  1.84877049e-02,\n",
       "         -3.31744622e-03, -1.17899338e-02, -7.02266097e-02, -8.05690810e-02,\n",
       "          6.39602244e-02,  2.66174227e-02, -1.22011192e-02,  1.72664900e-03,\n",
       "         -3.50731649e-02, -7.09487051e-02, -4.60674763e-02,  1.09953228e-02,\n",
       "          1.66341010e-02,  4.05784920e-02,  4.99354228e-02, -5.10350205e-02,\n",
       "         -1.97156742e-02,  6.21288493e-02, -2.99612843e-02,  6.23487821e-03,\n",
       "         -3.63267101e-02,  1.43623510e-02,  9.30425376e-02,  3.05971056e-02,\n",
       "          5.93688618e-03,  3.14788334e-02,  1.01729892e-02,  4.32055928e-02,\n",
       "          4.19440046e-02,  3.48590873e-02, -7.87243769e-02, -3.33924568e-03,\n",
       "          1.41601730e-02, -3.82457743e-03,  6.09277003e-03,  6.51191100e-02,\n",
       "         -2.19337852e-03,  1.63976755e-02,  1.65806636e-02,  1.20738139e-02,\n",
       "          3.17203882e-03, -4.39223088e-02, -2.07207929e-02,  3.28107327e-02,\n",
       "          6.46592584e-03, -1.83926672e-02,  8.33844468e-02, -1.38644734e-02,\n",
       "          2.55229254e-03,  4.07948792e-02, -3.08303144e-02,  1.37935290e-02,\n",
       "         -1.79142710e-02,  2.76623145e-02, -5.30696707e-03,  4.65788916e-02,\n",
       "          5.50054247e-03, -3.64010659e-04, -5.14167771e-02,  4.60389145e-02,\n",
       "          2.96418872e-02, -3.69405001e-03, -2.62864167e-03, -4.37091216e-02,\n",
       "          1.14318244e-02, -2.61309035e-02, -7.02940077e-02, -4.89438549e-02,\n",
       "         -8.95615108e-03, -6.85935840e-02,  7.00709596e-03, -2.92510213e-03,\n",
       "         -3.71178910e-02, -1.81352012e-02,  2.15114355e-02, -3.78458500e-02,\n",
       "         -3.16531137e-02,  2.49973295e-04, -1.35045229e-02,  1.13761304e-02,\n",
       "         -3.72023135e-03,  7.56244827e-03, -2.53044050e-02, -3.99009064e-02,\n",
       "         -5.02327085e-02, -3.76254134e-02,  1.64655168e-02, -4.00232896e-02,\n",
       "          1.08141135e-02,  8.80807638e-03,  4.81359623e-02, -1.92374177e-02,\n",
       "          6.98283268e-03,  9.07143299e-03, -2.42352430e-02,  1.43719232e-02,\n",
       "         -4.51340191e-02, -5.46138026e-02,  1.54177863e-02, -7.04598278e-02,\n",
       "          3.61269601e-02, -4.41302583e-02,  1.47267785e-02, -3.94880474e-02,\n",
       "         -3.15497965e-02,  3.06033418e-02,  1.88587178e-02,  6.20117299e-02,\n",
       "         -1.84991900e-02, -4.99248579e-02, -4.98961424e-03, -1.72695275e-02,\n",
       "         -3.10940687e-02,  4.34268378e-02,  2.90379357e-02,  1.01619854e-03,\n",
       "          2.97744516e-02,  4.16760147e-02, -6.31476268e-02, -2.27117501e-02,\n",
       "         -5.78305051e-02, -3.70443575e-02,  2.57904772e-02, -3.92317250e-02,\n",
       "         -3.41192372e-02,  1.62899271e-02,  9.80664790e-02,  5.44515774e-02,\n",
       "          2.49658525e-02,  1.21475384e-03, -2.01752484e-02, -1.59823820e-02,\n",
       "          5.58455288e-03, -2.60335077e-02, -2.35547218e-02,  3.76791060e-02,\n",
       "         -5.68896942e-02,  7.29828551e-02,  1.67373717e-02, -9.82352048e-02,\n",
       "          9.10856500e-02, -2.95040291e-03,  9.58240964e-03, -4.11973372e-02,\n",
       "         -9.97211318e-03, -3.39023024e-02,  4.79121171e-02, -3.61142517e-03,\n",
       "          1.68155991e-02, -4.80759069e-02, -3.26519692e-03, -2.92488579e-02,\n",
       "         -2.93716751e-02, -3.51759009e-02,  4.37194258e-02, -8.19776859e-03,\n",
       "         -6.82736337e-02,  3.58738415e-02,  3.66120711e-02,  1.79724880e-02,\n",
       "          2.83978209e-02,  9.54730436e-03, -1.03139132e-02,  6.51496053e-02,\n",
       "          1.87120382e-02,  4.05369885e-03, -2.56668478e-02, -4.50835675e-02,\n",
       "         -3.16783115e-02,  1.70137491e-02,  2.69287955e-02, -1.55371148e-02,\n",
       "         -6.34983135e-03,  2.02567372e-02, -4.83849645e-02,  4.11090255e-03,\n",
       "         -7.75775348e-04, -2.37116637e-03,  2.05616020e-02, -2.32535470e-02,\n",
       "         -1.04728565e-02,  4.16378714e-02, -1.93199068e-02, -1.94189046e-02,\n",
       "         -2.42213011e-02,  4.21438739e-02,  3.28203067e-02, -3.21714059e-02,\n",
       "         -4.19723503e-02,  5.93347996e-02,  3.93215083e-02,  7.59618776e-03,\n",
       "         -3.36644123e-04,  1.33427549e-02,  1.96563192e-02, -2.86433171e-03,\n",
       "          9.65925492e-03, -3.52975726e-02,  6.55612350e-03, -2.08579712e-02,\n",
       "          2.26861425e-02,  7.99292047e-03, -4.27016504e-02, -3.52411456e-02,\n",
       "         -4.39404808e-02,  4.49556224e-02,  1.07855070e-02, -2.31659617e-02],\n",
       "        dtype=float32)}]"
      ]
     },
     "execution_count": 215,
     "metadata": {},
     "output_type": "execute_result"
    }
   ],
   "source": [
    "documents[0:2]"
   ]
  },
  {
   "cell_type": "code",
   "execution_count": 248,
   "id": "a34577dc-d04a-424c-9ffc-55d2f8821cb6",
   "metadata": {},
   "outputs": [],
   "source": [
    "for doc in documents:\n",
    "    es_client3.index(index = index_name, body = doc)"
   ]
  },
  {
   "cell_type": "code",
   "execution_count": 217,
   "id": "ca5eaba4-917f-4a5f-a3c3-6767231a3b1d",
   "metadata": {},
   "outputs": [],
   "source": [
    "es_query = {\n",
    "    'field': 'embeddings',\n",
    "    'query_vector' : q,\n",
    "    'k' :5,\n",
    "    'num_candidates': 10000\n",
    "}"
   ]
  },
  {
   "cell_type": "code",
   "execution_count": 218,
   "id": "06188a54-275d-4c25-aff9-b1a0e799a282",
   "metadata": {},
   "outputs": [],
   "source": [
    "responseq = es_client3.search(index= index_name, knn =es_query, source=['question', 'text', 'id'])"
   ]
  },
  {
   "cell_type": "code",
   "execution_count": 222,
   "id": "a4728c9d-f939-482c-ae1d-30878bde1a81",
   "metadata": {},
   "outputs": [
    {
     "data": {
      "text/plain": [
       "{'_index': 'homework3',\n",
       " '_id': 'dZFLeZEBuMBkxYRmmQe7',\n",
       " '_score': 0.8280066,\n",
       " '_source': {'question': 'The course has already started. Can I still join it?',\n",
       "  'text': 'Yes, you can. You won’t be able to submit some of the homeworks, but you can still take part in the course.\\nIn order to get a certificate, you need to submit 2 out of 3 course projects and review 3 peers’ Projects by the deadline. It means that if you join the course at the end of November and manage to work on two projects, you will still be eligible for a certificate.',\n",
       "  'id': 'ee58a693'}}"
      ]
     },
     "execution_count": 222,
     "metadata": {},
     "output_type": "execute_result"
    }
   ],
   "source": [
    "responseq['hits']['hits'][0]"
   ]
  },
  {
   "cell_type": "code",
   "execution_count": 220,
   "id": "bd501ecf-2f05-4070-97a4-d2343ce985df",
   "metadata": {},
   "outputs": [
    {
     "data": {
      "text/plain": [
       "'ee58a693'"
      ]
     },
     "execution_count": 220,
     "metadata": {},
     "output_type": "execute_result"
    }
   ],
   "source": [
    "responseq['hits']['hits'][0]['_source']['id']"
   ]
  },
  {
   "cell_type": "markdown",
   "id": "7bf1bd78-40c7-4a52-a1f3-97d7bce87e6a",
   "metadata": {},
   "source": [
    "## Q6. Hit-rate for Elasticsearch\n",
    "##### The search engine we used in Q4 computed the similarity between the query and ALL the vectors in our database. Usually this is not practical, as we may have a lot of data.\n",
    "\n",
    "##### Elasticsearch uses approximate techniques to make it faster.\n",
    "\n",
    "##### Let's evaluate how worse the results are when we switch from exact search (as in Q4) to approximate search with Elastic.\n",
    "\n",
    "##### What's hitrate for our dataset for Elastic?\n",
    "\n",
    "* 0.93\n",
    "* 0.73\n",
    "* 0.53\n",
    "* 0.33"
   ]
  },
  {
   "cell_type": "code",
   "execution_count": 211,
   "id": "3713a8a6-b478-4bcd-905e-58ccbd7bb31a",
   "metadata": {},
   "outputs": [
    {
     "data": {
      "text/plain": [
       "{'question': 'Where can I sign up for the course?',\n",
       " 'course': 'machine-learning-zoomcamp',\n",
       " 'document': '0227b872'}"
      ]
     },
     "execution_count": 211,
     "metadata": {},
     "output_type": "execute_result"
    }
   ],
   "source": [
    "ground_truth[0]"
   ]
  },
  {
   "cell_type": "code",
   "execution_count": 213,
   "id": "87af9c7f-4083-45b3-bd6c-f640380cc6d5",
   "metadata": {},
   "outputs": [],
   "source": [
    "def esquery(q):\n",
    "    es_query = {\n",
    "        'field': 'embeddings',\n",
    "        'query_vector' : model.encode(q),\n",
    "        'k' :5,\n",
    "        'num_candidates': 10000\n",
    "    }\n",
    "    return es_query"
   ]
  },
  {
   "cell_type": "code",
   "execution_count": 249,
   "id": "52b9aebc-07a0-4ca7-80c2-fef2cbbee18e",
   "metadata": {},
   "outputs": [
    {
     "data": {
      "text/plain": [
       "[{'_index': 'homework3',\n",
       "  '_id': 'Z5FPe5EBuMBkxYRmngp8',\n",
       "  '_score': 0.74546313,\n",
       "  '_source': {'id': '0a278fb2'}},\n",
       " {'_index': 'homework3',\n",
       "  '_id': 'V5FPe5EBuMBkxYRmmgqf',\n",
       "  '_score': 0.74376386,\n",
       "  '_source': {'id': '39fda9f0'}},\n",
       " {'_index': 'homework3',\n",
       "  '_id': 'ZJFPe5EBuMBkxYRmnQrI',\n",
       "  '_score': 0.7434543,\n",
       "  '_source': {'id': 'ee58a693'}},\n",
       " {'_index': 'homework3',\n",
       "  '_id': 'Y5FPe5EBuMBkxYRmnQqM',\n",
       "  '_score': 0.7397144,\n",
       "  '_source': {'id': '4930aa19'}},\n",
       " {'_index': 'homework3',\n",
       "  '_id': 'XJFPe5EBuMBkxYRmmwrL',\n",
       "  '_score': 0.7251109,\n",
       "  '_source': {'id': '67e2fd13'}}]"
      ]
     },
     "execution_count": 249,
     "metadata": {},
     "output_type": "execute_result"
    }
   ],
   "source": [
    "testel = es_client3.search(index= index_name, knn = esquery(ground_truth[0]['question']), source = ['id'])\n",
    "testel['hits']['hits']"
   ]
  },
  {
   "cell_type": "code",
   "execution_count": 253,
   "id": "5f97f5ca-82e9-4890-ba77-d76fc9bebf37",
   "metadata": {},
   "outputs": [
    {
     "name": "stderr",
     "output_type": "stream",
     "text": [
      "100%|████████████████████████████████████████████████████████████████████████████████████████████████████████████████████████████████████████████████████████| 1830/1830 [03:00<00:00, 10.14it/s]\n"
     ]
    },
    {
     "data": {
      "text/plain": [
       "0.9371584699453552"
      ]
     },
     "execution_count": 253,
     "metadata": {},
     "output_type": "execute_result"
    }
   ],
   "source": [
    "el_result = []\n",
    "\n",
    "for i in tqdm(ground_truth):\n",
    "    el_response = es_client3.search(index= index_name, knn = esquery(i['question']), source = ['id'])\n",
    "    el_response2 = el_response['hits']['hits']\n",
    "    el_result.append([i['document']==d['_source']['id'] for d in el_response2])\n",
    "    \n",
    "\n",
    "hit(el_result)\n"
   ]
  },
  {
   "cell_type": "code",
   "execution_count": null,
   "id": "d75c0206-eb58-48df-98c6-b458f52f6bd2",
   "metadata": {},
   "outputs": [],
   "source": []
  }
 ],
 "metadata": {
  "kernelspec": {
   "display_name": "Python 3 (ipykernel)",
   "language": "python",
   "name": "python3"
  },
  "language_info": {
   "codemirror_mode": {
    "name": "ipython",
    "version": 3
   },
   "file_extension": ".py",
   "mimetype": "text/x-python",
   "name": "python",
   "nbconvert_exporter": "python",
   "pygments_lexer": "ipython3",
   "version": "3.9.13"
  }
 },
 "nbformat": 4,
 "nbformat_minor": 5
}
