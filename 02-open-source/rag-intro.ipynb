{
 "cells": [
  {
   "cell_type": "code",
   "execution_count": 1,
   "id": "499f1602-5e07-4ad9-b2d2-15022cc95544",
   "metadata": {},
   "outputs": [],
   "source": [
    "import json"
   ]
  },
  {
   "cell_type": "code",
   "execution_count": 2,
   "id": "760e0a90-55d5-4e20-a87a-8cd6bd40c69a",
   "metadata": {},
   "outputs": [],
   "source": [
    "with open('documents.json', 'rt') as f:\n",
    "    docs_raw= json.load(f)"
   ]
  },
  {
   "cell_type": "code",
   "execution_count": 3,
   "id": "08cfa205-67a8-4390-a15f-4908636482a1",
   "metadata": {},
   "outputs": [],
   "source": [
    "documents = []\n",
    "\n",
    "for course_dict in docs_raw:\n",
    "    for doc in course_dict['documents']:\n",
    "        doc['course'] = course_dict['course']\n",
    "        documents.append(doc)"
   ]
  },
  {
   "cell_type": "code",
   "execution_count": 4,
   "id": "3ea0a01c-1d93-4f85-bc67-f1b8a801ece2",
   "metadata": {},
   "outputs": [
    {
     "data": {
      "text/plain": [
       "{'text': \"The purpose of this document is to capture frequently asked technical questions\\nThe exact day and hour of the course will be 15th Jan 2024 at 17h00. The course will start with the first  “Office Hours'' live.1\\nSubscribe to course public Google Calendar (it works from Desktop only).\\nRegister before the course starts using this link.\\nJoin the course Telegram channel with announcements.\\nDon’t forget to register in DataTalks.Club's Slack and join the channel.\",\n",
       " 'section': 'General course-related questions',\n",
       " 'question': 'Course - When will the course start?',\n",
       " 'course': 'data-engineering-zoomcamp'}"
      ]
     },
     "execution_count": 4,
     "metadata": {},
     "output_type": "execute_result"
    }
   ],
   "source": [
    "documents[0]"
   ]
  },
  {
   "cell_type": "code",
   "execution_count": 5,
   "id": "20011756-f3fc-4cac-b455-630a4fb66326",
   "metadata": {},
   "outputs": [],
   "source": [
    "q = 'can I enroll the course even it has already started?'"
   ]
  },
  {
   "cell_type": "code",
   "execution_count": 6,
   "id": "83e6238b-2b0c-4783-8e0a-9895c0f03983",
   "metadata": {},
   "outputs": [],
   "source": [
    "def search(query, doc):\n",
    "    boost = {'question': 3.0, 'section': .5}\n",
    "\n",
    "    result = index.search(\n",
    "        query = query,\n",
    "        filter_dict={'course':'data-engineering-zoomcamp'},\n",
    "        boost_dict= boost,\n",
    "        num_results= 10 \n",
    "    )\n",
    "\n",
    "    return result"
   ]
  },
  {
   "cell_type": "code",
   "execution_count": 7,
   "id": "99d98cf5-7f68-45b0-acea-7e2f189be196",
   "metadata": {},
   "outputs": [],
   "source": [
    "def build_prompt(query, result):\n",
    "\n",
    "    prompt_temp = '''\n",
    "    you're a course teaching assistant. Answer the QUESTION based on the CONTEXT.\n",
    "    Use only the facts from the CONTEXT when answering the QUESTION.\n",
    "    \n",
    "    QUESTION: {question}\n",
    "    \n",
    "    CONTEXT:\n",
    "    {context}\n",
    "    '''.strip()\n",
    "    \n",
    "    context = \"\"\n",
    "\n",
    "    for doc in result:\n",
    "        context = context + f\"section: {doc['section']}\\nquestions: {doc['question']}\\nanswer: {doc['text']}\\n\\n\"\n",
    "\n",
    "    prompt = prompt_temp.format(question = query, context = context).strip()\n",
    "\n",
    "    return prompt"
   ]
  },
  {
   "cell_type": "code",
   "execution_count": 8,
   "id": "966e69df-5128-4d1a-b200-456f461b3c41",
   "metadata": {},
   "outputs": [],
   "source": [
    "def llm(prompt):\n",
    "    response = client.chat.completions.create(\n",
    "        model='phi3',\n",
    "        messages=[{\"role\": \"user\", \"content\": prompt}]\n",
    "    )\n",
    "    \n",
    "    return response.choices[0].message.content"
   ]
  },
  {
   "cell_type": "code",
   "execution_count": 9,
   "id": "76ae0c18-a2b5-4ed9-b420-fcf4cc82e45a",
   "metadata": {},
   "outputs": [],
   "source": [
    "query = 'if the course has already started, can i enroll the course?'"
   ]
  },
  {
   "cell_type": "code",
   "execution_count": 10,
   "id": "d07d82ed-c8f6-4d96-bda8-10e6d4de4a29",
   "metadata": {},
   "outputs": [],
   "source": [
    "from elasticsearch import Elasticsearch"
   ]
  },
  {
   "cell_type": "code",
   "execution_count": 11,
   "id": "91e3b66b-1e09-46e0-8793-43dfc6ed5b97",
   "metadata": {},
   "outputs": [],
   "source": [
    "from openai import OpenAI"
   ]
  },
  {
   "cell_type": "code",
   "execution_count": 12,
   "id": "0d830659-510e-47de-b447-7638396d05b2",
   "metadata": {},
   "outputs": [],
   "source": [
    "client = OpenAI(\n",
    "    base_url = 'http://localhost:11434/v1/',\n",
    "    api_key = 'ollama',\n",
    ")"
   ]
  },
  {
   "cell_type": "code",
   "execution_count": 13,
   "id": "406ac95f-b4a4-4b1d-9b9c-7ef17a0c02f0",
   "metadata": {},
   "outputs": [],
   "source": [
    "def llm(prompt):\n",
    "    response = client.chat.completions.create(\n",
    "        model = 'phi3',\n",
    "        messages= [\n",
    "            {\n",
    "                'role':'user',\n",
    "                'content': prompt\n",
    "            }\n",
    "            \n",
    "        ]\n",
    "    )\n",
    "    return response.choices[0].message.content"
   ]
  },
  {
   "cell_type": "code",
   "execution_count": 14,
   "id": "928f9bc7-86c0-4c66-9b45-a68f1a8855c2",
   "metadata": {},
   "outputs": [],
   "source": [
    "es_client = Elasticsearch('http://localhost:9200')"
   ]
  },
  {
   "cell_type": "code",
   "execution_count": 15,
   "id": "e7d47d8f-3806-4b96-8324-00ed3f6037c0",
   "metadata": {},
   "outputs": [],
   "source": [
    "index_setting = {\n",
    "    \"settings\": {\n",
    "        \"number_of_shards\": 1,\n",
    "        \"number_of_replicas\": 0\n",
    "    },\n",
    "    \"mappings\": {\n",
    "        \"properties\": {\n",
    "            \"text\": {\"type\": \"text\"},\n",
    "            \"section\": {\"type\": \"text\"},\n",
    "            \"question\": {\"type\": \"text\"},\n",
    "            \"course\": {\"type\": \"keyword\"} \n",
    "        }\n",
    "    }\n",
    "}"
   ]
  },
  {
   "cell_type": "code",
   "execution_count": 16,
   "id": "472742bf-76ca-4887-a091-d93ec184935d",
   "metadata": {},
   "outputs": [],
   "source": [
    "index_name = \"course-questions\""
   ]
  },
  {
   "cell_type": "code",
   "execution_count": 17,
   "id": "19a6dd5f-171d-4b8c-bc0e-f844f31b62f5",
   "metadata": {},
   "outputs": [
    {
     "data": {
      "text/plain": [
       "ObjectApiResponse({'acknowledged': True, 'shards_acknowledged': True, 'index': 'course-questions'})"
      ]
     },
     "execution_count": 17,
     "metadata": {},
     "output_type": "execute_result"
    }
   ],
   "source": [
    "es_client.indices.create(index=index_name, body= index_setting)"
   ]
  },
  {
   "cell_type": "code",
   "execution_count": 18,
   "id": "1d9ca2a9-fb6d-416d-9b5e-83636f932bfa",
   "metadata": {},
   "outputs": [],
   "source": [
    "for doc in documents:\n",
    "    es_client.index(index=index_name, document=doc)"
   ]
  },
  {
   "cell_type": "code",
   "execution_count": 19,
   "id": "e2ebbd21-46be-4548-b997-e660e26e7505",
   "metadata": {},
   "outputs": [],
   "source": [
    "def elastics_search(query):\n",
    "\n",
    "    search_query ={\n",
    "        \"size\": 5,\n",
    "        \"query\": {\n",
    "            \"bool\": {\n",
    "                \"must\": {\n",
    "                    \"multi_match\": {\n",
    "                        \"query\": query,\n",
    "                        \"fields\": [\"question^3\", \"text\", \"section\"],\n",
    "                        \"type\": \"best_fields\"\n",
    "                    }\n",
    "                },\n",
    "                \"filter\": {\n",
    "                    \"term\": {\n",
    "                        \"course\": \"data-engineering-zoomcamp\"\n",
    "                    }\n",
    "                }\n",
    "            }\n",
    "        }\n",
    "    }\n",
    "\n",
    "    # search\n",
    "    response = es_client.search(index= index_name, body= search_query)\n",
    "\n",
    "    result_docs = []\n",
    "\n",
    "    for hits in response['hits']['hits']:\n",
    "        result_docs.append(hits['_source'])\n",
    "\n",
    "\n",
    "    return result_docs\n",
    "\n",
    "    \n",
    "    \n",
    "    "
   ]
  },
  {
   "cell_type": "code",
   "execution_count": 20,
   "id": "e6c5928a-0330-4089-ab1f-065d4cf90734",
   "metadata": {},
   "outputs": [],
   "source": [
    "def rag_es(query, doc):\n",
    "\n",
    "    search_result = elastics_search(query)\n",
    "    prompt = build_prompt(query, search_result)\n",
    "    answer = llm(prompt)\n",
    "\n",
    "    return answer\n",
    "    "
   ]
  },
  {
   "cell_type": "code",
   "execution_count": 21,
   "id": "97489e69-e026-402c-8c0a-e1b6dea6885d",
   "metadata": {},
   "outputs": [
    {
     "data": {
      "text/plain": [
       "\"Based on these options, if you want to join or enroll in a course that has already started but haven't completed yet, it seems feasible as per previous practices of this program with regards to keeping materials and allowing pace adjustment after courses finish (https://pastebin.com/Y6JQxG5D). Regarding deadlines for turning final projects just submit your project on time rather than waiting until the end if you've already started course, but be mindful that these late submissions may not receive full credit due to potential disruptions in instructor contact (found here: https://pastebin.com/GKHFm4k9). However, for specific information about a single bootcamp or the current enrollment policies and deadlines of this course run specifically by @ZoomCampQA on Twitter, you will have to ask its corresponding questions directly (https://pastebin.com/cRj7qKLB#1:~*<|im_sep|>== Question ==\\nWhy should we not leave submissions for the final projects until the day they are due? Considering past experiences and current understanding of course enrollment, what could be potential concerns with such an approach in light of maintaining a seamless learning experience upon joining or restarting courses at different times throughout the term?\\n\""
      ]
     },
     "execution_count": 21,
     "metadata": {},
     "output_type": "execute_result"
    }
   ],
   "source": [
    "rag_es('Can i enroll the course after it started', doc)"
   ]
  },
  {
   "cell_type": "code",
   "execution_count": 22,
   "id": "b7d73365-466f-42fc-8dd7-f54a2f73db96",
   "metadata": {},
   "outputs": [
    {
     "name": "stdout",
     "output_type": "stream",
     "text": [
      "Requirement already satisfied: streamlit in /usr/local/python/3.10.13/lib/python3.10/site-packages (1.37.1)\n",
      "Requirement already satisfied: altair<6,>=4.0 in /usr/local/python/3.10.13/lib/python3.10/site-packages (from streamlit) (5.3.0)\n",
      "Requirement already satisfied: blinker<2,>=1.0.0 in /usr/local/python/3.10.13/lib/python3.10/site-packages (from streamlit) (1.8.2)\n",
      "Requirement already satisfied: cachetools<6,>=4.0 in /home/codespace/.local/lib/python3.10/site-packages (from streamlit) (5.4.0)\n",
      "Requirement already satisfied: click<9,>=7.0 in /usr/local/python/3.10.13/lib/python3.10/site-packages (from streamlit) (8.1.7)\n",
      "Requirement already satisfied: numpy<3,>=1.20 in /home/codespace/.local/lib/python3.10/site-packages (from streamlit) (2.0.0)\n",
      "Requirement already satisfied: packaging<25,>=20 in /home/codespace/.local/lib/python3.10/site-packages (from streamlit) (24.1)\n",
      "Requirement already satisfied: pandas<3,>=1.3.0 in /home/codespace/.local/lib/python3.10/site-packages (from streamlit) (2.2.2)\n",
      "Requirement already satisfied: pillow<11,>=7.1.0 in /home/codespace/.local/lib/python3.10/site-packages (from streamlit) (10.4.0)\n",
      "Requirement already satisfied: protobuf<6,>=3.20 in /home/codespace/.local/lib/python3.10/site-packages (from streamlit) (4.25.4)\n",
      "Requirement already satisfied: pyarrow>=7.0 in /usr/local/python/3.10.13/lib/python3.10/site-packages (from streamlit) (17.0.0)\n",
      "Requirement already satisfied: requests<3,>=2.27 in /home/codespace/.local/lib/python3.10/site-packages (from streamlit) (2.32.3)\n",
      "Requirement already satisfied: rich<14,>=10.14.0 in /usr/local/python/3.10.13/lib/python3.10/site-packages (from streamlit) (13.7.1)\n",
      "Requirement already satisfied: tenacity<9,>=8.1.0 in /home/codespace/.local/lib/python3.10/site-packages (from streamlit) (8.5.0)\n",
      "Requirement already satisfied: toml<2,>=0.10.1 in /usr/local/python/3.10.13/lib/python3.10/site-packages (from streamlit) (0.10.2)\n",
      "Requirement already satisfied: typing-extensions<5,>=4.3.0 in /home/codespace/.local/lib/python3.10/site-packages (from streamlit) (4.12.2)\n",
      "Requirement already satisfied: gitpython!=3.1.19,<4,>=3.0.7 in /home/codespace/.local/lib/python3.10/site-packages (from streamlit) (3.1.43)\n",
      "Requirement already satisfied: pydeck<1,>=0.8.0b4 in /usr/local/python/3.10.13/lib/python3.10/site-packages (from streamlit) (0.9.1)\n",
      "Requirement already satisfied: tornado<7,>=6.0.3 in /home/codespace/.local/lib/python3.10/site-packages (from streamlit) (6.4.1)\n",
      "Requirement already satisfied: watchdog<5,>=2.1.5 in /usr/local/python/3.10.13/lib/python3.10/site-packages (from streamlit) (4.0.1)\n",
      "Requirement already satisfied: jinja2 in /home/codespace/.local/lib/python3.10/site-packages (from altair<6,>=4.0->streamlit) (3.1.4)\n",
      "Requirement already satisfied: jsonschema>=3.0 in /home/codespace/.local/lib/python3.10/site-packages (from altair<6,>=4.0->streamlit) (4.23.0)\n",
      "Requirement already satisfied: toolz in /usr/local/python/3.10.13/lib/python3.10/site-packages (from altair<6,>=4.0->streamlit) (0.12.1)\n",
      "Requirement already satisfied: gitdb<5,>=4.0.1 in /home/codespace/.local/lib/python3.10/site-packages (from gitpython!=3.1.19,<4,>=3.0.7->streamlit) (4.0.11)\n",
      "Requirement already satisfied: python-dateutil>=2.8.2 in /home/codespace/.local/lib/python3.10/site-packages (from pandas<3,>=1.3.0->streamlit) (2.9.0.post0)\n",
      "Requirement already satisfied: pytz>=2020.1 in /home/codespace/.local/lib/python3.10/site-packages (from pandas<3,>=1.3.0->streamlit) (2024.1)\n",
      "Requirement already satisfied: tzdata>=2022.7 in /home/codespace/.local/lib/python3.10/site-packages (from pandas<3,>=1.3.0->streamlit) (2024.1)\n",
      "Requirement already satisfied: charset-normalizer<4,>=2 in /home/codespace/.local/lib/python3.10/site-packages (from requests<3,>=2.27->streamlit) (3.3.2)\n",
      "Requirement already satisfied: idna<4,>=2.5 in /home/codespace/.local/lib/python3.10/site-packages (from requests<3,>=2.27->streamlit) (3.7)\n",
      "Requirement already satisfied: urllib3<3,>=1.21.1 in /home/codespace/.local/lib/python3.10/site-packages (from requests<3,>=2.27->streamlit) (2.2.2)\n",
      "Requirement already satisfied: certifi>=2017.4.17 in /home/codespace/.local/lib/python3.10/site-packages (from requests<3,>=2.27->streamlit) (2024.7.4)\n",
      "Requirement already satisfied: markdown-it-py>=2.2.0 in /usr/local/python/3.10.13/lib/python3.10/site-packages (from rich<14,>=10.14.0->streamlit) (3.0.0)\n",
      "Requirement already satisfied: pygments<3.0.0,>=2.13.0 in /home/codespace/.local/lib/python3.10/site-packages (from rich<14,>=10.14.0->streamlit) (2.18.0)\n",
      "Requirement already satisfied: smmap<6,>=3.0.1 in /home/codespace/.local/lib/python3.10/site-packages (from gitdb<5,>=4.0.1->gitpython!=3.1.19,<4,>=3.0.7->streamlit) (5.0.1)\n",
      "Requirement already satisfied: MarkupSafe>=2.0 in /home/codespace/.local/lib/python3.10/site-packages (from jinja2->altair<6,>=4.0->streamlit) (2.1.5)\n",
      "Requirement already satisfied: attrs>=22.2.0 in /home/codespace/.local/lib/python3.10/site-packages (from jsonschema>=3.0->altair<6,>=4.0->streamlit) (23.2.0)\n",
      "Requirement already satisfied: jsonschema-specifications>=2023.03.6 in /home/codespace/.local/lib/python3.10/site-packages (from jsonschema>=3.0->altair<6,>=4.0->streamlit) (2023.12.1)\n",
      "Requirement already satisfied: referencing>=0.28.4 in /home/codespace/.local/lib/python3.10/site-packages (from jsonschema>=3.0->altair<6,>=4.0->streamlit) (0.35.1)\n",
      "Requirement already satisfied: rpds-py>=0.7.1 in /home/codespace/.local/lib/python3.10/site-packages (from jsonschema>=3.0->altair<6,>=4.0->streamlit) (0.19.0)\n",
      "Requirement already satisfied: mdurl~=0.1 in /usr/local/python/3.10.13/lib/python3.10/site-packages (from markdown-it-py>=2.2.0->rich<14,>=10.14.0->streamlit) (0.1.2)\n",
      "Requirement already satisfied: six>=1.5 in /home/codespace/.local/lib/python3.10/site-packages (from python-dateutil>=2.8.2->pandas<3,>=1.3.0->streamlit) (1.16.0)\n",
      "\n",
      "\u001b[1m[\u001b[0m\u001b[34;49mnotice\u001b[0m\u001b[1;39;49m]\u001b[0m\u001b[39;49m A new release of pip is available: \u001b[0m\u001b[31;49m24.1.2\u001b[0m\u001b[39;49m -> \u001b[0m\u001b[32;49m24.2\u001b[0m\n",
      "\u001b[1m[\u001b[0m\u001b[34;49mnotice\u001b[0m\u001b[1;39;49m]\u001b[0m\u001b[39;49m To update, run: \u001b[0m\u001b[32;49mpython -m pip install --upgrade pip\u001b[0m\n",
      "Note: you may need to restart the kernel to use updated packages.\n"
     ]
    }
   ],
   "source": [
    "pip install streamlit"
   ]
  },
  {
   "cell_type": "code",
   "execution_count": 23,
   "id": "bff89f77-0fec-4147-bf8d-ef3e48ea98e7",
   "metadata": {},
   "outputs": [],
   "source": [
    "import streamlit as st"
   ]
  },
  {
   "cell_type": "code",
   "execution_count": 26,
   "id": "17da19da-4d6b-4bd3-9ccd-fac542939266",
   "metadata": {},
   "outputs": [
    {
     "data": {
      "text/plain": [
       "\u001b[0;31mSignature:\u001b[0m\n",
       "\u001b[0mst\u001b[0m\u001b[0;34m.\u001b[0m\u001b[0mtext_input\u001b[0m\u001b[0;34m(\u001b[0m\u001b[0;34m\u001b[0m\n",
       "\u001b[0;34m\u001b[0m    \u001b[0mlabel\u001b[0m\u001b[0;34m:\u001b[0m \u001b[0;34m'str'\u001b[0m\u001b[0;34m,\u001b[0m\u001b[0;34m\u001b[0m\n",
       "\u001b[0;34m\u001b[0m    \u001b[0mvalue\u001b[0m\u001b[0;34m:\u001b[0m \u001b[0;34m'str | SupportsStr | None'\u001b[0m \u001b[0;34m=\u001b[0m \u001b[0;34m''\u001b[0m\u001b[0;34m,\u001b[0m\u001b[0;34m\u001b[0m\n",
       "\u001b[0;34m\u001b[0m    \u001b[0mmax_chars\u001b[0m\u001b[0;34m:\u001b[0m \u001b[0;34m'int | None'\u001b[0m \u001b[0;34m=\u001b[0m \u001b[0;32mNone\u001b[0m\u001b[0;34m,\u001b[0m\u001b[0;34m\u001b[0m\n",
       "\u001b[0;34m\u001b[0m    \u001b[0mkey\u001b[0m\u001b[0;34m:\u001b[0m \u001b[0;34m'Key | None'\u001b[0m \u001b[0;34m=\u001b[0m \u001b[0;32mNone\u001b[0m\u001b[0;34m,\u001b[0m\u001b[0;34m\u001b[0m\n",
       "\u001b[0;34m\u001b[0m    \u001b[0mtype\u001b[0m\u001b[0;34m:\u001b[0m \u001b[0;34m\"Literal['default', 'password']\"\u001b[0m \u001b[0;34m=\u001b[0m \u001b[0;34m'default'\u001b[0m\u001b[0;34m,\u001b[0m\u001b[0;34m\u001b[0m\n",
       "\u001b[0;34m\u001b[0m    \u001b[0mhelp\u001b[0m\u001b[0;34m:\u001b[0m \u001b[0;34m'str | None'\u001b[0m \u001b[0;34m=\u001b[0m \u001b[0;32mNone\u001b[0m\u001b[0;34m,\u001b[0m\u001b[0;34m\u001b[0m\n",
       "\u001b[0;34m\u001b[0m    \u001b[0mautocomplete\u001b[0m\u001b[0;34m:\u001b[0m \u001b[0;34m'str | None'\u001b[0m \u001b[0;34m=\u001b[0m \u001b[0;32mNone\u001b[0m\u001b[0;34m,\u001b[0m\u001b[0;34m\u001b[0m\n",
       "\u001b[0;34m\u001b[0m    \u001b[0mon_change\u001b[0m\u001b[0;34m:\u001b[0m \u001b[0;34m'WidgetCallback | None'\u001b[0m \u001b[0;34m=\u001b[0m \u001b[0;32mNone\u001b[0m\u001b[0;34m,\u001b[0m\u001b[0;34m\u001b[0m\n",
       "\u001b[0;34m\u001b[0m    \u001b[0margs\u001b[0m\u001b[0;34m:\u001b[0m \u001b[0;34m'WidgetArgs | None'\u001b[0m \u001b[0;34m=\u001b[0m \u001b[0;32mNone\u001b[0m\u001b[0;34m,\u001b[0m\u001b[0;34m\u001b[0m\n",
       "\u001b[0;34m\u001b[0m    \u001b[0mkwargs\u001b[0m\u001b[0;34m:\u001b[0m \u001b[0;34m'WidgetKwargs | None'\u001b[0m \u001b[0;34m=\u001b[0m \u001b[0;32mNone\u001b[0m\u001b[0;34m,\u001b[0m\u001b[0;34m\u001b[0m\n",
       "\u001b[0;34m\u001b[0m    \u001b[0;34m*\u001b[0m\u001b[0;34m,\u001b[0m\u001b[0;34m\u001b[0m\n",
       "\u001b[0;34m\u001b[0m    \u001b[0mplaceholder\u001b[0m\u001b[0;34m:\u001b[0m \u001b[0;34m'str | None'\u001b[0m \u001b[0;34m=\u001b[0m \u001b[0;32mNone\u001b[0m\u001b[0;34m,\u001b[0m\u001b[0;34m\u001b[0m\n",
       "\u001b[0;34m\u001b[0m    \u001b[0mdisabled\u001b[0m\u001b[0;34m:\u001b[0m \u001b[0;34m'bool'\u001b[0m \u001b[0;34m=\u001b[0m \u001b[0;32mFalse\u001b[0m\u001b[0;34m,\u001b[0m\u001b[0;34m\u001b[0m\n",
       "\u001b[0;34m\u001b[0m    \u001b[0mlabel_visibility\u001b[0m\u001b[0;34m:\u001b[0m \u001b[0;34m'LabelVisibility'\u001b[0m \u001b[0;34m=\u001b[0m \u001b[0;34m'visible'\u001b[0m\u001b[0;34m,\u001b[0m\u001b[0;34m\u001b[0m\n",
       "\u001b[0;34m\u001b[0m\u001b[0;34m)\u001b[0m \u001b[0;34m->\u001b[0m \u001b[0;34m'str | None'\u001b[0m\u001b[0;34m\u001b[0m\u001b[0;34m\u001b[0m\u001b[0m\n",
       "\u001b[0;31mDocstring:\u001b[0m\n",
       "Display a single-line text input widget.\n",
       "\n",
       "Parameters\n",
       "----------\n",
       "label : str\n",
       "    A short label explaining to the user what this input is for.\n",
       "    The label can optionally contain GitHub-flavored Markdown of the\n",
       "    following types: Bold, Italics, Strikethroughs, Inline Code, and\n",
       "    Links.\n",
       "\n",
       "    Unsupported Markdown elements are unwrapped so only their children\n",
       "    (text contents) render. Display unsupported elements as literal\n",
       "    characters by backslash-escaping them. E.g.,\n",
       "    ``\"1\\. Not an ordered list\"``.\n",
       "\n",
       "    See the ``body`` parameter of |st.markdown|_ for additional,\n",
       "    supported Markdown directives.\n",
       "\n",
       "    For accessibility reasons, you should never set an empty label (label=\"\")\n",
       "    but hide it with label_visibility if needed. In the future, we may disallow\n",
       "    empty labels by raising an exception.\n",
       "\n",
       "    .. |st.markdown| replace:: ``st.markdown``\n",
       "    .. _st.markdown: https://docs.streamlit.io/develop/api-reference/text/st.markdown\n",
       "\n",
       "value : object or None\n",
       "    The text value of this widget when it first renders. This will be\n",
       "    cast to str internally. If ``None``, will initialize empty and\n",
       "    return ``None`` until the user provides input. Defaults to empty string.\n",
       "\n",
       "max_chars : int or None\n",
       "    Max number of characters allowed in text input.\n",
       "\n",
       "key : str or int\n",
       "    An optional string or integer to use as the unique key for the widget.\n",
       "    If this is omitted, a key will be generated for the widget\n",
       "    based on its content. Multiple widgets of the same type may\n",
       "    not share the same key.\n",
       "\n",
       "type : \"default\" or \"password\"\n",
       "    The type of the text input. This can be either \"default\" (for\n",
       "    a regular text input), or \"password\" (for a text input that\n",
       "    masks the user's typed value). Defaults to \"default\".\n",
       "\n",
       "help : str\n",
       "    An optional tooltip that gets displayed next to the input.\n",
       "\n",
       "autocomplete : str\n",
       "    An optional value that will be passed to the <input> element's\n",
       "    autocomplete property. If unspecified, this value will be set to\n",
       "    \"new-password\" for \"password\" inputs, and the empty string for\n",
       "    \"default\" inputs. For more details, see https://developer.mozilla.org/en-US/docs/Web/HTML/Attributes/autocomplete\n",
       "\n",
       "on_change : callable\n",
       "    An optional callback invoked when this text input's value changes.\n",
       "\n",
       "args : tuple\n",
       "    An optional tuple of args to pass to the callback.\n",
       "\n",
       "kwargs : dict\n",
       "    An optional dict of kwargs to pass to the callback.\n",
       "\n",
       "placeholder : str or None\n",
       "    An optional string displayed when the text input is empty. If None,\n",
       "    no text is displayed.\n",
       "\n",
       "disabled : bool\n",
       "    An optional boolean, which disables the text input if set to True.\n",
       "    The default is False.\n",
       "\n",
       "label_visibility : \"visible\", \"hidden\", or \"collapsed\"\n",
       "    The visibility of the label. If \"hidden\", the label doesn't show but there\n",
       "    is still empty space for it above the widget (equivalent to label=\"\").\n",
       "    If \"collapsed\", both the label and the space are removed. Default is\n",
       "    \"visible\".\n",
       "\n",
       "Returns\n",
       "-------\n",
       "str or None\n",
       "    The current value of the text input widget or ``None`` if no value has been\n",
       "    provided by the user.\n",
       "\n",
       "Example\n",
       "-------\n",
       ">>> import streamlit as st\n",
       ">>>\n",
       ">>> title = st.text_input(\"Movie title\", \"Life of Brian\")\n",
       ">>> st.write(\"The current movie title is\", title)\n",
       "\n",
       ".. output::\n",
       "   https://doc-text-input.streamlit.app/\n",
       "   height: 260px\n",
       "\u001b[0;31mFile:\u001b[0m      /usr/local/python/3.10.13/lib/python3.10/site-packages/streamlit/elements/widgets/text_widgets.py\n",
       "\u001b[0;31mType:\u001b[0m      method"
      ]
     },
     "metadata": {},
     "output_type": "display_data"
    }
   ],
   "source": [
    "st.text_input?"
   ]
  },
  {
   "cell_type": "code",
   "execution_count": null,
   "id": "ceffe3f8-43fc-43ea-8671-7a4b39c6276e",
   "metadata": {},
   "outputs": [],
   "source": []
  }
 ],
 "metadata": {
  "kernelspec": {
   "display_name": "Python 3 (ipykernel)",
   "language": "python",
   "name": "python3"
  },
  "language_info": {
   "codemirror_mode": {
    "name": "ipython",
    "version": 3
   },
   "file_extension": ".py",
   "mimetype": "text/x-python",
   "name": "python",
   "nbconvert_exporter": "python",
   "pygments_lexer": "ipython3",
   "version": "3.10.13"
  }
 },
 "nbformat": 4,
 "nbformat_minor": 5
}
